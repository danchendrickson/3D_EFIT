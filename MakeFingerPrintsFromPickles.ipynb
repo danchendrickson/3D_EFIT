{
 "cells": [
  {
   "cell_type": "markdown",
   "id": "008474b4",
   "metadata": {},
   "source": [
    "# Make Animation from pickels files"
   ]
  },
  {
   "cell_type": "code",
   "execution_count": 1,
   "id": "e2527925",
   "metadata": {},
   "outputs": [],
   "source": [
    "#Standard Header used on the projects\n",
    "\n",
    "#first the major packages used for math and graphing\n",
    "import numpy as np\n",
    "import matplotlib.pyplot as plt\n",
    "from cycler import cycler\n",
    "import platform\n",
    "from joblib import Parallel, delayed\n",
    "\n",
    "#Custome graph format style sheet\n",
    "#plt.style.use('Prospectus.mplstyle')\n",
    "\n",
    "#If being run by a seperate file, use the seperate file's graph format and saving paramaeters\n",
    "#otherwise set what is needed\n",
    "if not 'Saving' in locals():\n",
    "    Saving = True\n",
    "if not 'Titles' in locals():\n",
    "    Titles = True\n",
    "if not 'Ledgends' in locals():\n",
    "    Ledgends = True\n",
    "if not 'FFormat' in locals():\n",
    "    FFormat = '.eps'"
   ]
  },
  {
   "cell_type": "code",
   "execution_count": 2,
   "id": "f3c145d5",
   "metadata": {},
   "outputs": [],
   "source": [
    "import multiprocessing\n",
    "from joblib import Parallel, delayed\n",
    "num_jobs=30"
   ]
  },
  {
   "cell_type": "code",
   "execution_count": 3,
   "id": "d9696c71",
   "metadata": {},
   "outputs": [
    {
     "name": "stderr",
     "output_type": "stream",
     "text": [
      "2024-01-07 12:03:49.874971: I tensorflow/core/platform/cpu_feature_guard.cc:193] This TensorFlow binary is optimized with oneAPI Deep Neural Network Library (oneDNN) to use the following CPU instructions in performance-critical operations:  SSE4.1 SSE4.2 AVX AVX2 FMA\n",
      "To enable them in other operations, rebuild TensorFlow with the appropriate compiler flags.\n"
     ]
    }
   ],
   "source": [
    "## Task specific imports\n",
    "import os as os\n",
    "import keras.utils as image\n",
    "import glob\n",
    "from PIL import Image, ImageDraw\n",
    "import pickle"
   ]
  },
  {
   "cell_type": "code",
   "execution_count": 4,
   "id": "38afbc10",
   "metadata": {},
   "outputs": [],
   "source": [
    "import math\n",
    " "
   ]
  },
  {
   "cell_type": "markdown",
   "id": "07395d66",
   "metadata": {},
   "source": [
    "## Choosing Platform\n",
    "Working is beinging conducted on several computers, and author needs to be able to run code on all without rewriting..  This segment of determines which computer is being used, and sets the directories accordingly."
   ]
  },
  {
   "cell_type": "code",
   "execution_count": 5,
   "id": "3c3a60b1",
   "metadata": {},
   "outputs": [],
   "source": [
    "HostName = platform.node()\n",
    "\n",
    "if HostName == \"Server\":\n",
    "    Computer = \"Desktop\"   \n",
    "elif HostName[-6:] == 'wm.edu':\n",
    "    Computer = \"SciClone\"\n",
    "elif HostName == \"SchoolLaptop\":\n",
    "    Computer = \"LinLap\"\n",
    "elif HostName == \"WTC-TAB-512\":\n",
    "    Computer = \"PortLap\"\n",
    "else:\n",
    "    Computer = \"WinLap\"\n",
    "    \n",
    "if Computer ==  \"SciClone\":\n",
    "    rootfolder = '/sciclone/scr10/dchendrickson01/EFIT/'\n",
    "    \n",
    "else:\n",
    "    asdfasdf"
   ]
  },
  {
   "cell_type": "markdown",
   "id": "c539f3a9",
   "metadata": {},
   "source": [
    "## Load data"
   ]
  },
  {
   "cell_type": "code",
   "execution_count": 6,
   "id": "2fe00d18",
   "metadata": {},
   "outputs": [],
   "source": [
    "Case = '15m10XRfRq'\n",
    "CasesAtaTime = 2\n",
    "FilesAtTime = 5\n",
    "ProcessPerFile = 5\n",
    "Position = 0 #0 Energy, 1 X axis, 2 Y Axis, 3 X axis\n",
    "skips = 2 #1 every data point, or skip what modulous\n",
    "\n",
    "imFolder=rootfolder+Case+'/'\n",
    "fileNames = glob.glob(imFolder+'Movements*.p')\n",
    "\n",
    "Views=[]"
   ]
  },
  {
   "cell_type": "code",
   "execution_count": 7,
   "id": "aba4ac5d",
   "metadata": {},
   "outputs": [],
   "source": [
    "fileName = imFolder+'Parameters.p'\n",
    "\n",
    "file=open(fileName,'rb')\n",
    "Parameters=pickle.load(file)\n",
    "\n",
    "file.close()\n"
   ]
  },
  {
   "cell_type": "code",
   "execution_count": 8,
   "id": "77860caa",
   "metadata": {},
   "outputs": [],
   "source": [
    "xmax = Parameters[\"LargestXnode\"]\n",
    "ymax = Parameters[\"LargestYnode\"]\n",
    "zmax = Parameters[\"LargestZnode\"]\n",
    "gridStartWeb = Parameters[\"WidthStartWebNode\"]\n",
    "gridEndWeb = Parameters[\"WidthEndWebNode\"]\n",
    "gridEndFoot = Parameters[\"HeightEndFootNode\"]\n",
    "gridStartHead = Parameters[\"HeightStartHeadNode\"]\n",
    "gridStartHeadWidth = Parameters[\"WidthStartHeadNode\"]\n",
    "gridEndHeadWidth = Parameters[\"WidthEndHeadNode\"]\n",
    "DataBucketSize = Parameters[\"SaveEveryXStep\"]"
   ]
  },
  {
   "cell_type": "code",
   "execution_count": 9,
   "id": "8218f010",
   "metadata": {},
   "outputs": [
    {
     "data": {
      "text/plain": [
       "{'AirCut': False,\n",
       " 'RailShape': True,\n",
       " 'Flaw': False,\n",
       " 'Length': 20,\n",
       " 'Width': 0.1524,\n",
       " 'Height': 0.1524,\n",
       " 'SaveFolder': '/sciclone/scr10/dchendrickson01/EFIT/15m10XRfRq/',\n",
       " 'RunTitle': '20m Rail At 10x long for 1k FP',\n",
       " 'TiesIncluded': 0,\n",
       " 'GridDesignFrequency': 49720,\n",
       " 'InputSignalFrequency': 16300,\n",
       " 'SimulationCycleLength': 60,\n",
       " 'ForcingFuctionNumber': 6,\n",
       " 'PerWheelForce': 173000,\n",
       " 'PoisonsRatio': 0.29,\n",
       " 'YoungsModulous': 200000000000,\n",
       " 'MaterialDensity': 7800,\n",
       " 'LongitudinalWaveSpeed': 5796.653896162343,\n",
       " 'TransverseWaveSpeeed': 3152.519949406393,\n",
       " 'TimeStepsSimLength': 12130,\n",
       " 'GridLengthNodes': 4000,\n",
       " 'GridWidthNodes': 30,\n",
       " 'GridHeightNodes': 30,\n",
       " 'LargestXnode': 3786,\n",
       " 'LargestYnode': 29,\n",
       " 'LargestZnode': 29,\n",
       " 'SaveEveryXStep': 250,\n",
       " 'HeightStartHeadNode': 19,\n",
       " 'WidthStartWebNode': 11,\n",
       " 'WidthEndWebNode': 18,\n",
       " 'HeightEndFootNode': 6,\n",
       " 'WidthStartHeadNode': 5,\n",
       " 'WidthEndHeadNode': 24,\n",
       " 'AbsorberLengthNodes': 101,\n",
       " 'AbsorptionPerNode': 0.5,\n",
       " 'ExpectedGoodData': 9051.593811466631}"
      ]
     },
     "execution_count": 9,
     "metadata": {},
     "output_type": "execute_result"
    }
   ],
   "source": [
    "Parameters"
   ]
  },
  {
   "cell_type": "markdown",
   "id": "e4a03e76",
   "metadata": {},
   "source": [
    "## Image making functions"
   ]
  },
  {
   "cell_type": "code",
   "execution_count": 10,
   "id": "ef4b19e3",
   "metadata": {},
   "outputs": [],
   "source": [
    "def getFigData(fileName, Position, skips, xStart, xEnd, yStart, yEnd, zStart, zEnd):\n",
    "    \n",
    "    file=open(fileName,'rb')\n",
    "    temp = pickle.load(file)\n",
    "    file.close()\n",
    "    \n",
    "    Data = temp[Position][:,:,:,0::skips]\n",
    "    \n",
    "    del temp\n",
    "\n",
    "\n",
    "    if xStart == xEnd:\n",
    "        ReturnData = Data[xStart,:,:,:]\n",
    "        ReturnData[:gridStartWeb-1,gridEndFoot+2:gridStartHead-2] = np.nan\n",
    "        ReturnData[:gridStartHeadWidth-1,gridStartHead-2:] = np.nan\n",
    "        ReturnData[gridEndWeb+2:,gridEndFoot+2:gridStartHead-1] = np.nan\n",
    "        ReturnData[gridEndHeadWidth+4:,gridStartHead-1:] = np.nan\n",
    "        \n",
    "    elif yStart == yEnd:\n",
    "        ReturnData = Data[:,yStart,:,:]\n",
    "    elif zStart == zEnd:\n",
    "        ReturnData = Data[:,:,zStart,:]\n",
    "    else:\n",
    "        print('Error no dimmension is a plane')\n",
    "        ReturnData = []\n",
    "        \n",
    "        \n",
    "    return ReturnData, int(fileName[-5:][:3])"
   ]
  },
  {
   "cell_type": "code",
   "execution_count": 11,
   "id": "e0331850",
   "metadata": {},
   "outputs": [],
   "source": [
    "def SimpleFig(Data, t, v, figW, figH, Folder):\n",
    "    \n",
    "    fig = plt.figure(figsize=(figH,figW), dpi=300)\n",
    "\n",
    "    Data = Data.T\n",
    "    \n",
    "    #print(Data.shape)\n",
    "    \n",
    "    plt.contourf(Data, v, cmap=plt.cm.jet)\n",
    "    plt.title(Folder+' '+str(t))\n",
    "    plt.savefig(imFolder+Folder+'/DataFrame'+str(t).zfill(5)+'.png')\n",
    "    \n",
    "    fig.clf()\n",
    "    plt.close(fig)\n",
    "    del fig\n",
    "\n",
    "    return 0"
   ]
  },
  {
   "cell_type": "code",
   "execution_count": 12,
   "id": "0d17bd96",
   "metadata": {},
   "outputs": [],
   "source": [
    "def CaseImage(View):\n",
    "    imfolder = rootfolder + Case + '/'+View+'/'\n",
    "    files = glob.glob(os.path.join(imfolder, '*.png'))\n",
    "    files.sort()\n",
    "    images = []\n",
    "\n",
    "    for file in files:\n",
    "        images.append(image.load_img(file))\n",
    "    try:\n",
    "        images[0].save(rootfolder + Case + '/Animated_'+View+'.gif',\n",
    "           save_all=True, append_images=images[1:], optimize=False, duration=40, loop=0)\n",
    "    except:\n",
    "        pass\n",
    "    return 0"
   ]
  },
  {
   "cell_type": "code",
   "execution_count": 13,
   "id": "8bd3561e",
   "metadata": {},
   "outputs": [],
   "source": [
    "def runCase(Case, skips):\n",
    "    \n",
    "    Position = Case[7]\n",
    "    xStart = Case[0]\n",
    "    xEnd = Case[1]\n",
    "    yStart = Case[2]\n",
    "    yEnd = Case[3]\n",
    "    zStart = Case[4]\n",
    "    zEnd = Case[5]\n",
    "    Folder = Case[6]\n",
    "    \n",
    "    temp = Parallel(n_jobs=FilesAtTime)(delayed(getFigData)\n",
    "                                        (fileName, Position, skips, xStart, xEnd, yStart, yEnd, zStart, zEnd) \n",
    "                                        for fileName in fileNames[:5])\n",
    "    \n",
    "    StackData = np.zeros((temp[0][0].shape[0],temp[0][0].shape[1],1))\n",
    "    \n",
    "    for group in temp:\n",
    "        try:\n",
    "            StackData = np.concatenate((StackData,group[0]),axis=2)\n",
    "        except:\n",
    "            pass\n",
    "    del temp\n",
    "    \n",
    "    EMin = np.min(StackData)\n",
    "    EMax = np.max(StackData)\n",
    "    v = np.linspace(EMin, EMax, 30, endpoint=True)[0:20]\n",
    "    \n",
    "    if os.path.isdir(imFolder+Folder):\n",
    "        pass\n",
    "    else:\n",
    "        os.makedirs(imFolder+Folder)\n",
    "        \n",
    "    figW = 6\n",
    "    figH = figW * (StackData.shape[0]/StackData.shape[1])\n",
    "    \n",
    "    #print(StackData[:,:,1].T.shape,StackData[:,:,17].T.shape,StackData[:,:,99].T.shape)\n",
    "    \n",
    "    #Parallel(n_jobs=ProcessPerFile)(delayed(SimpleFig)\n",
    "    #                                (StackData[:,:,i], i, v, figW, figH, Folder)\n",
    "    #                                for i in range(StackData.shape[2]))\n",
    "    for i in range(StackData.shape[2]):\n",
    "        a = SimpleFig(StackData[:,:,i], i, v, figW, figH, Folder)\n",
    "    \n",
    "    del StackData\n",
    "    #temp = CaseImage(Folder)"
   ]
  },
  {
   "cell_type": "code",
   "execution_count": 14,
   "id": "1bdf9182",
   "metadata": {},
   "outputs": [],
   "source": [
    "def getStackData(Case, skips):\n",
    "    \n",
    "    Position = Case[7]\n",
    "    xStart = Case[0]\n",
    "    xEnd = Case[1]\n",
    "    yStart = Case[2]\n",
    "    yEnd = Case[3]\n",
    "    zStart = Case[4]\n",
    "    zEnd = Case[5]\n",
    "    Folder = Case[6]\n",
    "    \n",
    "    temp = Parallel(n_jobs=FilesAtTime)(delayed(getFigData)\n",
    "                                        (fileName, Position, skips, xStart, xEnd, yStart, yEnd, zStart, zEnd) \n",
    "                                        for fileName in fileNames[:5])\n",
    "    \n",
    "    StackData = np.zeros((temp[0][0].shape[0],temp[0][0].shape[1],1))\n",
    "    \n",
    "    for group in temp:\n",
    "        try:\n",
    "            StackData = np.concatenate((StackData,group[0]),axis=2)\n",
    "        except:\n",
    "            pass\n",
    "    del temp\n",
    "    \n",
    "    return StackData"
   ]
  },
  {
   "cell_type": "markdown",
   "id": "a89430da",
   "metadata": {},
   "source": [
    "## make all the frames of all the cases"
   ]
  },
  {
   "cell_type": "code",
   "execution_count": 15,
   "id": "f106cb39",
   "metadata": {},
   "outputs": [],
   "source": [
    "\n",
    "GifsToMake=[]\n",
    "GifsToMake.append([xmax-4,xmax-4,0,ymax,0,zmax,\"EndM4\",1])\n",
    "GifsToMake.append([xmax-2,xmax-2,0,ymax,0,zmax,\"EndM2\",1])\n",
    "GifsToMake.append([xmax-6,xmax-6,0,ymax,0,zmax,\"EndM6\",1])\n",
    "GifsToMake.append([0,xmax,gridEndHeadWidth-1,gridEndHeadWidth-1,gridStartHead,zmax,\"HeadEnd\",2])\n",
    "GifsToMake.append([0,xmax,gridStartHeadWidth+1,gridStartHeadWidth+1,gridStartHead,zmax,\"HeadStart\",0])\n",
    "GifsToMake.append([0,xmax,gridStartHeadWidth,gridEndHeadWidth,zmax-3,zmax-3,\"TopSurface\",3])\n",
    "GifsToMake.append([0,xmax,gridStartHeadWidth,gridStartHeadWidth,gridStartHead,zmax,\"LeftSurface\",1])\n",
    "GifsToMake.append([0,xmax,gridStartWeb,gridStartWeb,gridEndFoot,gridStartHead,\"RightSurface\",1])\n",
    "GifsToMake.append([0,xmax,0,ymax,int((zmax - gridStartHead)/2)+gridStartHead,int((zmax - gridStartHead)/2)+gridStartHead,\"Head\",0])\n",
    "GifsToMake.append([0,xmax,gridStartWeb,gridEndWeb,int(zmax/2),int(zmax/2),\"Mid\",0])\n",
    "GifsToMake.append([0,xmax,int(ymax/2),int(ymax/2),0,zmax,\"Vert\",0])\n",
    "GifsToMake.append([0,xmax,gridStartWeb+1,gridStartWeb+1,gridEndFoot,gridStartHead,\"WebStart\",1])\n",
    "GifsToMake.append([0,xmax,gridEndWeb-1,gridEndWeb-1,gridEndFoot,gridStartHead,\"WebEnd\",1])\n"
   ]
  },
  {
   "cell_type": "code",
   "execution_count": 16,
   "id": "ff075c11",
   "metadata": {},
   "outputs": [],
   "source": [
    "Data = getStackData(GifsToMake[11],1)"
   ]
  },
  {
   "cell_type": "code",
   "execution_count": 17,
   "id": "0bdecb1d",
   "metadata": {},
   "outputs": [
    {
     "data": {
      "image/png": "[encoded data removed]",
      "text/plain": [
       "<Figure size 900x900 with 1 Axes>"
      ]
     },
     "metadata": {},
     "output_type": "display_data"
    }
   ],
   "source": [
    "fig = plt.figure(figsize=(3,3), dpi=300)\n",
    "\n",
    "plt.contourf(Data[:,:,250].T, cmap=plt.cm.jet)\n",
    "plt.title('Test')\n",
    "plt.show()\n"
   ]
  },
  {
   "cell_type": "code",
   "execution_count": 18,
   "id": "9c57c1a3",
   "metadata": {},
   "outputs": [
    {
     "data": {
      "image/png": "[encoded data removed]",
      "text/plain": [
       "<Figure size 640x480 with 1 Axes>"
      ]
     },
     "metadata": {},
     "output_type": "display_data"
    }
   ],
   "source": [
    "fig = plt.figure()\n",
    "plt.plot(Data[20,20,:])\n",
    "plt.plot(Data[27,20,:])\n",
    "plt.plot(Data[20,20,:]-Data[27,20,:])\n",
    "plt.show()"
   ]
  },
  {
   "cell_type": "markdown",
   "id": "df75b738",
   "metadata": {},
   "source": [
    "## FingerPrinting"
   ]
  },
  {
   "cell_type": "code",
   "execution_count": 19,
   "id": "410bfbb7",
   "metadata": {},
   "outputs": [],
   "source": [
    "import CoreFunctions as cf"
   ]
  },
  {
   "cell_type": "code",
   "execution_count": 20,
   "id": "e9569d7e",
   "metadata": {},
   "outputs": [
    {
     "ename": "NameError",
     "evalue": "name 'getThumbprint2' is not defined",
     "output_type": "error",
     "traceback": [
      "\u001b[0;31m---------------------------------------------------------------------------\u001b[0m",
      "\u001b[0;31mNameError\u001b[0m                                 Traceback (most recent call last)",
      "Cell \u001b[0;32mIn[20], line 1\u001b[0m\n\u001b[0;32m----> 1\u001b[0m TP1 \u001b[38;5;241m=\u001b[39m \u001b[43mgetThumbprint2\u001b[49m(Data[\u001b[38;5;241m20\u001b[39m,\u001b[38;5;241m20\u001b[39m,:], wvt\u001b[38;5;241m=\u001b[39m\u001b[38;5;124m'\u001b[39m\u001b[38;5;124mdb2\u001b[39m\u001b[38;5;124m'\u001b[39m, ns\u001b[38;5;241m=\u001b[39m\u001b[38;5;241m1000\u001b[39m, scalespace \u001b[38;5;241m=\u001b[39m \u001b[38;5;241m1\u001b[39m, numslices\u001b[38;5;241m=\u001b[39m\u001b[38;5;241m5\u001b[39m, slicethickness\u001b[38;5;241m=\u001b[39m\u001b[38;5;241m0.12\u001b[39m, \n\u001b[1;32m      2\u001b[0m                   valleysorpeaks\u001b[38;5;241m=\u001b[39m\u001b[38;5;124m'\u001b[39m\u001b[38;5;124mboth\u001b[39m\u001b[38;5;124m'\u001b[39m, normconstant\u001b[38;5;241m=\u001b[39m\u001b[38;5;241m1\u001b[39m, plot\u001b[38;5;241m=\u001b[39m\u001b[38;5;28;01mTrue\u001b[39;00m)\n",
      "\u001b[0;31mNameError\u001b[0m: name 'getThumbprint2' is not defined"
     ]
    }
   ],
   "source": [
    "TP1 = getThumbprint2(Data[20,20,:], wvt='db2', ns=1000, scalespace = 1, numslices=5, slicethickness=0.12, \n",
    "                  valleysorpeaks='both', normconstant=1, plot=True)"
   ]
  },
  {
   "cell_type": "code",
   "execution_count": null,
   "id": "7a0ddaef",
   "metadata": {},
   "outputs": [],
   "source": [
    "TP2 = getThumbprint2(Data[27,20,:], wvt='db2', ns=1000, scalespace = 1, numslices=5, slicethickness=0.12, \n",
    "                  valleysorpeaks='both', normconstant=1, plot=True)"
   ]
  },
  {
   "cell_type": "code",
   "execution_count": null,
   "id": "1241017a",
   "metadata": {},
   "outputs": [],
   "source": [
    "TPD = getThumbprint2(Data[20,20,:]-Data[27,20,:], wvt='db2', ns=1000, scalespace = 1, numslices=5, slicethickness=0.12, \n",
    "                  valleysorpeaks='both', normconstant=1, plot=True)"
   ]
  }
 ],
 "metadata": {
  "kernelspec": {
   "display_name": "Simple",
   "language": "python",
   "name": "simple"
  },
  "language_info": {
   "codemirror_mode": {
    "name": "ipython",
    "version": 3
   },
   "file_extension": ".py",
   "mimetype": "text/x-python",
   "name": "python",
   "nbconvert_exporter": "python",
   "pygments_lexer": "ipython3",
   "version": "3.10.9"
  }
 },
 "nbformat": 4,
 "nbformat_minor": 5
}
