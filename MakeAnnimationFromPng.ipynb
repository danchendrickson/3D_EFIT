{
 "cells": [
  {
   "cell_type": "markdown",
   "id": "008474b4",
   "metadata": {},
   "source": [
    "# Make Animation from png images"
   ]
  },
  {
   "cell_type": "code",
   "execution_count": 5,
   "id": "e2527925",
   "metadata": {},
   "outputs": [],
   "source": [
    "#Standard Header used on the projects\n",
    "\n",
    "#first the major packages used for math and graphing\n",
    "import numpy as np\n",
    "import matplotlib.pyplot as plt\n",
    "from cycler import cycler\n",
    "import platform\n",
    "from joblib import Parallel, delayed\n",
    "\n",
    "#Custome graph format style sheet\n",
    "plt.style.use('Prospectus.mplstyle')\n",
    "\n",
    "#If being run by a seperate file, use the seperate file's graph format and saving paramaeters\n",
    "#otherwise set what is needed\n",
    "if not 'Saving' in locals():\n",
    "    Saving = True\n",
    "if not 'Titles' in locals():\n",
    "    Titles = True\n",
    "if not 'Ledgends' in locals():\n",
    "    Ledgends = True\n",
    "if not 'FFormat' in locals():\n",
    "    FFormat = '.eps'"
   ]
  },
  {
   "cell_type": "code",
   "execution_count": 6,
   "id": "38afbc10",
   "metadata": {},
   "outputs": [
    {
     "name": "stderr",
     "output_type": "stream",
     "text": [
      "2023-09-14 21:23:13.092673: I tensorflow/core/platform/cpu_feature_guard.cc:193] This TensorFlow binary is optimized with oneAPI Deep Neural Network Library (oneDNN) to use the following CPU instructions in performance-critical operations:  SSE4.1 SSE4.2 AVX AVX2 FMA\n",
      "To enable them in other operations, rebuild TensorFlow with the appropriate compiler flags.\n"
     ]
    }
   ],
   "source": [
    "## Task specific imports\n",
    "import os as os\n",
    "import keras.utils as image\n",
    "import glob\n",
    "from PIL import Image, ImageDraw"
   ]
  },
  {
   "cell_type": "markdown",
   "id": "07395d66",
   "metadata": {},
   "source": [
    "## Choosing Platform\n",
    "Working is beinging conducted on several computers, and author needs to be able to run code on all without rewriting..  This segment of determines which computer is being used, and sets the directories accordingly."
   ]
  },
  {
   "cell_type": "code",
   "execution_count": 7,
   "id": "3c3a60b1",
   "metadata": {},
   "outputs": [],
   "source": [
    "HostName = platform.node()\n",
    "\n",
    "if HostName == \"Server\":\n",
    "    Computer = \"Desktop\"   \n",
    "elif HostName[-6:] == 'wm.edu':\n",
    "    Computer = \"SciClone\"\n",
    "elif HostName == \"SchoolLaptop\":\n",
    "    Computer = \"LinLap\"\n",
    "elif HostName == \"WTC-TAB-512\":\n",
    "    Computer = \"PortLap\"\n",
    "else:\n",
    "    Computer = \"WinLap\"\n",
    "    \n",
    "if Computer ==  \"SciClone\":\n",
    "    rootfolder = '/sciclone/scr10/dchendrickson01/'\n",
    "    \n",
    "else:\n",
    "    asdfasdf"
   ]
  },
  {
   "cell_type": "markdown",
   "id": "c539f3a9",
   "metadata": {},
   "source": [
    "## Load data"
   ]
  },
  {
   "cell_type": "code",
   "execution_count": 16,
   "id": "85d34854",
   "metadata": {},
   "outputs": [],
   "source": [
    "\n",
    "Cases = ['DoubleTest']    #'SideRub','TopHit', 'Cube', 'CubeS'PlaneWave'BiggerAcTii','BiggerShTii','JBStyle''Cube'\n",
    "Views = ['Mid', 'Vert','Head','zplane25','zplane75','TopSurface','Energy','LeftSurface','RightSurface','TopEnergy','HeadEnd','WebEnd']\n",
    "#Views = ['HeadEnd','WebEnd']\n"
   ]
  },
  {
   "cell_type": "code",
   "execution_count": 17,
   "id": "e60cc31f",
   "metadata": {},
   "outputs": [],
   "source": [
    "for View in Views:\n",
    "    for Case in Cases:\n",
    "        imfolder = rootfolder + 'EFIT/' + Case + '/'+View+'/'\n",
    "        files = glob.glob(os.path.join(imfolder, '*.png'))\n",
    "        files.sort()\n",
    "        images = []\n",
    "\n",
    "        for file in files:\n",
    "            images.append(image.load_img(file))\n",
    "        try:\n",
    "            images[0].save(rootfolder + 'EFIT/' + Case + '/Testing'+View+'.gif',\n",
    "               save_all=True, append_images=images[1:], optimize=False, duration=40, loop=0)\n",
    "        except:\n",
    "            pass"
   ]
  },
  {
   "cell_type": "code",
   "execution_count": null,
   "id": "6f4be87f",
   "metadata": {},
   "outputs": [],
   "source": []
  },
  {
   "cell_type": "code",
   "execution_count": 2,
   "id": "8fa0ac38",
   "metadata": {},
   "outputs": [],
   "source": [
    "import numpy as np"
   ]
  },
  {
   "cell_type": "code",
   "execution_count": 15,
   "id": "495dc4cf",
   "metadata": {},
   "outputs": [
    {
     "name": "stdout",
     "output_type": "stream",
     "text": [
      "74570 2999866.5691894107 9.93471905099199\n",
      "74571 2999906.798055834 9.93485227774606\n",
      "74572 2999947.0269222576 9.934985504500132\n",
      "74573 2999987.2557886816 9.935118731254201\n",
      "74574 3000027.484655104 9.935251958008271\n",
      "74575 3000067.713521528 9.935385184762342\n",
      "74576 3000107.942387951 9.93551841151641\n",
      "74577 3000148.171254374 9.93565163827048\n",
      "74578 3000188.400120798 9.935784865024551\n",
      "74579 3000228.628987221 9.93591809177862\n",
      "74580 3000268.8578536436 9.936051318532689\n",
      "74581 3000309.086720067 9.936184545286759\n",
      "74582 3000349.315586491 9.93631777204083\n",
      "74583 3000389.544452915 9.936450998794902\n",
      "74584 3000429.7733193375 9.93658422554897\n",
      "74585 3000470.002185761 9.93671745230304\n",
      "74586 3000510.2310521845 9.936850679057109\n",
      "74587 3000550.4599186075 9.936983905811179\n",
      "74588 3000590.688785031 9.937117132565248\n",
      "74589 3000630.9176514545 9.937250359319318\n",
      "74590 3000671.1465178784 9.93738358607339\n",
      "74591 3000711.3753843014 9.93751681282746\n",
      "74592 3000751.6042507244 9.937650039581529\n",
      "74593 3000791.833117148 9.937783266335598\n",
      "74594 3000832.0619835714 9.93791649308967\n",
      "74595 3000872.290849995 9.93804971984374\n",
      "74596 3000912.519716418 9.938182946597808\n",
      "74597 3000952.7485828414 9.938316173351879\n",
      "74598 3000992.977449265 9.938449400105949\n",
      "74599 3001033.2063156883 9.938582626860018\n",
      "74600 3001073.4351821113 9.93871585361409\n",
      "74601 3001113.6640485344 9.938849080368158\n",
      "74602 3001153.8929149583 9.938982307122227\n",
      "74603 3001194.121781382 9.939115533876297\n",
      "74604 3001234.350647805 9.939248760630367\n",
      "74605 3001274.5795142283 9.939381987384436\n",
      "74606 3001314.8083806518 9.939515214138508\n",
      "74607 3001355.0372470752 9.939648440892578\n",
      "74608 3001395.2661134987 9.939781667646647\n",
      "74609 3001435.4949799217 9.939914894400717\n",
      "74610 3001475.7238463447 9.940048121154787\n",
      "74611 3001515.952712768 9.940181347908858\n",
      "74612 3001556.181579192 9.940314574662928\n",
      "74613 3001596.410445615 9.940447801416997\n",
      "74614 3001636.6393120387 9.940581028171067\n",
      "74615 3001676.868178461 9.940714254925135\n",
      "74616 3001717.097044885 9.940847481679207\n",
      "74617 3001757.3259113086 9.940980708433276\n",
      "74618 3001797.5547777317 9.941113935187346\n",
      "74619 3001837.783644155 9.941247161941416\n",
      "74620 3001878.012510578 9.941380388695485\n",
      "74621 3001918.241377002 9.941513615449557\n",
      "74622 3001958.470243425 9.941646842203626\n",
      "74623 3001998.699109848 9.941780068957696\n",
      "74624 3002038.927976272 9.941913295711766\n",
      "74625 3002079.1568426955 9.942046522465837\n",
      "74626 3002119.385709119 9.942179749219905\n",
      "74627 3002159.6145755416 9.942312975973975\n",
      "74628 3002199.843441965 9.942446202728046\n",
      "74629 3002240.072308389 9.942579429482116\n",
      "74630 3002280.301174812 9.942712656236186\n",
      "74631 3002320.530041236 9.942845882990255\n",
      "74632 3002360.7589076585 9.942979109744325\n",
      "74633 3002400.987774082 9.943112336498395\n",
      "74634 3002441.216640506 9.943245563252466\n",
      "74635 3002481.4455069294 9.943378790006536\n",
      "74636 3002521.674373352 9.943512016760604\n",
      "74637 3002561.903239776 9.943645243514675\n",
      "74638 3002602.1321061985 9.943778470268745\n",
      "74639 3002642.3609726224 9.943911697022815\n",
      "74640 3002682.589839045 9.944044923776882\n",
      "74641 3002722.818705469 9.944178150530952\n",
      "74642 3002763.047571893 9.944311377285024\n",
      "74643 3002803.2764383154 9.944444604039093\n",
      "74644 3002843.505304739 9.944577830793165\n",
      "74645 3002883.7341711624 9.944711057547233\n",
      "74646 3002923.963037586 9.944844284301304\n",
      "74647 3002964.191904009 9.944977511055374\n",
      "74648 3003004.420770432 9.945110737809442\n",
      "74649 3003044.649636856 9.945243964563513\n",
      "74650 3003084.878503279 9.945377191317583\n",
      "74651 3003125.107369703 9.945510418071654\n",
      "74652 3003165.336236126 9.945643644825722\n",
      "74653 3003205.5651025493 9.945776871579794\n",
      "74654 3003245.7939689723 9.945910098333863\n",
      "74655 3003286.0228353958 9.946043325087931\n",
      "74656 3003326.2517018192 9.946176551842003\n",
      "74657 3003366.4805682427 9.946309778596072\n",
      "74658 3003406.7094346657 9.946443005350142\n",
      "74659 3003446.938301089 9.946576232104212\n",
      "74660 3003487.1671675127 9.946709458858281\n",
      "74661 3003527.396033936 9.946842685612353\n",
      "74662 3003567.6249003597 9.946975912366423\n",
      "74663 3003607.853766782 9.947109139120492\n",
      "74664 3003648.0826332057 9.94724236587456\n",
      "74665 3003688.311499629 9.947375592628632\n",
      "74666 3003728.540366053 9.947508819382703\n",
      "74667 3003768.769232476 9.947642046136773\n",
      "74668 3003808.9980988996 9.94777527289084\n",
      "74669 3003849.2269653226 9.94790849964491\n"
     ]
    }
   ],
   "source": [
    "#Choose ferquency to be used for excitment\n",
    "frequency = 60000\n",
    "\n",
    "pRatio1 = 0.29                                    #poission's ratio in \n",
    "yModulus1 = 200 * (10**9)                           #youngs modulus in pascals\n",
    "rho1 = 7800                                        #density in kg/m^3\n",
    "\n",
    "\n",
    "#CALCULATED PARAMETERS FROM INPUTS\n",
    "\n",
    "mu1 = yModulus1/(2*(1+pRatio1))                    #second Lame Parameter\n",
    "lmbda1 = 2 * mu1 * pRatio1 / (1 - 2 * pRatio1)     #first Lame Parameter\n",
    "#Calculate speed of longitudinal and transverse waves in material 1\n",
    "cl1 = np.sqrt((lmbda1 + 2* mu1)/rho1)\n",
    "ct1 = np.sqrt(mu1/rho1)\n",
    "\n",
    "\n",
    "for i in range(100):\n",
    "    frequency = 74570 + (i) * 1\n",
    "    #calculate wave lengths for material 1\n",
    "    omegaL1 = cl1 / frequency\n",
    "    omegaT1 = ct1 / frequency\n",
    "\n",
    "    gs = (min(omegaL1, omegaT1) /12)    #grid step, omegaL2,omegaT2\n",
    "    ts = gs/((max(cl1,ct1))*(np.sqrt(3)))*0.95 #time step, cl2,ct2\n",
    "    \n",
    "    print(frequency, 1/ts, 0.035/gs)\n",
    "\n"
   ]
  },
  {
   "cell_type": "code",
   "execution_count": null,
   "id": "0be2615c",
   "metadata": {},
   "outputs": [],
   "source": []
  }
 ],
 "metadata": {
  "kernelspec": {
   "display_name": "Simple",
   "language": "python",
   "name": "simple"
  },
  "language_info": {
   "codemirror_mode": {
    "name": "ipython",
    "version": 3
   },
   "file_extension": ".py",
   "mimetype": "text/x-python",
   "name": "python",
   "nbconvert_exporter": "python",
   "pygments_lexer": "ipython3",
   "version": "3.10.9"
  }
 },
 "nbformat": 4,
 "nbformat_minor": 5
}
