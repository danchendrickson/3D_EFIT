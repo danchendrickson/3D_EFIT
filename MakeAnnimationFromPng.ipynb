{
 "cells": [
  {
   "cell_type": "markdown",
   "id": "008474b4",
   "metadata": {},
   "source": [
    "# Make Animation from png images"
   ]
  },
  {
   "cell_type": "code",
   "execution_count": 1,
   "id": "e2527925",
   "metadata": {},
   "outputs": [],
   "source": [
    "#Standard Header used on the projects\n",
    "\n",
    "#first the major packages used for math and graphing\n",
    "import numpy as np\n",
    "import matplotlib.pyplot as plt\n",
    "from cycler import cycler\n",
    "import platform\n",
    "from joblib import Parallel, delayed\n",
    "\n",
    "#Custome graph format style sheet\n",
    "plt.style.use('Prospectus.mplstyle')\n",
    "\n",
    "#If being run by a seperate file, use the seperate file's graph format and saving paramaeters\n",
    "#otherwise set what is needed\n",
    "if not 'Saving' in locals():\n",
    "    Saving = True\n",
    "if not 'Titles' in locals():\n",
    "    Titles = True\n",
    "if not 'Ledgends' in locals():\n",
    "    Ledgends = True\n",
    "if not 'FFormat' in locals():\n",
    "    FFormat = '.eps'"
   ]
  },
  {
   "cell_type": "code",
   "execution_count": 2,
   "id": "38afbc10",
   "metadata": {},
   "outputs": [
    {
     "name": "stderr",
     "output_type": "stream",
     "text": [
      "2023-12-10 12:05:12.345720: I tensorflow/core/platform/cpu_feature_guard.cc:193] This TensorFlow binary is optimized with oneAPI Deep Neural Network Library (oneDNN) to use the following CPU instructions in performance-critical operations:  SSE4.1 SSE4.2 AVX AVX2 FMA\n",
      "To enable them in other operations, rebuild TensorFlow with the appropriate compiler flags.\n"
     ]
    }
   ],
   "source": [
    "## Task specific imports\n",
    "import os as os\n",
    "import keras.utils as image\n",
    "import glob\n",
    "from PIL import Image, ImageDraw"
   ]
  },
  {
   "cell_type": "markdown",
   "id": "07395d66",
   "metadata": {},
   "source": [
    "## Choosing Platform\n",
    "Working is beinging conducted on several computers, and author needs to be able to run code on all without rewriting..  This segment of determines which computer is being used, and sets the directories accordingly."
   ]
  },
  {
   "cell_type": "code",
   "execution_count": 3,
   "id": "3c3a60b1",
   "metadata": {},
   "outputs": [],
   "source": [
    "HostName = platform.node()\n",
    "\n",
    "if HostName == \"Server\":\n",
    "    Computer = \"Desktop\"   \n",
    "elif HostName[-6:] == 'wm.edu':\n",
    "    Computer = \"SciClone\"\n",
    "elif HostName == \"SchoolLaptop\":\n",
    "    Computer = \"LinLap\"\n",
    "elif HostName == \"WTC-TAB-512\":\n",
    "    Computer = \"PortLap\"\n",
    "else:\n",
    "    Computer = \"WinLap\"\n",
    "    \n",
    "if Computer ==  \"SciClone\":\n",
    "    rootfolder = '/sciclone/scr10/dchendrickson01/'\n",
    "    \n",
    "else:\n",
    "    asdfasdf"
   ]
  },
  {
   "cell_type": "markdown",
   "id": "c539f3a9",
   "metadata": {},
   "source": [
    "## Load data"
   ]
  },
  {
   "cell_type": "code",
   "execution_count": 10,
   "id": "85d34854",
   "metadata": {},
   "outputs": [],
   "source": [
    "\n",
    "Cases = ['Double2.5ma']    #'SideRub','TopHit', 'Cube', 'CubeS'PlaneWave'BiggerAcTii','BiggerShTii','JBStyle''Cube'\n",
    "Views = ['Mid', 'Vert','Head','zplane25','zplane75','TopSurface','Energy','LeftSurface','RightSurface','TopEnergy','HeadEnd','WebEnd','HeadStart','WebStart']\n",
    "#Views = ['HeadEnd','WebEnd']\n"
   ]
  },
  {
   "cell_type": "code",
   "execution_count": 11,
   "id": "570f7534",
   "metadata": {},
   "outputs": [],
   "source": [
    "def CaseImage(Case):\n",
    "    imfolder = rootfolder + 'EFIT/' + Case + '/'+View+'/'\n",
    "    files = glob.glob(os.path.join(imfolder, '*.png'))\n",
    "    files.sort()\n",
    "    images = []\n",
    "\n",
    "    for file in files:\n",
    "        images.append(image.load_img(file))\n",
    "    try:\n",
    "        images[0].save(rootfolder + 'EFIT/' + Case + '/Testing'+View+'.gif',\n",
    "           save_all=True, append_images=images[1:], optimize=False, duration=40, loop=0)\n",
    "    except:\n",
    "        pass\n",
    "    return 0"
   ]
  },
  {
   "cell_type": "code",
   "execution_count": 13,
   "id": "e60cc31f",
   "metadata": {},
   "outputs": [
    {
     "name": "stderr",
     "output_type": "stream",
     "text": [
      "2023-12-10 12:20:52.854825: I tensorflow/core/platform/cpu_feature_guard.cc:193] This TensorFlow binary is optimized with oneAPI Deep Neural Network Library (oneDNN) to use the following CPU instructions in performance-critical operations:  SSE4.1 SSE4.2 AVX AVX2 FMA\n",
      "To enable them in other operations, rebuild TensorFlow with the appropriate compiler flags.\n",
      "2023-12-10 12:21:09.641992: I tensorflow/core/platform/cpu_feature_guard.cc:193] This TensorFlow binary is optimized with oneAPI Deep Neural Network Library (oneDNN) to use the following CPU instructions in performance-critical operations:  SSE4.1 SSE4.2 AVX AVX2 FMA\n",
      "To enable them in other operations, rebuild TensorFlow with the appropriate compiler flags.\n",
      "2023-12-10 12:21:22.202910: I tensorflow/core/platform/cpu_feature_guard.cc:193] This TensorFlow binary is optimized with oneAPI Deep Neural Network Library (oneDNN) to use the following CPU instructions in performance-critical operations:  SSE4.1 SSE4.2 AVX AVX2 FMA\n",
      "To enable them in other operations, rebuild TensorFlow with the appropriate compiler flags.\n",
      "2023-12-10 12:21:30.452859: I tensorflow/core/platform/cpu_feature_guard.cc:193] This TensorFlow binary is optimized with oneAPI Deep Neural Network Library (oneDNN) to use the following CPU instructions in performance-critical operations:  SSE4.1 SSE4.2 AVX AVX2 FMA\n",
      "To enable them in other operations, rebuild TensorFlow with the appropriate compiler flags.\n",
      "2023-12-10 12:21:33.817054: I tensorflow/core/platform/cpu_feature_guard.cc:193] This TensorFlow binary is optimized with oneAPI Deep Neural Network Library (oneDNN) to use the following CPU instructions in performance-critical operations:  SSE4.1 SSE4.2 AVX AVX2 FMA\n",
      "To enable them in other operations, rebuild TensorFlow with the appropriate compiler flags.\n",
      "2023-12-10 12:21:37.060522: I tensorflow/core/platform/cpu_feature_guard.cc:193] This TensorFlow binary is optimized with oneAPI Deep Neural Network Library (oneDNN) to use the following CPU instructions in performance-critical operations:  SSE4.1 SSE4.2 AVX AVX2 FMA\n",
      "To enable them in other operations, rebuild TensorFlow with the appropriate compiler flags.\n",
      "2023-12-10 12:21:44.125206: I tensorflow/core/platform/cpu_feature_guard.cc:193] This TensorFlow binary is optimized with oneAPI Deep Neural Network Library (oneDNN) to use the following CPU instructions in performance-critical operations:  SSE4.1 SSE4.2 AVX AVX2 FMA\n",
      "To enable them in other operations, rebuild TensorFlow with the appropriate compiler flags.\n",
      "2023-12-10 12:21:47.325458: I tensorflow/core/platform/cpu_feature_guard.cc:193] This TensorFlow binary is optimized with oneAPI Deep Neural Network Library (oneDNN) to use the following CPU instructions in performance-critical operations:  SSE4.1 SSE4.2 AVX AVX2 FMA\n",
      "To enable them in other operations, rebuild TensorFlow with the appropriate compiler flags.\n",
      "2023-12-10 12:21:54.432838: I tensorflow/core/platform/cpu_feature_guard.cc:193] This TensorFlow binary is optimized with oneAPI Deep Neural Network Library (oneDNN) to use the following CPU instructions in performance-critical operations:  SSE4.1 SSE4.2 AVX AVX2 FMA\n",
      "To enable them in other operations, rebuild TensorFlow with the appropriate compiler flags.\n",
      "2023-12-10 12:22:02.638672: I tensorflow/core/platform/cpu_feature_guard.cc:193] This TensorFlow binary is optimized with oneAPI Deep Neural Network Library (oneDNN) to use the following CPU instructions in performance-critical operations:  SSE4.1 SSE4.2 AVX AVX2 FMA\n",
      "To enable them in other operations, rebuild TensorFlow with the appropriate compiler flags.\n",
      "2023-12-10 12:22:06.081898: I tensorflow/core/platform/cpu_feature_guard.cc:193] This TensorFlow binary is optimized with oneAPI Deep Neural Network Library (oneDNN) to use the following CPU instructions in performance-critical operations:  SSE4.1 SSE4.2 AVX AVX2 FMA\n",
      "To enable them in other operations, rebuild TensorFlow with the appropriate compiler flags.\n",
      "2023-12-10 12:22:13.042823: I tensorflow/core/platform/cpu_feature_guard.cc:193] This TensorFlow binary is optimized with oneAPI Deep Neural Network Library (oneDNN) to use the following CPU instructions in performance-critical operations:  SSE4.1 SSE4.2 AVX AVX2 FMA\n",
      "To enable them in other operations, rebuild TensorFlow with the appropriate compiler flags.\n",
      "2023-12-10 12:22:21.095719: I tensorflow/core/platform/cpu_feature_guard.cc:193] This TensorFlow binary is optimized with oneAPI Deep Neural Network Library (oneDNN) to use the following CPU instructions in performance-critical operations:  SSE4.1 SSE4.2 AVX AVX2 FMA\n",
      "To enable them in other operations, rebuild TensorFlow with the appropriate compiler flags.\n",
      "2023-12-10 12:22:28.023793: I tensorflow/core/platform/cpu_feature_guard.cc:193] This TensorFlow binary is optimized with oneAPI Deep Neural Network Library (oneDNN) to use the following CPU instructions in performance-critical operations:  SSE4.1 SSE4.2 AVX AVX2 FMA\n",
      "To enable them in other operations, rebuild TensorFlow with the appropriate compiler flags.\n"
     ]
    },
    {
     "name": "stdout",
     "output_type": "stream",
     "text": [
      "[0]\n"
     ]
    },
    {
     "data": {
      "text/plain": [
       "\"\\n    for Case in Cases:\\n        imfolder = rootfolder + 'EFIT/' + Case + '/'+View+'/'\\n        files = glob.glob(os.path.join(imfolder, '*.png'))\\n        files.sort()\\n        images = []\\n\\n        for file in files:\\n            images.append(image.load_img(file))\\n        try:\\n            images[0].save(rootfolder + 'EFIT/' + Case + '/Testing'+View+'.gif',\\n               save_all=True, append_images=images[1:], optimize=False, duration=40, loop=0)\\n        except:\\n            pass\\n\""
      ]
     },
     "execution_count": 13,
     "metadata": {},
     "output_type": "execute_result"
    }
   ],
   "source": [
    "for View in Views:\n",
    "    nothiing = Parallel(n_jobs=30)(delayed(CaseImage)(Case) for Case in Cases)\n",
    "print(nothiing)\n",
    "'''\n",
    "    for Case in Cases:\n",
    "        imfolder = rootfolder + 'EFIT/' + Case + '/'+View+'/'\n",
    "        files = glob.glob(os.path.join(imfolder, '*.png'))\n",
    "        files.sort()\n",
    "        images = []\n",
    "\n",
    "        for file in files:\n",
    "            images.append(image.load_img(file))\n",
    "        try:\n",
    "            images[0].save(rootfolder + 'EFIT/' + Case + '/Testing'+View+'.gif',\n",
    "               save_all=True, append_images=images[1:], optimize=False, duration=40, loop=0)\n",
    "        except:\n",
    "            pass\n",
    "'''    "
   ]
  },
  {
   "cell_type": "code",
   "execution_count": 6,
   "id": "6f4be87f",
   "metadata": {},
   "outputs": [
    {
     "ename": "NameError",
     "evalue": "name 'asdfasdf' is not defined",
     "output_type": "error",
     "traceback": [
      "\u001b[0;31m---------------------------------------------------------------------------\u001b[0m",
      "\u001b[0;31mNameError\u001b[0m                                 Traceback (most recent call last)",
      "Cell \u001b[0;32mIn[6], line 1\u001b[0m\n\u001b[0;32m----> 1\u001b[0m \u001b[43masdfasdf\u001b[49m\n",
      "\u001b[0;31mNameError\u001b[0m: name 'asdfasdf' is not defined"
     ]
    }
   ],
   "source": [
    "asdfasdf"
   ]
  },
  {
   "cell_type": "code",
   "execution_count": null,
   "id": "8fa0ac38",
   "metadata": {},
   "outputs": [],
   "source": [
    "import numpy as np"
   ]
  },
  {
   "cell_type": "code",
   "execution_count": null,
   "id": "495dc4cf",
   "metadata": {},
   "outputs": [],
   "source": [
    "#Choose ferquency to be used for excitment\n",
    "frequency = 60000\n",
    "\n",
    "pRatio1 = 0.29                                    #poission's ratio in \n",
    "yModulus1 = 200 * (10**9)                           #youngs modulus in pascals\n",
    "rho1 = 7800                                        #density in kg/m^3\n",
    "\n",
    "\n",
    "#CALCULATED PARAMETERS FROM INPUTS\n",
    "\n",
    "mu1 = yModulus1/(2*(1+pRatio1))                    #second Lame Parameter\n",
    "lmbda1 = 2 * mu1 * pRatio1 / (1 - 2 * pRatio1)     #first Lame Parameter\n",
    "#Calculate speed of longitudinal and transverse waves in material 1\n",
    "cl1 = np.sqrt((lmbda1 + 2* mu1)/rho1)\n",
    "ct1 = np.sqrt(mu1/rho1)\n",
    "\n",
    "\n",
    "for i in range(100):\n",
    "    frequency = 74570 + (i) * 1\n",
    "    #calculate wave lengths for material 1\n",
    "    omegaL1 = cl1 / frequency\n",
    "    omegaT1 = ct1 / frequency\n",
    "\n",
    "    gs = (min(omegaL1, omegaT1) /12)    #grid step, omegaL2,omegaT2\n",
    "    ts = gs/((max(cl1,ct1))*(np.sqrt(3)))*0.95 #time step, cl2,ct2\n",
    "    \n",
    "    print(frequency, 1/ts, 0.035/gs)\n",
    "\n"
   ]
  },
  {
   "cell_type": "code",
   "execution_count": null,
   "id": "0be2615c",
   "metadata": {},
   "outputs": [],
   "source": []
  }
 ],
 "metadata": {
  "kernelspec": {
   "display_name": "Simple",
   "language": "python",
   "name": "simple"
  },
  "language_info": {
   "codemirror_mode": {
    "name": "ipython",
    "version": 3
   },
   "file_extension": ".py",
   "mimetype": "text/x-python",
   "name": "python",
   "nbconvert_exporter": "python",
   "pygments_lexer": "ipython3",
   "version": "3.10.9"
  }
 },
 "nbformat": 4,
 "nbformat_minor": 5
}
