{
 "cells": [
  {
   "cell_type": "markdown",
   "id": "008474b4",
   "metadata": {},
   "source": [
    "# Make Animation from png images"
   ]
  },
  {
   "cell_type": "code",
   "execution_count": 1,
   "id": "e2527925",
   "metadata": {},
   "outputs": [],
   "source": [
    "#Standard Header used on the projects\n",
    "\n",
    "#first the major packages used for math and graphing\n",
    "import numpy as np\n",
    "import matplotlib.pyplot as plt\n",
    "from cycler import cycler\n",
    "import platform\n",
    "from joblib import Parallel, delayed\n",
    "\n",
    "#Custome graph format style sheet\n",
    "plt.style.use('Prospectus.mplstyle')\n",
    "\n",
    "#If being run by a seperate file, use the seperate file's graph format and saving paramaeters\n",
    "#otherwise set what is needed\n",
    "if not 'Saving' in locals():\n",
    "    Saving = True\n",
    "if not 'Titles' in locals():\n",
    "    Titles = True\n",
    "if not 'Ledgends' in locals():\n",
    "    Ledgends = True\n",
    "if not 'FFormat' in locals():\n",
    "    FFormat = '.eps'"
   ]
  },
  {
   "cell_type": "code",
   "execution_count": 2,
   "id": "38afbc10",
   "metadata": {},
   "outputs": [
    {
     "name": "stderr",
     "output_type": "stream",
     "text": [
      "2023-06-06 18:47:43.607256: I tensorflow/core/platform/cpu_feature_guard.cc:193] This TensorFlow binary is optimized with oneAPI Deep Neural Network Library (oneDNN) to use the following CPU instructions in performance-critical operations:  SSE4.1 SSE4.2 AVX AVX2 FMA\n",
      "To enable them in other operations, rebuild TensorFlow with the appropriate compiler flags.\n"
     ]
    }
   ],
   "source": [
    "## Task specific imports\n",
    "import os as os\n",
    "import keras.utils as image\n",
    "import glob\n",
    "from PIL import Image, ImageDraw"
   ]
  },
  {
   "cell_type": "markdown",
   "id": "07395d66",
   "metadata": {},
   "source": [
    "## Choosing Platform\n",
    "Working is beinging conducted on several computers, and author needs to be able to run code on all without rewriting..  This segment of determines which computer is being used, and sets the directories accordingly."
   ]
  },
  {
   "cell_type": "code",
   "execution_count": 26,
   "id": "3c3a60b1",
   "metadata": {},
   "outputs": [],
   "source": [
    "HostName = platform.node()\n",
    "\n",
    "if HostName == \"Server\":\n",
    "    Computer = \"Desktop\"   \n",
    "elif HostName[-6:] == 'wm.edu':\n",
    "    Computer = \"SciClone\"\n",
    "elif HostName == \"SchoolLaptop\":\n",
    "    Computer = \"LinLap\"\n",
    "elif HostName == \"WTC-TAB-512\":\n",
    "    Computer = \"PortLap\"\n",
    "else:\n",
    "    Computer = \"WinLap\"\n",
    "    \n",
    "if Computer ==  \"SciClone\":\n",
    "    rootfolder = '/sciclone/scr10/dchendrickson01/'\n",
    "    \n",
    "else:\n",
    "    asdfasdf"
   ]
  },
  {
   "cell_type": "markdown",
   "id": "c539f3a9",
   "metadata": {},
   "source": [
    "## Load data"
   ]
  },
  {
   "cell_type": "code",
   "execution_count": 34,
   "id": "85d34854",
   "metadata": {},
   "outputs": [],
   "source": [
    "\n",
    "Cases = ['TopHit','SideRub']\n",
    "Views = ['Mid', 'Vert']"
   ]
  },
  {
   "cell_type": "code",
   "execution_count": 35,
   "id": "e60cc31f",
   "metadata": {},
   "outputs": [],
   "source": [
    "for View in Views:\n",
    "    for Case in Cases:\n",
    "        imfolder = rootfolder + 'EFIT/' + Case + '/'+View+'/'\n",
    "        files = glob.glob(os.path.join(imfolder, '*.png'))\n",
    "        files.sort()\n",
    "        images = []\n",
    "\n",
    "        for file in files:\n",
    "            images.append(image.load_img(file))\n",
    "        images[0].save('imagedraw_'+Case+'_'+View+'.gif',\n",
    "               save_all=True, append_images=images[1:], optimize=False, duration=40, loop=0)               "
   ]
  },
  {
   "cell_type": "code",
   "execution_count": 28,
   "id": "f8c87217",
   "metadata": {},
   "outputs": [],
   "source": [
    "# Loop over files and get features\n"
   ]
  },
  {
   "cell_type": "code",
   "execution_count": 30,
   "id": "0c51fdf2",
   "metadata": {},
   "outputs": [
    {
     "data": {
      "text/plain": [
       "355"
      ]
     },
     "execution_count": 30,
     "metadata": {},
     "output_type": "execute_result"
    }
   ],
   "source": []
  },
  {
   "cell_type": "code",
   "execution_count": 31,
   "id": "18d09a6f",
   "metadata": {},
   "outputs": [],
   "source": [
    "\n"
   ]
  },
  {
   "cell_type": "code",
   "execution_count": 33,
   "id": "036d15e1",
   "metadata": {},
   "outputs": [],
   "source": []
  }
 ],
 "metadata": {
  "kernelspec": {
   "display_name": "Simple",
   "language": "python",
   "name": "simple"
  },
  "language_info": {
   "codemirror_mode": {
    "name": "ipython",
    "version": 3
   },
   "file_extension": ".py",
   "mimetype": "text/x-python",
   "name": "python",
   "nbconvert_exporter": "python",
   "pygments_lexer": "ipython3",
   "version": "3.10.9"
  }
 },
 "nbformat": 4,
 "nbformat_minor": 5
}
