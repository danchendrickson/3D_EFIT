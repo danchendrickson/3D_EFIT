{
 "cells": [
  {
   "cell_type": "code",
   "execution_count": 1,
   "metadata": {},
   "outputs": [],
   "source": [
    "#Standard Header used on the projects\n",
    "\n",
    "#first the major packages used for math and graphing\n",
    "import numpy as np\n",
    "import matplotlib.pyplot as plt\n",
    "from cycler import cycler\n",
    "\n",
    "from joblib import Parallel, delayed\n",
    "\n",
    "#Custome graph format style sheet\n",
    "plt.style.use('Prospectus.mplstyle')\n",
    "\n",
    "#If being run by a seperate file, use the seperate file's graph format and saving paramaeters\n",
    "#otherwise set what is needed\n",
    "if not 'Saving' in locals():\n",
    "    Saving = True\n",
    "if not 'Titles' in locals():\n",
    "    Titles = True\n",
    "if not 'Ledgends' in locals():\n",
    "    Ledgends = True\n",
    "if not 'FFormat' in locals():\n",
    "    FFormat = '.eps'\n",
    "if not 'location' in locals():\n",
    "    #save location.  First one is for running on home PC, second for running on the work laptop.  May need to make a global change\n",
    "    location = 'E:\\\\Documents\\\\Dan\\\\Code\\\\FigsAndPlots\\\\FigsAndPlotsDocument\\\\Figures\\\\'\n",
    "    #location = 'C:\\\\Users\\\\dhendrickson\\\\Documents\\\\github\\\\FigsAndPlots\\\\FigsAndPlotsDocument\\\\Figures\\\\'\n",
    "\n"
   ]
  },
  {
   "cell_type": "code",
   "execution_count": 2,
   "metadata": {},
   "outputs": [],
   "source": [
    "# Task Specific includes:\n",
    "\n",
    "#import scipy.special as sp\n",
    "import math\n",
    "import matplotlib.animation as animation\n",
    "import time\n",
    "from numpy import inf\n",
    "# Choose which EFIT_Class to use:\n",
    "#import EFIT_Class as EFIT\n",
    "#import EFIT_Class_StressLargerVelocity as EFIT\n",
    "#import EFIT_Class_OrignalEqualGrid as EFIT\n",
    "#import EFIT_Class_Parallel_EqualGrid as EFIT\n",
    "#import EFIT_Class_VelocityLargerStress as EFIT\n",
    "#import EFIT_Class_OrignalEqualGrid_axisFlipper as EFIT\n",
    "#import EFIT_Class_EqualGrid1eq as EFIT\n",
    "#import EFIT_Class_EqualGrid9eq as EFIT\n",
    "import EFIT_Class_EqualGrid9eq9grid as EFIT\n",
    "#import visvis as vv"
   ]
  },
  {
   "cell_type": "code",
   "execution_count": 3,
   "metadata": {},
   "outputs": [
    {
     "name": "stdout",
     "output_type": "stream",
     "text": [
      "8.622367091851726e-06 1.25e-06\n"
     ]
    }
   ],
   "source": [
    "# set Constants:\n",
    "PoissonRatio = 0.3\n",
    "YoungModulus = 20 * (10**9)\n",
    "mu = 80 * (10**9)         #First Lame Parameter\n",
    "lmbda = 2 * mu * PoissonRatio / (1 - 2 * PoissonRatio)     #second Lame Parameter\n",
    "rho = 7800       #density kg/m^3\n",
    "\n",
    "#Calculate speed of longitudinal and transverse waves\n",
    "cl = np.sqrt((lmbda + 2* mu)/rho)\n",
    "ct = np.sqrt(mu/rho)\n",
    "\n",
    "#Choose ferquency to be used for excitment\n",
    "frequency = 40000\n",
    "\n",
    "#calculate wave length\n",
    "omegal = cl / frequency\n",
    "omegat = ct / frequency\n",
    "\n",
    "#check max step size\n",
    "dtmax = 1/ (max(cl,ct) * np.sqrt(3/(min(omegal,omegat)/10)))\n",
    "\n",
    "\n",
    "# about 1foot (0.3m) of just the web of 175lbs rail \n",
    "# BeamLength = 0.3\n",
    "# BeamHeight = 0.0762\n",
    "# BeamWidth = 0.0381\n",
    "BeamLength = 0.04\n",
    "BeamHeight = 0.04\n",
    "BeamWidth = 0.04\n",
    "\n",
    "#Run for 6 Cycles:\n",
    "runtime = 5.0 / frequency \n",
    "\n",
    "#Set time step and grid step to be 10 steps per frequency and ten steps per wavelength respectively\n",
    "ts = (1 / frequency) / 20  #  5e-08  #time step\n",
    "gs = min(omegal, omegat) / 50    #grid step\n",
    "\n",
    "Tsteps = int(math.ceil(runtime / ts)) + 1       #total Time STeps\n",
    "\n",
    "gl = int(math.ceil(BeamLength / gs))         #number of grid points\n",
    "gh = int(math.ceil(BeamHeight / gs)) \n",
    "gw = int(math.ceil(BeamWidth / gs)) \n",
    "\n",
    "print(dtmax,ts)"
   ]
  },
  {
   "cell_type": "code",
   "execution_count": 4,
   "metadata": {},
   "outputs": [],
   "source": [
    "def makeAnimation(CenterZResults, title='Z'):\n",
    "    y = np.linspace(0, BeamHeight, np.shape(CenterZResults[0][0])[1])\n",
    "    x = np.linspace(0, BeamLength, np.shape(CenterZResults[0][0])[0])\n",
    "    x,y = np.meshgrid(x,y)\n",
    "\n",
    "    fig = plt.figure(figsize=(6.0,BeamHeight/BeamLength*6.0), dpi=100)\n",
    "    ax = plt.axes(xlim=(0, BeamLength), ylim=(0, BeamHeight))  \n",
    "    plt.ylabel(r'height')\n",
    "    plt.xlabel(r'length')\n",
    "\n",
    "    # animation function\n",
    "    def animate(i): \n",
    "        z = np.matrix(CenterZResults[i][0][:,:]).T\n",
    "        plt.title(str(i) + ' : ' + \"{:.3e}\".format(CenterZResults[i][1]))\n",
    "        cont = plt.contourf(x, y, z, levels=5, cmap='gray') #,vmin=-100, vmax=100)\n",
    "        #time.sleep(1)\n",
    "        return cont  \n",
    "\n",
    "    anim = animation.FuncAnimation(fig, animate, frames=np.shape(CenterZResults)[0])\n",
    "\n",
    "    anim.save('animation'+title+'.gif')"
   ]
  },
  {
   "cell_type": "code",
   "execution_count": 5,
   "metadata": {},
   "outputs": [],
   "source": [
    "# Inputs for forcing Function\n",
    "Power = 10          #not sure on unit yet, just something for now\n",
    "EmitterSize = 0.01  # meters, so 1 CM\n",
    "Dimmension = 2      # 2 is in the z axis \n",
    "Direction = 1       # 1 is on top going down\n",
    "CornerCut = 3       # how much of the corner is taken off of the square emitter\n",
    "StartStep = 2\n",
    "EndStep = Tsteps"
   ]
  },
  {
   "cell_type": "code",
   "execution_count": 6,
   "metadata": {},
   "outputs": [
    {
     "name": "stdout",
     "output_type": "stream",
     "text": [
      "[[ 0  1  1  1  1  1]\n",
      " [ 1  1  1  1  1 -1]\n",
      " [ 2  1  1  1 -1  1]\n",
      " [ 3  1  1  1 -1 -1]\n",
      " [ 4  1  1 -1  1  1]\n",
      " [ 5  1  1 -1  1 -1]\n",
      " [ 6  1  1 -1 -1  1]\n",
      " [ 7  1  1 -1 -1 -1]\n",
      " [ 8  1 -1  1  1  1]\n",
      " [ 9  1 -1  1  1 -1]\n",
      " [10  1 -1  1 -1  1]\n",
      " [11  1 -1  1 -1 -1]\n",
      " [12  1 -1 -1  1  1]\n",
      " [13  1 -1 -1  1 -1]\n",
      " [14  1 -1 -1 -1  1]\n",
      " [15  1 -1 -1 -1 -1]\n",
      " [16 -1  1  1  1  1]\n",
      " [17 -1  1  1  1 -1]\n",
      " [18 -1  1  1 -1  1]\n",
      " [19 -1  1  1 -1 -1]\n",
      " [20 -1  1 -1  1  1]\n",
      " [21 -1  1 -1  1 -1]\n",
      " [22 -1  1 -1 -1  1]\n",
      " [23 -1  1 -1 -1 -1]\n",
      " [24 -1 -1  1  1  1]\n",
      " [25 -1 -1  1  1 -1]\n",
      " [26 -1 -1  1 -1  1]\n",
      " [27 -1 -1  1 -1 -1]\n",
      " [28 -1 -1 -1  1  1]\n",
      " [29 -1 -1 -1  1 -1]\n",
      " [30 -1 -1 -1 -1  1]\n",
      " [31 -1 -1 -1 -1 -1]]\n"
     ]
    }
   ],
   "source": [
    "controls = []\n",
    "for i in range(32):\n",
    "    lba=[]\n",
    "    Binary = str(int('{0:08b}'.format(i))).zfill(5)\n",
    "    \n",
    "    lba = [int(Binary[0]),int(Binary[1]),int(Binary[2]),int(Binary[3]),int(Binary[4])]\n",
    "    \n",
    "    #[sx,sy,sz,vx,vy,vz] = lba #[1,1,1,1,1,1]\n",
    "    [c1,c2,c3,c4,c5] =np.multiply(lba,[-2,-2,-2,-2,-2])\n",
    "    c1+=1\n",
    "    c2+=1\n",
    "    c3+=1\n",
    "    c4+=1\n",
    "    c5+=1\n",
    "    \n",
    "    controls.append([i, c1, c2, c3, c4, c5])\n",
    "\n",
    "print(np.matrix(controls))"
   ]
  },
  {
   "cell_type": "code",
   "execution_count": 19,
   "metadata": {},
   "outputs": [],
   "source": [
    "#Run main function for time:\n",
    "Animating = False\n",
    "\n",
    "def loooop(c1=1,c2=1,c3=1,c4=1,c5=1,c6=1): \n",
    "    \n",
    "    \n",
    "    #Initialize EFIT Model\n",
    "    Rail = EFIT.EFIT(gl, gw, gh, ts, gs)#, c1, c2) #, c3, c4, c5)\n",
    "\n",
    "    #Set Material Properties consitant througout\n",
    "    #Rail.Gp[0,:,:,:] = rho  #constant Density\n",
    "    #Rail.Gp[1,:,:,:] = lmbda #Constant first Lamee parameter \n",
    "    #Rail.Gp[2,:,:,:] = mu  #constant second Lamee parameter\n",
    "    \n",
    "    Rail.rho = rho\n",
    "    Rail.lmbda = lmbda\n",
    "    Rail.me = mu\n",
    "\n",
    "    #initial conditions are rest\n",
    "    Rail.Gv1[:,:,:]=0\n",
    "    Rail.Gv2[:,:,:]=0\n",
    "    Rail.Gv3[:,:,:]=0\n",
    "    Rail.Gs11[:,:,:]=0\n",
    "    Rail.Gs22[:,:,:]=0\n",
    "    Rail.Gs33[:,:,:]=0\n",
    "    Rail.Gs12[:,:,:]=0\n",
    "    Rail.Gs23[:,:,:]=0\n",
    "    Rail.Gs31[:,:,:]=0\n",
    "\n",
    "    Rail.axis1 = c1\n",
    "    Rail.axis2 = c2\n",
    "    Rail.axis3 = c3\n",
    "    Rail.StPl = c4\n",
    "    Rail.VePl = c5\n",
    "\n",
    "    CenterXResults = []\n",
    "    CenterYResults = []\n",
    "    CenterZResults = []\n",
    "\n",
    "    t=0\n",
    "    if Animating:\n",
    "        CenterXResults.append((np.matrix(Rail.VelocityCut(0,2)),t))\n",
    "        CenterYResults.append((np.matrix(Rail.VelocityCut(1,2)),t))\n",
    "        CenterZResults.append((np.matrix(Rail.VelocityCut(2,2)),t))\n",
    "    else:\n",
    "        CenterXResults.append(np.matrix(Rail.VelocityCut(0,2)))\n",
    "        CenterYResults.append(np.matrix(Rail.VelocityCut(1,2)))\n",
    "        CenterZResults.append(np.matrix(Rail.VelocityCut(2,2)))\n",
    "\n",
    "    AddedEnergy = 0\n",
    "\n",
    "    for i in range(Tsteps - 1):\n",
    "        t = (i) * ts\n",
    "    \n",
    "        #update Velocity:\n",
    "        Rail.StepVelocities()\n",
    "        \n",
    "        if i >= StartStep and i <= EndStep: \n",
    "            #Rail.ForcingFunctionImpulse(Power,EmitterSize,Dimmension,Direction, CornerCut)\n",
    "            AddedEnergy += Rail.ForcingFunctionWave(t, frequency, 1, 0.005, 2, 2)\n",
    "        #else:\n",
    "        #    Rail.ForcingFunctionWave(t, frequency, 0)\n",
    "\n",
    "        #Update Stresses at next half step:\n",
    "        Rail.StepStresses()\n",
    "\n",
    "        \n",
    "        #print(str(i+1) + ' of ' + str(Tsteps-1) +' time steps. time is: '+ \"{:.3e}\".format(t)) #str(t))\n",
    "\n",
    "        #  Save off each time step the currrent state for anmication later\n",
    "        if Animating:\n",
    "            CenterXResults.append((np.matrix(Rail.VelocityCut(0,2)),t))\n",
    "            CenterYResults.append((np.matrix(Rail.VelocityCut(1,2)),t))\n",
    "            CenterZResults.append((np.matrix(Rail.VelocityCut(2,2)),t))\n",
    "        else:\n",
    "            CenterXResults.append(np.matrix(Rail.VelocityCut(0,2)))\n",
    "            CenterYResults.append(np.matrix(Rail.VelocityCut(1,2)))\n",
    "            CenterZResults.append(np.matrix(Rail.VelocityCut(2,2)))\n",
    "        # AllVelocities.append( Rail.VelocitySave())\n",
    "        # VelocitiesX.append(Rail.VelocitySave(0))\n",
    "        # VelocitiesY.append(Rail.VelocitySave(1))\n",
    "        # VelocitiesZ.append(Rail.VelocitySave(2))\n",
    "        \n",
    "        # Store results mid process for latter animating\n",
    "        #if i % 10 == 9:\n",
    "        #    print(str(i+1) + ' of ' + str(Tsteps-1) +' time steps. time is: '+ \"{:.3e}\".format(t)+' on loop '+str(looooooping)) #str(t))\n",
    "        \n",
    "        # Other data save out options at different time steps\n",
    "\n",
    "    if Animating:\n",
    "        makeAnimation(CenterXResults, ' try 4X '+str(c6)) #+str(vx)+str(vy)+str(vz))\n",
    "        #makeAnimation(CenterYResults, ' try 4Y '+str(c6)) #+str(vx)+str(vy)+str(vz))\n",
    "        #makeAnimation(CenterZResults, ' try 4Z '+str(c6)) #+str(vx)+str(vy)+str(vz))\n",
    "\n",
    "    print(AddedEnergy)\n",
    "        \n",
    "    return CenterXResults,CenterYResults,CenterZResults\n"
   ]
  },
  {
   "cell_type": "code",
   "execution_count": 20,
   "metadata": {},
   "outputs": [
    {
     "name": "stdout",
     "output_type": "stream",
     "text": [
      "-1.390575245979778\n"
     ]
    }
   ],
   "source": [
    "Results = loooop()\n",
    "#Results = Parallel(n_jobs=33)(delayed(loooop)(c[1],c[2],c[3],c[4],c[5], c[0]) for c in controls)\n",
    "#for i in range(8):\n",
    "#    Results = loooop(i)\n",
    "#    for j in range(20):\n",
    "#        print(np.sum(Results[0][j*8][0]),np.sum(Results[1][j*8][0]),np.sum(Results[2][j*8][0]))"
   ]
  },
  {
   "cell_type": "code",
   "execution_count": 24,
   "metadata": {},
   "outputs": [
    {
     "name": "stdout",
     "output_type": "stream",
     "text": [
      "1.771075981673275e+229 1.771075981673275e+229 8.667240490473616e+228\n"
     ]
    }
   ],
   "source": [
    "print(np.max(np.max(Results[0])),\n",
    "        np.max(np.max(Results[1])),\n",
    "        np.max(np.max(Results[2])))"
   ]
  },
  {
   "cell_type": "code",
   "execution_count": 16,
   "metadata": {},
   "outputs": [
    {
     "name": "stdout",
     "output_type": "stream",
     "text": [
      "(32, 3, 101, 25, 25)\n"
     ]
    },
    {
     "ename": "NameError",
     "evalue": "name 'AddedEnergy' is not defined",
     "output_type": "error",
     "traceback": [
      "\u001b[0;31m---------------------------------------------------------------------------\u001b[0m",
      "\u001b[0;31mNameError\u001b[0m                                 Traceback (most recent call last)",
      "Input \u001b[0;32mIn [16]\u001b[0m, in \u001b[0;36m<cell line: 2>\u001b[0;34m()\u001b[0m\n\u001b[1;32m      1\u001b[0m \u001b[38;5;28mprint\u001b[39m(np\u001b[38;5;241m.\u001b[39mshape(Results))\n\u001b[0;32m----> 2\u001b[0m \u001b[38;5;28mprint\u001b[39m(\u001b[43mAddedEnergy\u001b[49m)\n",
      "\u001b[0;31mNameError\u001b[0m: name 'AddedEnergy' is not defined"
     ]
    }
   ],
   "source": [
    "print(np.shape(Results))"
   ]
  },
  {
   "cell_type": "code",
   "execution_count": 10,
   "metadata": {},
   "outputs": [
    {
     "name": "stdout",
     "output_type": "stream",
     "text": [
      "[[1.77107598e+229 1.77107598e+229 8.66724049e+228]\n",
      " [7.74010538e+229 7.74010538e+229 3.90227190e+229]\n",
      " [7.74010538e+229 7.74010538e+229 3.90227190e+229]\n",
      " [1.77107598e+229 1.77107598e+229 8.66724049e+228]\n",
      " [2.49077885e+193 2.49077885e+193 1.18089447e+193]\n",
      " [8.04999286e+194 8.04999286e+194 3.92270560e+194]\n",
      " [8.04999286e+194 8.04999286e+194 3.92270560e+194]\n",
      " [2.49077885e+193 2.49077885e+193 1.18089447e+193]\n",
      " [8.02822884e+205 7.76906507e+205 3.18888530e+205]\n",
      " [1.10162980e+207 1.08802109e+207 4.59052626e+206]\n",
      " [1.10162980e+207 1.08802109e+207 4.59052626e+206]\n",
      " [8.02822884e+205 7.76906507e+205 3.18888530e+205]\n",
      " [1.48131942e+176 1.45525013e+176 5.87701357e+175]\n",
      " [2.82503126e+178 2.83501963e+178 1.16987383e+178]\n",
      " [2.82503126e+178 2.83501963e+178 1.16987383e+178]\n",
      " [1.48131942e+176 1.45525013e+176 5.87701357e+175]\n",
      " [7.76906507e+205 8.02822884e+205 3.18888530e+205]\n",
      " [1.08802109e+207 1.10162980e+207 4.59052626e+206]\n",
      " [1.08802109e+207 1.10162980e+207 4.59052626e+206]\n",
      " [7.76906507e+205 8.02822884e+205 3.18888530e+205]\n",
      " [1.45525013e+176 1.48131942e+176 5.87701357e+175]\n",
      " [2.83501963e+178 2.82503126e+178 1.16987383e+178]\n",
      " [2.83501963e+178 2.82503126e+178 1.16987383e+178]\n",
      " [1.45525013e+176 1.48131942e+176 5.87701357e+175]\n",
      " [4.80860756e+178 4.80860756e+178 4.82141861e+178]\n",
      " [2.57625058e+176 2.57625058e+176 2.57795899e+176]\n",
      " [2.57625058e+176 2.57625058e+176 2.57795899e+176]\n",
      " [4.80860756e+178 4.80860756e+178 4.82141861e+178]\n",
      " [4.80860756e+178 4.80860756e+178 4.82141861e+178]\n",
      " [2.57625058e+176 2.57625058e+176 2.57795899e+176]\n",
      " [2.57625058e+176 2.57625058e+176 2.57795899e+176]\n",
      " [4.80860756e+178 4.80860756e+178 4.82141861e+178]]\n"
     ]
    }
   ],
   "source": [
    "if not Animating:\n",
    "    Summary = []\n",
    "    for set in Results:\n",
    "        maxX = np.max(np.max(set[0]))\n",
    "        maxY = np.max(np.max(set[1]))\n",
    "        maxZ = np.max(np.max(set[2]))\n",
    "        Summary.append([maxX,maxY,maxZ])\n",
    "    print(np.matrix(Summary))"
   ]
  },
  {
   "cell_type": "markdown",
   "metadata": {},
   "source": [
    "def ThreeDimmAnimate(FourDVector):\n",
    "    # create volumes, loading them into opengl memory, and insert into container.\n",
    "    f = vv.clf()\n",
    "    a = vv.gca()\n",
    "    m = vv.MotionDataContainer(a)\n",
    "\n",
    "    for vol in FourDVector:\n",
    "        t = vv.volshow(vol)\n",
    "        t.parent = m\n",
    "        t.colormap = vv.CM_HOT\n",
    "        # Remove comments to use iso-surface rendering\n",
    "        #t.renderStyle = 'iso'\n",
    "        #t.isoThreshold = 0.2\n",
    "\n",
    "    # set some settings\n",
    "    a.daspect = 1,1,-1\n",
    "    a.xLabel = 'x'\n",
    "    a.yLabel = 'y'\n",
    "    a.zLabel = 'z'\n",
    "\n",
    "    # Enter main loop\n",
    "    app = vv.use()\n",
    "    app.Run()"
   ]
  },
  {
   "cell_type": "code",
   "execution_count": 11,
   "metadata": {},
   "outputs": [],
   "source": [
    "#ThreeDimmAnimate(AllVelocities)"
   ]
  },
  {
   "cell_type": "code",
   "execution_count": 12,
   "metadata": {},
   "outputs": [],
   "source": [
    "#ThreeDimmAnimate(VelocitiesX)"
   ]
  },
  {
   "cell_type": "code",
   "execution_count": 13,
   "metadata": {},
   "outputs": [],
   "source": [
    "#ThreeDimmAnimate(VelocitiesY)"
   ]
  },
  {
   "cell_type": "code",
   "execution_count": 14,
   "metadata": {},
   "outputs": [],
   "source": [
    "#ThreeDimmAnimate(VelocitiesZ)"
   ]
  }
 ],
 "metadata": {
  "kernelspec": {
   "display_name": "Python 3",
   "language": "python",
   "name": "python3"
  },
  "language_info": {
   "codemirror_mode": {
    "name": "ipython",
    "version": 3
   },
   "file_extension": ".py",
   "mimetype": "text/x-python",
   "name": "python",
   "nbconvert_exporter": "python",
   "pygments_lexer": "ipython3",
   "version": "3.10.9"
  },
  "vscode": {
   "interpreter": {
    "hash": "178f6c3502586c94dc93af50f98dbd15c5205250cbf2345a6eb57380f8c77d96"
   }
  }
 },
 "nbformat": 4,
 "nbformat_minor": 4
}
