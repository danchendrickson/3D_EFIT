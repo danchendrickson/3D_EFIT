{
 "cells": [
  {
   "cell_type": "markdown",
   "id": "008474b4",
   "metadata": {},
   "source": [
    "# Make Animation from png images"
   ]
  },
  {
   "cell_type": "code",
   "execution_count": 1,
   "id": "e2527925",
   "metadata": {},
   "outputs": [],
   "source": [
    "#Standard Header used on the projects\n",
    "\n",
    "#first the major packages used for math and graphing\n",
    "import numpy as np\n",
    "import matplotlib.pyplot as plt\n",
    "from cycler import cycler\n",
    "import platform\n",
    "from joblib import Parallel, delayed\n",
    "\n",
    "#Custome graph format style sheet\n",
    "plt.style.use('Prospectus.mplstyle')\n",
    "\n",
    "#If being run by a seperate file, use the seperate file's graph format and saving paramaeters\n",
    "#otherwise set what is needed\n",
    "if not 'Saving' in locals():\n",
    "    Saving = True\n",
    "if not 'Titles' in locals():\n",
    "    Titles = True\n",
    "if not 'Ledgends' in locals():\n",
    "    Ledgends = True\n",
    "if not 'FFormat' in locals():\n",
    "    FFormat = '.eps'"
   ]
  },
  {
   "cell_type": "code",
   "execution_count": 2,
   "id": "f3c145d5",
   "metadata": {},
   "outputs": [],
   "source": [
    "import multiprocessing\n",
    "from joblib import Parallel, delayed\n",
    "num_jobs=30"
   ]
  },
  {
   "cell_type": "code",
   "execution_count": null,
   "id": "d9696c71",
   "metadata": {},
   "outputs": [],
   "source": [
    "## Task specific imports\n",
    "import os as os\n",
    "import keras.utils as image\n",
    "import glob\n",
    "from PIL import Image, ImageDraw\n",
    "import pickle"
   ]
  },
  {
   "cell_type": "code",
   "execution_count": 13,
   "id": "38afbc10",
   "metadata": {},
   "outputs": [],
   "source": [
    "import math\n",
    " "
   ]
  },
  {
   "cell_type": "markdown",
   "id": "07395d66",
   "metadata": {},
   "source": [
    "## Choosing Platform\n",
    "Working is beinging conducted on several computers, and author needs to be able to run code on all without rewriting..  This segment of determines which computer is being used, and sets the directories accordingly."
   ]
  },
  {
   "cell_type": "code",
   "execution_count": 4,
   "id": "3c3a60b1",
   "metadata": {},
   "outputs": [],
   "source": [
    "HostName = platform.node()\n",
    "\n",
    "if HostName == \"Server\":\n",
    "    Computer = \"Desktop\"   \n",
    "elif HostName[-6:] == 'wm.edu':\n",
    "    Computer = \"SciClone\"\n",
    "elif HostName == \"SchoolLaptop\":\n",
    "    Computer = \"LinLap\"\n",
    "elif HostName == \"WTC-TAB-512\":\n",
    "    Computer = \"PortLap\"\n",
    "else:\n",
    "    Computer = \"WinLap\"\n",
    "    \n",
    "if Computer ==  \"SciClone\":\n",
    "    rootfolder = '/sciclone/scr10/dchendrickson01/EFIT/'\n",
    "    \n",
    "else:\n",
    "    asdfasdf"
   ]
  },
  {
   "cell_type": "markdown",
   "id": "c539f3a9",
   "metadata": {},
   "source": [
    "## Load data"
   ]
  },
  {
   "cell_type": "code",
   "execution_count": 5,
   "id": "2fe00d18",
   "metadata": {},
   "outputs": [
    {
     "name": "stdout",
     "output_type": "stream",
     "text": [
      "/sciclone/scr10/dchendrickson01/EFIT/DoubleTestLarger/MovementsR2MM.p\n"
     ]
    }
   ],
   "source": [
    "cases = 'DoubleTestLarger'\n",
    "Cases = [cases]\n",
    "Views = ['Mid', 'Vert','Head','zplane25','zplane75','TopSurface','Energy','LeftSurface','RightSurface','TopEnergy','HeadEnd','WebEnd','HeadStart','WebStart']\n",
    "imFolder=rootfolder+cases+'/'\n",
    "fileName = imFolder+'MovementsR2MM.p'\n",
    "print(fileName)"
   ]
  },
  {
   "cell_type": "code",
   "execution_count": 6,
   "id": "0f90de3a",
   "metadata": {},
   "outputs": [],
   "source": [
    "file=open(fileName,'rb')"
   ]
  },
  {
   "cell_type": "code",
   "execution_count": 7,
   "id": "495dc4cf",
   "metadata": {},
   "outputs": [],
   "source": [
    "temp = pickle.load(file)\n",
    "file.close()"
   ]
  },
  {
   "cell_type": "code",
   "execution_count": 8,
   "id": "f1f79025",
   "metadata": {},
   "outputs": [],
   "source": [
    "[Movements, MovementsX, MovementsY, MovementsZ] = temp"
   ]
  },
  {
   "cell_type": "code",
   "execution_count": null,
   "id": "aba4ac5d",
   "metadata": {},
   "outputs": [],
   "source": [
    "fileName = imFolder+'Parameters.p'\n",
    "file=open(fileName,'rb')\n",
    "Parameters=pickle.load(file)\n",
    "[AirCut,RailShape,Flaw,length1,width1,height1,imFolder,runName,Ties,frequency,\n",
    " Signalfrequency,cycle,FFunction,WheelLoad,pRatio1,yModulus1,rho1,cl1,ct1,Tsteps\n",
    " gl1,gw1,gh1,xmax,ymax,zmax,\n",
    " gridStartHead,gridStartWeb,gridEndWeb,gridEndFoot,gridStartHeadWidth,gridEndHeadWidth] = Parameters\n",
    "\n",
    "file.close()\n",
    "                 "
   ]
  },
  {
   "cell_type": "markdown",
   "id": "e4a03e76",
   "metadata": {},
   "source": [
    "## Image making functions"
   ]
  },
  {
   "cell_type": "code",
   "execution_count": 9,
   "id": "b91c12c0",
   "metadata": {},
   "outputs": [],
   "source": [
    "def EnergyFig(t, xStart, xEnd, yStart, yEnd, zStart, zEnd, Folder, v, figH):\n",
    "\n",
    "    fig = plt.figure(figsize=(6,figH), dpi=300)\n",
    "\n",
    "    Image = Movements[xStart:xEnd, yStart:yEnd, zStart:zEnd,t].T\n",
    "\n",
    "    x,y,z = np.shape(Image)\n",
    "    if x ==1:\n",
    "        I2 = np.squeeze(Image, axis=(0,))\n",
    "    if y ==1:\n",
    "        I2 = np.squeeze(Image, axis=(1,))\n",
    "    if z ==1:\n",
    "        I2 = np.squeeze(Image, axis=(2,))\n",
    "\n",
    "    plt.contourf(I2, v, cmap=plt.cm.jet)\n",
    "    plt.savefig(imFolder+Folder+'/Energy'+str(t).zfill(5)+'.png')\n",
    "    plt.close(fig)\n"
   ]
  },
  {
   "cell_type": "code",
   "execution_count": 10,
   "id": "0be2615c",
   "metadata": {},
   "outputs": [],
   "source": [
    "# %%\n",
    "def AnimationBook(xStart, xEnd, yStart, yEnd, zStart, zEnd, Folder):\n",
    "\n",
    "    if xStart - xEnd == 0.0:\n",
    "        figH = 6 * (yEnd - yStart) / (zEnd-zStart)\n",
    "        xEnd+=1\n",
    "    elif yStart - yEnd == 0.0:\n",
    "        figH = 6 * (zEnd - zStart) / (xEnd-xStart)\n",
    "        yEnd+=1\n",
    "    elif zStart - zEnd == 0.0:\n",
    "        figH = 6 * (yEnd - yStart) / (xEnd-xStart)\n",
    "        zEnd+=1\n",
    "    else:\n",
    "        figH = 0\n",
    "\n",
    "    if figH==0:\n",
    "        print(\"Error, no Dimmension is a plane\",yStart-yEnd)\n",
    "    else:\n",
    "        EMin = np.min(Movements[xStart:xEnd, yStart:yEnd, zStart:zEnd,:])\n",
    "        EMax = np.max(Movements[xStart:xEnd, yStart:yEnd, zStart:zEnd,:])\n",
    "        v = np.linspace(EMin, EMax, 30, endpoint=True)[0:20]\n",
    "\n",
    "        print('About to make frames for ',Folder)\n",
    "        temp = Parallel(n_jobs=num_jobs)(delayed(EnergyFig)(t, xStart, xEnd, yStart, yEnd, zStart, zEnd, Folder,v,figH) for t in range(Tsteps))"
   ]
  },
  {
   "cell_type": "code",
   "execution_count": 20,
   "id": "0d17bd96",
   "metadata": {},
   "outputs": [],
   "source": [
    "def CaseImage(Case, View):\n",
    "    imfolder = rootfolder + Case + '/'+View+'/'\n",
    "    files = glob.glob(os.path.join(imfolder, '*.png'))\n",
    "    files.sort()\n",
    "    images = []\n",
    "\n",
    "    for file in files:\n",
    "        images.append(image.load_img(file))\n",
    "    try:\n",
    "        images[0].save(rootfolder + Case + '/Testing'+View+'.gif',\n",
    "           save_all=True, append_images=images[1:], optimize=False, duration=40, loop=0)\n",
    "    except:\n",
    "        pass\n",
    "    return 0"
   ]
  },
  {
   "cell_type": "markdown",
   "id": "25690e82",
   "metadata": {},
   "source": [
    "## Specs from simulation\n",
    "Need to add a sepereate pickle in the simulation to save out the parameters as a dictionary"
   ]
  },
  {
   "cell_type": "markdown",
   "id": "c08c88fb",
   "metadata": {},
   "source": [
    "#Dimmesnsion of simulation space in meters\n",
    "length1 = 4\n",
    "width1 = 0.1524 # 0.1524\n",
    "height1 = 0.1524\n",
    "\n",
    "#Choose ferquency to be used for excitment\n",
    "frequency = 49720.0 \n",
    "\n",
    "#MATERIAL 1 ((steel))\n",
    "pRatio1 = 0.29                                    #poission's ratio in \n",
    "yModulus1 = 200 * (10**9)                           #youngs modulus in pascals\n",
    "rho1 = 7800                                        #density in kg/m^3\n",
    "\n",
    "\n",
    "#CALCULATED PARAMETERS FROM INPUTS\n",
    "\n",
    "mu1 = yModulus1/(2*(1+pRatio1))                    #second Lame Parameter\n",
    "lmbda1 = 2 * mu1 * pRatio1 / (1 - 2 * pRatio1)     #first Lame Parameter\n",
    "#Calculate speed of longitudinal and transverse waves in material 1\n",
    "cl1 = np.sqrt((lmbda1 + 2* mu1)/rho1)\n",
    "ct1 = np.sqrt(mu1/rho1)\n",
    "\n",
    "#calculate wave lengths for material 1\n",
    "omegaL1 = cl1 / frequency\n",
    "omegaT1 = ct1 / frequency\n",
    "\n",
    "gs = (min(omegaL1, omegaT1) /12)    #grid step, omegaL2,omegaT2\n",
    "\n",
    "#number of grid points\n",
    "gl1 = int(math.ceil(length1 / gs)) +1       #length \n",
    "gw1 = int(math.ceil(width1 / gs)) +1       #width\n",
    "gh1 = int(math.ceil(height1 / gs)) +1       #height\n",
    "\n",
    "## for latter rail section, define the dimmmensions in terms of grid\n",
    "HeadThickness = 0.05\n",
    "WebThickness = 0.035\n",
    "FootThickness = 0.03\n",
    "HeadWidth = 0.102\n",
    "\n",
    "relHeadThick = HeadThickness / height1\n",
    "relWeb = WebThickness / width1\n",
    "relFoot = FootThickness / height1\n",
    "relHeadWidth = HeadWidth / width1\n",
    "\n",
    "relStartHeadThick = 1 - relHeadThick\n",
    "relStartWeb = 0.5 - (relWeb / 2.0)\n",
    "relEndWeb = 0.5 + (relWeb / 2.0)\n",
    "relStartHeadWidth = 0.5 - (relHeadWidth / 2.0)\n",
    "relEndHeadWidth = 0.5 + (relHeadWidth / 2.0)\n",
    "\n",
    "\n",
    "gridStartHead = round((gh1-3) * relStartHeadThick) + 1\n",
    "gridStartWeb = round((gw1-3) * relStartWeb)  + 1\n",
    "gridEndWeb = round((gw1-3) * relEndWeb)  + 1\n",
    "gridEndFoot = round((gh1-3) * relFoot)  + 1\n",
    "gridStartHeadWidth = round((gw1-3) * relStartHeadWidth)  + 1\n",
    "gridEndHeadWidth = round((gw1-3)  * relEndHeadWidth)  + 1"
   ]
  },
  {
   "cell_type": "markdown",
   "id": "28dc3f08",
   "metadata": {},
   "source": [
    "np.shape(Movements)\n",
    "\n",
    "xmax = np.shape(Movements)[0]\n",
    "ymax = np.shape(Movements)[1]\n",
    "zmax = np.shape(Movements)[2]\n",
    "Tsteps =  np.shape(Movements)[3]"
   ]
  },
  {
   "cell_type": "markdown",
   "id": "a89430da",
   "metadata": {},
   "source": [
    "## make all the frames of all the cases"
   ]
  },
  {
   "cell_type": "code",
   "execution_count": 17,
   "id": "7d96f4c0",
   "metadata": {},
   "outputs": [
    {
     "name": "stdout",
     "output_type": "stream",
     "text": [
      "About to make frames for  WebStart\n",
      "About to make frames for  WebEnd\n",
      "About to make frames for  HeadEnd\n",
      "About to make frames for  HeadStart\n",
      "About to make frames for  TopSurface\n",
      "About to make frames for  LeftSurface\n",
      "About to make frames for  RightSurface\n",
      "About to make frames for  Head\n",
      "About to make frames for  Mid\n",
      "About to make frames for  Vert\n",
      "About to make frames for  Energy\n"
     ]
    }
   ],
   "source": [
    "AnimationBook(0,xmax,gridStartWeb+1,gridStartWeb+1,gridEndFoot,gridStartHead,\"WebStart\")\n",
    "plt.close('all')\n",
    "\n",
    "AnimationBook(0,xmax,gridEndWeb-1,gridEndWeb-1,gridEndFoot,gridStartHead,\"WebEnd\")\n",
    "plt.close('all')\n",
    "\n",
    "AnimationBook(0,xmax,gridEndHeadWidth-1,gridEndHeadWidth-1,gridStartHead,zmax,\"HeadEnd\")\n",
    "plt.close('all')\n",
    "\n",
    "AnimationBook(0,xmax,gridStartHeadWidth+1,gridStartHeadWidth+1,gridStartHead,zmax,\"HeadStart\")\n",
    "plt.close('all')\n",
    "\n",
    "AnimationBook(0,xmax,gridStartHeadWidth,gridEndHeadWidth,zmax-3,zmax-3,\"TopSurface\")\n",
    "plt.close('all')\n",
    "\n",
    "AnimationBook(0,xmax,gridStartHeadWidth,gridStartHeadWidth,gridStartHead,zmax,\"LeftSurface\")\n",
    "plt.close('all')\n",
    "\n",
    "AnimationBook(0,xmax,gridStartWeb,gridStartWeb,gridEndFoot,gridStartHead,\"RightSurface\")\n",
    "plt.close('all')\n",
    "\n",
    "AnimationBook(0,xmax,0,ymax,int((zmax - gridStartHead)/2)+gridStartHead,int((zmax - gridStartHead)/2)+gridStartHead,\"Head\")\n",
    "plt.close('all')\n",
    "\n",
    "AnimationBook(0,xmax,gridStartWeb,gridEndWeb,int(zmax/2),int(zmax/2),\"Mid\")\n",
    "plt.close('all')\n",
    "\n",
    "AnimationBook(0,xmax,int(ymax/2),int(ymax/2),0,zmax,\"Vert\")\n",
    "plt.close('all')\n",
    "\n",
    "AnimationBook(xmax-4,xmax-4,0,ymax,0,zmax,\"Energy\")\n",
    "plt.close('all')\n"
   ]
  },
  {
   "cell_type": "markdown",
   "id": "df75b738",
   "metadata": {},
   "source": [
    "## Animate"
   ]
  },
  {
   "cell_type": "code",
   "execution_count": 21,
   "id": "24adc65f",
   "metadata": {},
   "outputs": [
    {
     "name": "stderr",
     "output_type": "stream",
     "text": [
      "2023-12-19 09:50:29.341906: I tensorflow/core/platform/cpu_feature_guard.cc:193] This TensorFlow binary is optimized with oneAPI Deep Neural Network Library (oneDNN) to use the following CPU instructions in performance-critical operations:  SSE4.1 SSE4.2 AVX AVX2 FMA\n",
      "To enable them in other operations, rebuild TensorFlow with the appropriate compiler flags.\n",
      "2023-12-19 09:50:30.259397: I tensorflow/core/platform/cpu_feature_guard.cc:193] This TensorFlow binary is optimized with oneAPI Deep Neural Network Library (oneDNN) to use the following CPU instructions in performance-critical operations:  SSE4.1 SSE4.2 AVX AVX2 FMA\n",
      "To enable them in other operations, rebuild TensorFlow with the appropriate compiler flags.\n",
      "2023-12-19 09:50:30.267515: I tensorflow/core/platform/cpu_feature_guard.cc:193] This TensorFlow binary is optimized with oneAPI Deep Neural Network Library (oneDNN) to use the following CPU instructions in performance-critical operations:  SSE4.1 SSE4.2 AVX AVX2 FMA\n",
      "To enable them in other operations, rebuild TensorFlow with the appropriate compiler flags.\n",
      "2023-12-19 09:50:30.271114: I tensorflow/core/platform/cpu_feature_guard.cc:193] This TensorFlow binary is optimized with oneAPI Deep Neural Network Library (oneDNN) to use the following CPU instructions in performance-critical operations:  SSE4.1 SSE4.2 AVX AVX2 FMA\n",
      "To enable them in other operations, rebuild TensorFlow with the appropriate compiler flags.\n",
      "2023-12-19 09:50:30.271233: I tensorflow/core/platform/cpu_feature_guard.cc:193] This TensorFlow binary is optimized with oneAPI Deep Neural Network Library (oneDNN) to use the following CPU instructions in performance-critical operations:  SSE4.1 SSE4.2 AVX AVX2 FMA\n",
      "To enable them in other operations, rebuild TensorFlow with the appropriate compiler flags.\n",
      "2023-12-19 09:50:30.273170: I tensorflow/core/platform/cpu_feature_guard.cc:193] This TensorFlow binary is optimized with oneAPI Deep Neural Network Library (oneDNN) to use the following CPU instructions in performance-critical operations:  SSE4.1 SSE4.2 AVX AVX2 FMA\n",
      "To enable them in other operations, rebuild TensorFlow with the appropriate compiler flags.\n",
      "2023-12-19 09:50:30.276259: I tensorflow/core/platform/cpu_feature_guard.cc:193] This TensorFlow binary is optimized with oneAPI Deep Neural Network Library (oneDNN) to use the following CPU instructions in performance-critical operations:  SSE4.1 SSE4.2 AVX AVX2 FMA\n",
      "To enable them in other operations, rebuild TensorFlow with the appropriate compiler flags.\n",
      "2023-12-19 09:50:30.276264: I tensorflow/core/platform/cpu_feature_guard.cc:193] This TensorFlow binary is optimized with oneAPI Deep Neural Network Library (oneDNN) to use the following CPU instructions in performance-critical operations:  SSE4.1 SSE4.2 AVX AVX2 FMA\n",
      "To enable them in other operations, rebuild TensorFlow with the appropriate compiler flags.\n",
      "2023-12-19 09:50:30.278709: I tensorflow/core/platform/cpu_feature_guard.cc:193] This TensorFlow binary is optimized with oneAPI Deep Neural Network Library (oneDNN) to use the following CPU instructions in performance-critical operations:  SSE4.1 SSE4.2 AVX AVX2 FMA\n",
      "To enable them in other operations, rebuild TensorFlow with the appropriate compiler flags.\n",
      "2023-12-19 09:50:30.279426: I tensorflow/core/platform/cpu_feature_guard.cc:193] This TensorFlow binary is optimized with oneAPI Deep Neural Network Library (oneDNN) to use the following CPU instructions in performance-critical operations:  SSE4.1 SSE4.2 AVX AVX2 FMA\n",
      "To enable them in other operations, rebuild TensorFlow with the appropriate compiler flags.\n",
      "2023-12-19 09:50:30.294188: I tensorflow/core/platform/cpu_feature_guard.cc:193] This TensorFlow binary is optimized with oneAPI Deep Neural Network Library (oneDNN) to use the following CPU instructions in performance-critical operations:  SSE4.1 SSE4.2 AVX AVX2 FMA\n",
      "To enable them in other operations, rebuild TensorFlow with the appropriate compiler flags.\n",
      "2023-12-19 09:50:30.295106: I tensorflow/core/platform/cpu_feature_guard.cc:193] This TensorFlow binary is optimized with oneAPI Deep Neural Network Library (oneDNN) to use the following CPU instructions in performance-critical operations:  SSE4.1 SSE4.2 AVX AVX2 FMA\n",
      "To enable them in other operations, rebuild TensorFlow with the appropriate compiler flags.\n",
      "2023-12-19 09:50:30.295731: I tensorflow/core/platform/cpu_feature_guard.cc:193] This TensorFlow binary is optimized with oneAPI Deep Neural Network Library (oneDNN) to use the following CPU instructions in performance-critical operations:  SSE4.1 SSE4.2 AVX AVX2 FMA\n",
      "To enable them in other operations, rebuild TensorFlow with the appropriate compiler flags.\n",
      "2023-12-19 09:50:30.299113: I tensorflow/core/platform/cpu_feature_guard.cc:193] This TensorFlow binary is optimized with oneAPI Deep Neural Network Library (oneDNN) to use the following CPU instructions in performance-critical operations:  SSE4.1 SSE4.2 AVX AVX2 FMA\n",
      "To enable them in other operations, rebuild TensorFlow with the appropriate compiler flags.\n"
     ]
    },
    {
     "name": "stdout",
     "output_type": "stream",
     "text": [
      "[0, 0, 0, 0, 0, 0, 0, 0, 0, 0, 0, 0, 0, 0]\n"
     ]
    }
   ],
   "source": [
    "for Case in Cases:\n",
    "    nothiing = Parallel(n_jobs=30)(delayed(CaseImage)(Case, View) for View in Views)\n",
    "print(nothiing)"
   ]
  }
 ],
 "metadata": {
  "kernelspec": {
   "display_name": "Simple",
   "language": "python",
   "name": "simple"
  },
  "language_info": {
   "codemirror_mode": {
    "name": "ipython",
    "version": 3
   },
   "file_extension": ".py",
   "mimetype": "text/x-python",
   "name": "python",
   "nbconvert_exporter": "python",
   "pygments_lexer": "ipython3",
   "version": "3.10.9"
  }
 },
 "nbformat": 4,
 "nbformat_minor": 5
}
