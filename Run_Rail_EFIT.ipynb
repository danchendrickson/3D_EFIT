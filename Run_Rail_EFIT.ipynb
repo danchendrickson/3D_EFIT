{
 "cells": [
  {
   "cell_type": "code",
   "execution_count": 1,
   "metadata": {},
   "outputs": [],
   "source": [
    "#Standard Header used on the projects\n",
    "\n",
    "#first the major packages used for math and graphing\n",
    "import numpy as np\n",
    "import matplotlib.pyplot as plt\n",
    "from cycler import cycler\n",
    "\n",
    "\n",
    "#Custome graph format style sheet\n",
    "plt.style.use('Prospectus.mplstyle')\n",
    "\n",
    "#If being run by a seperate file, use the seperate file's graph format and saving paramaeters\n",
    "#otherwise set what is needed\n",
    "if not 'Saving' in locals():\n",
    "    Saving = True\n",
    "if not 'Titles' in locals():\n",
    "    Titles = True\n",
    "if not 'Ledgends' in locals():\n",
    "    Ledgends = True\n",
    "if not 'FFormat' in locals():\n",
    "    FFormat = '.eps'\n",
    "if not 'location' in locals():\n",
    "    #save location.  First one is for running on home PC, second for running on the work laptop.  May need to make a global change\n",
    "    location = 'E:\\\\Documents\\\\Dan\\\\Code\\\\FigsAndPlots\\\\FigsAndPlotsDocument\\\\Figures\\\\'\n",
    "    #location = 'C:\\\\Users\\\\dhendrickson\\\\Documents\\\\github\\\\FigsAndPlots\\\\FigsAndPlotsDocument\\\\Figures\\\\'\n",
    "\n"
   ]
  },
  {
   "cell_type": "code",
   "execution_count": 2,
   "metadata": {},
   "outputs": [],
   "source": [
    "# Task Specific includes:\n",
    "\n",
    "#import scipy.special as sp\n",
    "import math\n",
    "import matplotlib.animation as animation\n",
    "import time\n",
    "from numpy import inf\n",
    "# Choose which EFIT_Class to use:\n",
    "# import EFIT_Class as EFIT\n",
    "# import EFIT_Class_StressLargerVelocity as EFIT\n",
    "import EFIT_Class_OrignalEqualGrid as EFIT\n",
    "# import EFIT_Class_Parallel_EqualGrid as EFIT\n",
    "# import EFIT_Class_VelocityLargerStress as EFIT\n",
    "import visvis as vv"
   ]
  },
  {
   "cell_type": "code",
   "execution_count": 3,
   "metadata": {},
   "outputs": [
    {
     "name": "stdout",
     "output_type": "stream",
     "text": [
      "5991.446895152781 3202.563076101743\n"
     ]
    }
   ],
   "source": [
    "# set Constants:\n",
    "PoissonRatio = 0.3\n",
    "YoungModulus = 20 * (10**9)\n",
    "mu = 80 * (10**9)         #First Lame Parameter\n",
    "lmbda = 2 * mu * PoissonRatio / (1 - 2 * PoissonRatio)     #second Lame Parameter\n",
    "rho = 7800       #density\n",
    "\n",
    "#Calculate speed of longitudinal and transverse waves\n",
    "cl = np.sqrt((lmbda + 2* mu)/rho)\n",
    "ct = np.sqrt(mu/rho)\n",
    "\n",
    "print(cl,ct)\n",
    "\n",
    "#Choose ferquency to be used for excitment\n",
    "frequency = 40000\n",
    "\n",
    "#calculate wave length\n",
    "omegal = cl / frequency\n",
    "omegat = ct / frequency\n",
    "\n",
    "# about 1foot (0.3m) of just the web of 175lbs rail \n",
    "# BeamLength = 0.3\n",
    "# BeamHeight = 0.0762\n",
    "# BeamWidth = 0.0381\n",
    "BeamLength = 0.02\n",
    "BeamHeight = 0.005\n",
    "BeamWidth = 0.02"
   ]
  },
  {
   "cell_type": "code",
   "execution_count": 4,
   "metadata": {},
   "outputs": [],
   "source": [
    "#Run for 6 Cycles:\n",
    "runtime = 1.0 / frequency \n",
    "\n",
    "#Set time step and grid step to be 10 steps per frequency and ten steps per wavelength respectively\n",
    "ts = 1 / frequency / 100    #time step\n",
    "gs = min(omegal, omegat) / 200    #grid step\n",
    "\n",
    "Tsteps = int(math.ceil(runtime / ts)) + 1       #total Time STeps\n",
    "\n",
    "gl = int(math.ceil(BeamLength / gs))         #number of grid points\n",
    "gh = int(math.ceil(BeamHeight / gs)) \n",
    "gw = int(math.ceil(BeamWidth / gs)) \n"
   ]
  },
  {
   "cell_type": "code",
   "execution_count": 5,
   "metadata": {},
   "outputs": [],
   "source": [
    "#Initialize EFIT Model\n",
    "Rail = EFIT.EFIT(gl, gw, gh, ts, gs)\n",
    "\n",
    "#Set Material Properties consitant througout\n",
    "Rail.Gp[0,:,:,:] = rho  #constant Density\n",
    "Rail.Gp[1,:,:,:] = lmbda #Constant first Lamee parameter \n",
    "Rail.Gp[2,:,:,:] = mu  #constant second Lamee parameter\n"
   ]
  },
  {
   "cell_type": "code",
   "execution_count": 6,
   "metadata": {},
   "outputs": [
    {
     "name": "stdout",
     "output_type": "stream",
     "text": [
      "1 of 101 time steps. time is: 2.500e-07\n",
      "2 of 101 time steps. time is: 5.000e-07\n",
      "3 of 101 time steps. time is: 7.500e-07\n",
      "4 of 101 time steps. time is: 1.000e-06\n",
      "5 of 101 time steps. time is: 1.250e-06\n",
      "6 of 101 time steps. time is: 1.500e-06\n",
      "7 of 101 time steps. time is: 1.750e-06\n",
      "8 of 101 time steps. time is: 2.000e-06\n",
      "9 of 101 time steps. time is: 2.250e-06\n",
      "10 of 101 time steps. time is: 2.500e-06\n",
      "20 of 101 time steps. time is: 5.000e-06\n",
      "30 of 101 time steps. time is: 7.500e-06\n",
      "40 of 101 time steps. time is: 1.000e-05\n",
      "50 of 101 time steps. time is: 1.250e-05\n",
      "60 of 101 time steps. time is: 1.500e-05\n",
      "70 of 101 time steps. time is: 1.750e-05\n"
     ]
    },
    {
     "name": "stderr",
     "output_type": "stream",
     "text": [
      "e:\\Documents\\Dan\\Code\\3D_EFIT\\EFIT_Class_OrignalEqualGrid.py:672: RuntimeWarning: overflow encountered in square\n",
      "  Results = np.sqrt(Component0**2+Component1**2+Component2**2)\n",
      "e:\\Documents\\Dan\\Code\\3D_EFIT\\EFIT_Class_OrignalEqualGrid.py:672: RuntimeWarning: overflow encountered in add\n",
      "  Results = np.sqrt(Component0**2+Component1**2+Component2**2)\n",
      "e:\\Documents\\Dan\\Code\\3D_EFIT\\EFIT_Class_OrignalEqualGrid.py:674: RuntimeWarning: overflow encountered in square\n",
      "  Results = np.sqrt(Component0**2)\n",
      "e:\\Documents\\Dan\\Code\\3D_EFIT\\EFIT_Class_OrignalEqualGrid.py:676: RuntimeWarning: overflow encountered in square\n",
      "  Results = np.sqrt(Component1**2)\n",
      "e:\\Documents\\Dan\\Code\\3D_EFIT\\EFIT_Class_OrignalEqualGrid.py:678: RuntimeWarning: overflow encountered in square\n",
      "  Results = np.sqrt(Component2**2)\n"
     ]
    },
    {
     "name": "stdout",
     "output_type": "stream",
     "text": [
      "80 of 101 time steps. time is: 2.000e-05\n",
      "90 of 101 time steps. time is: 2.250e-05\n",
      "100 of 101 time steps. time is: 2.500e-05\n"
     ]
    }
   ],
   "source": [
    "#Run main function for time:\n",
    "CenterXResults = []\n",
    "CenterYResults = []\n",
    "CenterZResults = []\n",
    "AllVelocities=[]\n",
    "VelocitiesX=[]\n",
    "VelocitiesY=[]\n",
    "VelocitiesZ=[]\n",
    "\n",
    "\n",
    "t=0\n",
    "TempZ=Rail.VelocityCut(1,2)\n",
    "CenterZResults.append((TempZ,t))\n",
    "\n",
    "# Inputs for forcing Function\n",
    "Power = 10          #not sure on unit yet, just something for now\n",
    "EmitterSize = 0.01  # meters, so 1 CM\n",
    "Dimmension = 2      # 2 is in the z axis \n",
    "Direction = 1       # 1 is on top going down\n",
    "CornerCut = 6       # how much of the corner is taken off of the square emitter\n",
    "StartStep = 2\n",
    "EndStep = 4\n",
    "\n",
    "\n",
    "for i in range(Tsteps - 1):\n",
    "    t = (i+1) * ts\n",
    "   \n",
    "    #update Velocity:\n",
    "    Rail.StepVelocities()\n",
    "    \n",
    "    if i >= StartStep and i <= EndStep: \n",
    "        Rail.ForcingFunctionImpulse(Power,EmitterSize,Dimmension,Direction, CornerCut)\n",
    "    #    Rail.ForcingFunctionWave(t, frequency/2, 1,0.01,2,1)\n",
    "    #else:\n",
    "    #    Rail.ForcingFunctionWave(t, frequency, 0)\n",
    "    \n",
    "    #Update Stresses at next half step:\n",
    "    Rail.StepStresses()\n",
    "\n",
    "    #print(str(i+1) + ' of ' + str(Tsteps-1) +' time steps. time is: '+ \"{:.3e}\".format(t)) #str(t))\n",
    "    TempZ=Rail.VelocityCut(1,2)\n",
    "    CenterZResults.append((np.matrix(TempZ),t))\n",
    "    \n",
    "    TempGrid = Rail.VelocitySave()\n",
    "    AllVelocities.append(TempGrid)\n",
    "    \n",
    "    TempGrid = Rail.VelocitySave(0)\n",
    "    VelocitiesX.append(TempGrid)\n",
    "    \n",
    "    TempGrid = Rail.VelocitySave(1)\n",
    "    VelocitiesY.append(TempGrid)\n",
    "    \n",
    "    TempGrid = Rail.VelocitySave(2)\n",
    "    VelocitiesZ.append(TempGrid)\n",
    "    \n",
    "    # Store results mid process for latter animating\n",
    "    if i < 10 or i % 10 == 9:\n",
    "        print(str(i+1) + ' of ' + str(Tsteps-1) +' time steps. time is: '+ \"{:.3e}\".format(t)) #str(t))\n",
    "    \n",
    "\n",
    "        #np.savetxt(str(i)+'V0.csv', Rail.VelocityCut(0), delimiter=\",\")\n",
    "        #np.savetxt(str(i)+'V1.csv', Rail.VelocityCut(1), delimiter=\",\")\n",
    "        #np.savetxt(str(i)+'V2.csv', Rail.VelocityCut(1), delimiter=\",\")\n",
    "        #np.savetxt(str(i)+'S0.csv', Rail.StressCut(0,1,1), delimiter=\",\")\n",
    "        #np.savetxt(str(i)+'S1.csv', Rail.StressCut(1,1,1), delimiter=\",\")\n",
    "        #np.savetxt(str(i)+'S2.csv', Rail.StressCut(2,1,1), delimiter=\",\")\n",
    "\n",
    "    #TempZ=Rail.StressCut(2,1,1)\n",
    "    #np.savetxt(str(i)+'S11.csv', TempZ, delimiter=\",\")\n",
    "    #TempZ=Rail.StressCut(2,1,0)\n",
    "        #np.savetxt(str(i)+'S10.csv', TempZ, delimiter=\",\")\n",
    "        #TempZ=Rail.StressCut(2,1,2)\n",
    "        #np.savetxt(str(i)+'S12.csv', TempZ, delimiter=\",\")\n",
    "        #TempZ=Rail.StressCut(2,0,0)\n",
    "        #np.savetxt(str(i)+'S00.csv', TempZ, delimiter=\",\")\n",
    "        #TempZ=Rail.StressCut(2,0,2)\n",
    "        #np.savetxt(str(i)+'S02.csv', TempZ, delimiter=\",\")\n",
    "        #TempZ=Rail.StressCut(2,2,2)\n",
    "        #np.savetxt(str(i)+'S22.csv', TempZ, delimiter=\",\")\n"
   ]
  },
  {
   "cell_type": "code",
   "execution_count": 7,
   "metadata": {},
   "outputs": [
    {
     "name": "stderr",
     "output_type": "stream",
     "text": [
      "C:\\Users\\Dan\\AppData\\Local\\Programs\\Python\\Python39\\lib\\site-packages\\numpy\\core\\fromnumeric.py:1970: VisibleDeprecationWarning: Creating an ndarray from ragged nested sequences (which is a list-or-tuple of lists-or-tuples-or ndarrays with different lengths or shapes) is deprecated. If you meant to do this, you must specify 'dtype=object' when creating the ndarray.\n",
      "  result = asarray(a).shape\n",
      "MovieWriter ffmpeg unavailable; using Pillow instead.\n"
     ]
    },
    {
     "data": {
      "image/png": "[encoded data removed]",
      "text/plain": [
       "<Figure size 600x150 with 1 Axes>"
      ]
     },
     "metadata": {},
     "output_type": "display_data"
    }
   ],
   "source": [
    "y = np.linspace(0, BeamHeight, np.shape(CenterZResults[0][0])[1])\n",
    "x = np.linspace(0, BeamLength, np.shape(CenterZResults[0][0])[0])\n",
    "x,y = np.meshgrid(x,y)\n",
    "\n",
    "fig = plt.figure(figsize=(6.0,BeamHeight/BeamLength*6.0), dpi=100)\n",
    "ax = plt.axes(xlim=(0, BeamLength), ylim=(0, BeamHeight))  \n",
    "plt.ylabel(r'height')\n",
    "plt.xlabel(r'length')\n",
    "\n",
    "# animation function\n",
    "def animate(i): \n",
    "    z = np.matrix(CenterZResults[i][0][:,:]).T\n",
    "    plt.title(str(i) + ' : ' + \"{:.3e}\".format(CenterZResults[i][1]))\n",
    "    cont = plt.contourf(x, y, z, levels=5, cmap='gray') #,vmin=-100, vmax=100)\n",
    "    #time.sleep(1)\n",
    "    return cont  \n",
    "\n",
    "anim = animation.FuncAnimation(fig, animate, frames=np.shape(CenterZResults)[0])\n",
    "\n",
    "anim.save('animationZ.gif')"
   ]
  },
  {
   "cell_type": "code",
   "execution_count": 8,
   "metadata": {},
   "outputs": [],
   "source": [
    "#x,y,z, Rail.MaxX, Rail.MaxY, Rail.MaxZ\n",
    "#np.sqrt(Rail.Gv[2,1,:,:]**2+Rail.Gv[0,1,:,:]**2+Rail.Gv[1,1,:,:]**2)"
   ]
  },
  {
   "cell_type": "code",
   "execution_count": 9,
   "metadata": {},
   "outputs": [],
   "source": [
    "def ThreeDimmAnimate(FourDVector):\n",
    "    # create volumes, loading them into opengl memory, and insert into container.\n",
    "    f = vv.clf()\n",
    "    a = vv.gca()\n",
    "    m = vv.MotionDataContainer(a)\n",
    "\n",
    "    for vol in FourDVector:\n",
    "        t = vv.volshow(vol)\n",
    "        t.parent = m\n",
    "        t.colormap = vv.CM_HOT\n",
    "        # Remove comments to use iso-surface rendering\n",
    "        #t.renderStyle = 'iso'\n",
    "        #t.isoThreshold = 0.2\n",
    "\n",
    "    # set some settings\n",
    "    a.daspect = 1,1,-1\n",
    "    a.xLabel = 'x'\n",
    "    a.yLabel = 'y'\n",
    "    a.zLabel = 'z'\n",
    "\n",
    "    # Enter main loop\n",
    "    app = vv.use()\n",
    "    app.Run()"
   ]
  },
  {
   "cell_type": "code",
   "execution_count": 10,
   "metadata": {},
   "outputs": [],
   "source": [
    "#ThreeDimmAnimate(AllVelocities)"
   ]
  },
  {
   "cell_type": "code",
   "execution_count": 14,
   "metadata": {},
   "outputs": [],
   "source": [
    "#ThreeDimmAnimate(VelocitiesX)"
   ]
  },
  {
   "cell_type": "code",
   "execution_count": 15,
   "metadata": {},
   "outputs": [],
   "source": [
    "#ThreeDimmAnimate(VelocitiesY)"
   ]
  },
  {
   "cell_type": "code",
   "execution_count": 16,
   "metadata": {},
   "outputs": [],
   "source": [
    "#ThreeDimmAnimate(VelocitiesZ)"
   ]
  }
 ],
 "metadata": {
  "interpreter": {
   "hash": "72674e6928aeb149b17451b3afa2eccc8eb91630257127848cb7dabc56ce48f2"
  },
  "kernelspec": {
   "display_name": "Python 3.8.10 64-bit ('base': conda)",
   "name": "python3"
  },
  "language_info": {
   "codemirror_mode": {
    "name": "ipython",
    "version": 3
   },
   "file_extension": ".py",
   "mimetype": "text/x-python",
   "name": "python",
   "nbconvert_exporter": "python",
   "pygments_lexer": "ipython3",
   "version": "3.9.9"
  }
 },
 "nbformat": 4,
 "nbformat_minor": 4
}
