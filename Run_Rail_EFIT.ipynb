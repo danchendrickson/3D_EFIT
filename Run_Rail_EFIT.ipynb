{
 "cells": [
  {
   "cell_type": "code",
   "execution_count": 1,
   "metadata": {},
   "outputs": [],
   "source": [
    "#Standard Header used on the projects\n",
    "\n",
    "#first the major packages used for math and graphing\n",
    "import numpy as np\n",
    "import matplotlib.pyplot as plt\n",
    "from cycler import cycler\n",
    "\n",
    "\n",
    "#Custome graph format style sheet\n",
    "plt.style.use('Prospectus.mplstyle')\n",
    "\n",
    "#If being run by a seperate file, use the seperate file's graph format and saving paramaeters\n",
    "#otherwise set what is needed\n",
    "if not 'Saving' in locals():\n",
    "    Saving = True\n",
    "if not 'Titles' in locals():\n",
    "    Titles = True\n",
    "if not 'Ledgends' in locals():\n",
    "    Ledgends = True\n",
    "if not 'FFormat' in locals():\n",
    "    FFormat = '.eps'\n",
    "if not 'location' in locals():\n",
    "    #save location.  First one is for running on home PC, second for running on the work laptop.  May need to make a global change\n",
    "    location = 'E:\\\\Documents\\\\Dan\\\\Code\\\\FigsAndPlots\\\\FigsAndPlotsDocument\\\\Figures\\\\'\n",
    "    #location = 'C:\\\\Users\\\\dhendrickson\\\\Documents\\\\github\\\\FigsAndPlots\\\\FigsAndPlotsDocument\\\\Figures\\\\'\n",
    "\n"
   ]
  },
  {
   "cell_type": "code",
   "execution_count": 2,
   "metadata": {},
   "outputs": [],
   "source": [
    "# Task Specific includes:\n",
    "\n",
    "#import scipy.special as sp\n",
    "import math\n",
    "import matplotlib.animation as animation\n",
    "import time\n",
    "from numpy import inf\n",
    "# Choose which EFIT_Class to use:\n",
    "# import EFIT_Class as EFIT\n",
    "import EFIT_Class_StressLargerVelocity as EFIT\n",
    "# import EFIT_Class_OriginalEqualGrid as EFIT\n",
    "# import EFIT_Class_Parallel_EqualGrid as EFIT\n",
    "# import EFIT_Class_VelocityLargerStress as EFIT"
   ]
  },
  {
   "cell_type": "code",
   "execution_count": 3,
   "metadata": {},
   "outputs": [
    {
     "name": "stdout",
     "output_type": "stream",
     "text": [
      "5991.446895152781 3202.563076101743\n"
     ]
    }
   ],
   "source": [
    "# set Constants:\n",
    "PoissonRatio = 0.3\n",
    "YoungModulus = 20 * (10**9)\n",
    "mu = 80 * (10**9)         #First Lame Parameter\n",
    "lmbda = 2 * mu * PoissonRatio / (1 - 2 * PoissonRatio)     #second Lame Parameter\n",
    "rho = 7800       #density\n",
    "\n",
    "#Calculate speed of longitudinal and transverse waves\n",
    "cl = np.sqrt((lmbda + 2* mu)/rho)\n",
    "ct = np.sqrt(mu/rho)\n",
    "\n",
    "print(cl,ct)\n",
    "\n",
    "#Choose ferquency to be used for excitment\n",
    "frequency = 40000\n",
    "\n",
    "#calculate wave length\n",
    "omegal = cl / frequency\n",
    "omegat = ct / frequency\n",
    "\n",
    "# about 1foot (0.3m) of just the web of 175lbs rail \n",
    "BeamLength = 0.3\n",
    "BeamHeight = 0.0762\n",
    "BeamWidth = 0.0381"
   ]
  },
  {
   "cell_type": "code",
   "execution_count": 4,
   "metadata": {},
   "outputs": [],
   "source": [
    "#Run for 6 Cycles:\n",
    "runtime = 4.0 / frequency \n",
    "\n",
    "#Set time step and grid step to be 10 steps per frequency and ten steps per wavelength respectively\n",
    "ts = 1 / frequency / 20    #time step\n",
    "gs = min(omegal, omegat) / 10    #grid step\n",
    "\n",
    "Tsteps = int(math.ceil(runtime / ts)) + 1       #total Time STeps\n",
    "\n",
    "gl = int(math.ceil(BeamLength / gs)) *2        #number of grid points\n",
    "gh = int(math.ceil(BeamHeight / gs)) *2\n",
    "gw = int(math.ceil(BeamWidth / gs)) *2\n"
   ]
  },
  {
   "cell_type": "code",
   "execution_count": 5,
   "metadata": {},
   "outputs": [],
   "source": [
    "#Initialize EFIT Model\n",
    "Rail = EFIT.EFIT(gl, gh, gw, ts, gs)\n",
    "\n",
    "#Set Material Properties consitant througout\n",
    "Rail.Gp[0,:,:,:] = rho  #constant Density\n",
    "Rail.Gp[1,:,:,:] = lmbda #Constant first Lamee parameter \n",
    "Rail.Gp[2,:,:,:] = mu  #constant second Lamee parameter\n"
   ]
  },
  {
   "cell_type": "code",
   "execution_count": 6,
   "metadata": {},
   "outputs": [
    {
     "name": "stdout",
     "output_type": "stream",
     "text": [
      "1 of 80 time steps. time is: 1.25e-06\n",
      "2 of 80 time steps. time is: 2.5e-06\n",
      "3 of 80 time steps. time is: 3.7500000000000005e-06\n",
      "4 of 80 time steps. time is: 5e-06\n",
      "5 of 80 time steps. time is: 6.25e-06\n",
      "6 of 80 time steps. time is: 7.500000000000001e-06\n",
      "7 of 80 time steps. time is: 8.750000000000001e-06\n",
      "8 of 80 time steps. time is: 1e-05\n",
      "9 of 80 time steps. time is: 1.125e-05\n",
      "10 of 80 time steps. time is: 1.25e-05\n",
      "11 of 80 time steps. time is: 1.375e-05\n",
      "12 of 80 time steps. time is: 1.5000000000000002e-05\n",
      "13 of 80 time steps. time is: 1.6250000000000002e-05\n",
      "14 of 80 time steps. time is: 1.7500000000000002e-05\n",
      "15 of 80 time steps. time is: 1.8750000000000002e-05\n",
      "16 of 80 time steps. time is: 2e-05\n",
      "17 of 80 time steps. time is: 2.125e-05\n",
      "18 of 80 time steps. time is: 2.25e-05\n",
      "19 of 80 time steps. time is: 2.375e-05\n",
      "20 of 80 time steps. time is: 2.5e-05\n",
      "21 of 80 time steps. time is: 2.625e-05\n",
      "22 of 80 time steps. time is: 2.75e-05\n",
      "23 of 80 time steps. time is: 2.875e-05\n",
      "24 of 80 time steps. time is: 3.0000000000000004e-05\n",
      "25 of 80 time steps. time is: 3.125e-05\n",
      "26 of 80 time steps. time is: 3.2500000000000004e-05\n",
      "27 of 80 time steps. time is: 3.375e-05\n",
      "28 of 80 time steps. time is: 3.5000000000000004e-05\n",
      "29 of 80 time steps. time is: 3.625e-05\n",
      "30 of 80 time steps. time is: 3.7500000000000003e-05\n",
      "31 of 80 time steps. time is: 3.875e-05\n",
      "32 of 80 time steps. time is: 4e-05\n",
      "33 of 80 time steps. time is: 4.1250000000000007e-05\n",
      "34 of 80 time steps. time is: 4.25e-05\n",
      "35 of 80 time steps. time is: 4.3750000000000006e-05\n",
      "36 of 80 time steps. time is: 4.5e-05\n",
      "37 of 80 time steps. time is: 4.6250000000000006e-05\n",
      "38 of 80 time steps. time is: 4.75e-05\n",
      "39 of 80 time steps. time is: 4.8750000000000006e-05\n",
      "40 of 80 time steps. time is: 5e-05\n",
      "41 of 80 time steps. time is: 5.1250000000000006e-05\n",
      "42 of 80 time steps. time is: 5.25e-05\n",
      "43 of 80 time steps. time is: 5.3750000000000005e-05\n",
      "44 of 80 time steps. time is: 5.5e-05\n",
      "45 of 80 time steps. time is: 5.6250000000000005e-05\n",
      "46 of 80 time steps. time is: 5.75e-05\n",
      "47 of 80 time steps. time is: 5.8750000000000005e-05\n",
      "48 of 80 time steps. time is: 6.000000000000001e-05\n",
      "49 of 80 time steps. time is: 6.125000000000001e-05\n"
     ]
    },
    {
     "name": "stderr",
     "output_type": "stream",
     "text": [
      "e:\\Documents\\Dan\\Code\\3D_EFIT\\EFIT_Class_StressLargerVelocity.py:128: RuntimeWarning: overflow encountered in float_scalars\n",
      "  (Lame1*(self.Gv[0,x,y,z]-self.Gv[0,x-1,y,z]+self.Gv[2,x,y,z]-self.Gv[2,x,y,z-1])))\n",
      "e:\\Documents\\Dan\\Code\\3D_EFIT\\EFIT_Class_StressLargerVelocity.py:153: RuntimeWarning: overflow encountered in float_scalars\n",
      "  (Lame1*(self.Gv[0,x,y,z]-self.Gv[0,x-1,y,z]+self.Gv[1,x,y,z]-self.Gv[1,x,y-1,z])))\n"
     ]
    },
    {
     "name": "stdout",
     "output_type": "stream",
     "text": [
      "50 of 80 time steps. time is: 6.25e-05\n"
     ]
    },
    {
     "name": "stderr",
     "output_type": "stream",
     "text": [
      "e:\\Documents\\Dan\\Code\\3D_EFIT\\EFIT_Class_StressLargerVelocity.py:116: RuntimeWarning: overflow encountered in float_scalars\n",
      "  Lame1*(self.Gv[1,x,y,z]-self.Gv[1,x,y-1,z])\n",
      "e:\\Documents\\Dan\\Code\\3D_EFIT\\EFIT_Class_StressLargerVelocity.py:141: RuntimeWarning: overflow encountered in float_scalars\n",
      "  Lame1*(self.Gv[0,x,y,z]-self.Gv[0,x-1,y,z])\n"
     ]
    },
    {
     "name": "stdout",
     "output_type": "stream",
     "text": [
      "51 of 80 time steps. time is: 6.375e-05\n"
     ]
    },
    {
     "name": "stderr",
     "output_type": "stream",
     "text": [
      "e:\\Documents\\Dan\\Code\\3D_EFIT\\EFIT_Class_StressLargerVelocity.py:110: RuntimeWarning: overflow encountered in float_scalars\n",
      "  Lame1*(self.Gv[2,x,y,z]-self.Gv[2,x,y,z-1])\n",
      "e:\\Documents\\Dan\\Code\\3D_EFIT\\EFIT_Class_StressLargerVelocity.py:122: RuntimeWarning: overflow encountered in float_scalars\n",
      "  Lame1*(self.Gv[1,x,y,z]-self.Gv[1,x,y-1,z]+self.Gv[2,x,y,z]-self.Gv[2,x,y,z-1])\n",
      "e:\\Documents\\Dan\\Code\\3D_EFIT\\EFIT_Class_StressLargerVelocity.py:147: RuntimeWarning: overflow encountered in float_scalars\n",
      "  Lame1*(self.Gv[0,x,y,z]-self.Gv[0,x-1,y,z]+self.Gv[2,x,y,z]-self.Gv[2,x,y,z-1])\n"
     ]
    },
    {
     "name": "stdout",
     "output_type": "stream",
     "text": [
      "52 of 80 time steps. time is: 6.500000000000001e-05\n",
      "53 of 80 time steps. time is: 6.625000000000001e-05\n"
     ]
    },
    {
     "name": "stderr",
     "output_type": "stream",
     "text": [
      "e:\\Documents\\Dan\\Code\\3D_EFIT\\EFIT_Class_StressLargerVelocity.py:166: RuntimeWarning: overflow encountered in float_scalars\n",
      "  Lame1*(self.Gv[0,x,y,z]-self.Gv[0,x-1,y,z])\n",
      "e:\\Documents\\Dan\\Code\\3D_EFIT\\EFIT_Class_StressLargerVelocity.py:172: RuntimeWarning: overflow encountered in float_scalars\n",
      "  Lame1*(self.Gv[0,x,y,z]-self.Gv[0,x-1,y,z]+self.Gv[1,x,y,z]-self.Gv[1,x,y-1,z])\n"
     ]
    },
    {
     "name": "stdout",
     "output_type": "stream",
     "text": [
      "54 of 80 time steps. time is: 6.75e-05\n"
     ]
    },
    {
     "name": "stderr",
     "output_type": "stream",
     "text": [
      "e:\\Documents\\Dan\\Code\\3D_EFIT\\EFIT_Class_StressLargerVelocity.py:106: RuntimeWarning: invalid value encountered in float_scalars\n",
      "  Ds[0,0] = ((1.0/self.ds) * ((Lame1+2*Lame2)*(self.Gv[0,x,y,z]-self.Gv[0,x-1,y,z])))\n",
      "e:\\Documents\\Dan\\Code\\3D_EFIT\\EFIT_Class_StressLargerVelocity.py:128: RuntimeWarning: invalid value encountered in float_scalars\n",
      "  (Lame1*(self.Gv[0,x,y,z]-self.Gv[0,x-1,y,z]+self.Gv[2,x,y,z]-self.Gv[2,x,y,z-1])))\n",
      "e:\\Documents\\Dan\\Code\\3D_EFIT\\EFIT_Class_StressLargerVelocity.py:153: RuntimeWarning: invalid value encountered in float_scalars\n",
      "  (Lame1*(self.Gv[0,x,y,z]-self.Gv[0,x-1,y,z]+self.Gv[1,x,y,z]-self.Gv[1,x,y-1,z])))\n"
     ]
    },
    {
     "name": "stdout",
     "output_type": "stream",
     "text": [
      "55 of 80 time steps. time is: 6.875e-05\n"
     ]
    },
    {
     "name": "stderr",
     "output_type": "stream",
     "text": [
      "e:\\Documents\\Dan\\Code\\3D_EFIT\\EFIT_Class_StressLargerVelocity.py:279: RuntimeWarning: invalid value encountered in float_scalars\n",
      "  (self.Gs[0,0,x+1,y,z] - self.Gs[0,0,x,y,z] + self.Gs[0,1,x,y,z] - self.Gs[0,1,x,y-1,z] + self.Gs[0,2,x,y,z] -self.Gs[0,2,x,y,z-1])\n",
      "e:\\Documents\\Dan\\Code\\3D_EFIT\\EFIT_Class_StressLargerVelocity.py:115: RuntimeWarning: invalid value encountered in float_scalars\n",
      "  ((Lame1+2*Lame2)*(self.Gv[0,x,y,z]-self.Gv[0,x-1,y,z]) +\n",
      "e:\\Documents\\Dan\\Code\\3D_EFIT\\EFIT_Class_StressLargerVelocity.py:116: RuntimeWarning: invalid value encountered in float_scalars\n",
      "  Lame1*(self.Gv[1,x,y,z]-self.Gv[1,x,y-1,z])\n",
      "e:\\Documents\\Dan\\Code\\3D_EFIT\\EFIT_Class_StressLargerVelocity.py:140: RuntimeWarning: invalid value encountered in float_scalars\n",
      "  ((Lame1+2*Lame2)*(self.Gv[1,x,y,z]-self.Gv[1,x,y-1,z]) +\n",
      "e:\\Documents\\Dan\\Code\\3D_EFIT\\EFIT_Class_StressLargerVelocity.py:141: RuntimeWarning: invalid value encountered in float_scalars\n",
      "  Lame1*(self.Gv[0,x,y,z]-self.Gv[0,x-1,y,z])\n",
      "e:\\Documents\\Dan\\Code\\3D_EFIT\\EFIT_Class_StressLargerVelocity.py:198: RuntimeWarning: invalid value encountered in float_scalars\n",
      "  (self.Gv[0,x,y+1,z]-self.Gv[0,x,y,z] +self.Gv[1,x+1,y,z]-self.Gv[1,x,y,z] )\n",
      "e:\\Documents\\Dan\\Code\\3D_EFIT\\EFIT_Class_StressLargerVelocity.py:115: RuntimeWarning: invalid value encountered in double_scalars\n",
      "  ((Lame1+2*Lame2)*(self.Gv[0,x,y,z]-self.Gv[0,x-1,y,z]) +\n",
      "e:\\Documents\\Dan\\Code\\3D_EFIT\\EFIT_Class_StressLargerVelocity.py:140: RuntimeWarning: invalid value encountered in double_scalars\n",
      "  ((Lame1+2*Lame2)*(self.Gv[1,x,y,z]-self.Gv[1,x,y-1,z]) +\n"
     ]
    },
    {
     "name": "stdout",
     "output_type": "stream",
     "text": [
      "56 of 80 time steps. time is: 7.000000000000001e-05\n"
     ]
    },
    {
     "name": "stderr",
     "output_type": "stream",
     "text": [
      "e:\\Documents\\Dan\\Code\\3D_EFIT\\EFIT_Class_StressLargerVelocity.py:291: RuntimeWarning: invalid value encountered in float_scalars\n",
      "  (self.Gs[0,1,x,y,z] - self.Gs[0,1,x-1,y,z] + self.Gs[1,1,x,y+1,z] - self.Gs[1,1,x,y,z] + self.Gs[1,2,x,y,z] -self.Gs[1,2,x,y,z-1])\n"
     ]
    },
    {
     "name": "stdout",
     "output_type": "stream",
     "text": [
      "57 of 80 time steps. time is: 7.125000000000001e-05\n",
      "58 of 80 time steps. time is: 7.25e-05\n",
      "59 of 80 time steps. time is: 7.375e-05\n"
     ]
    },
    {
     "name": "stderr",
     "output_type": "stream",
     "text": [
      "e:\\Documents\\Dan\\Code\\3D_EFIT\\EFIT_Class_StressLargerVelocity.py:109: RuntimeWarning: invalid value encountered in float_scalars\n",
      "  ((Lame1+2*Lame2)*(self.Gv[0,x,y,z]-self.Gv[0,x-1,y,z]) +\n",
      "e:\\Documents\\Dan\\Code\\3D_EFIT\\EFIT_Class_StressLargerVelocity.py:166: RuntimeWarning: invalid value encountered in float_scalars\n",
      "  Lame1*(self.Gv[0,x,y,z]-self.Gv[0,x-1,y,z])\n"
     ]
    },
    {
     "name": "stdout",
     "output_type": "stream",
     "text": [
      "60 of 80 time steps. time is: 7.500000000000001e-05\n"
     ]
    },
    {
     "name": "stderr",
     "output_type": "stream",
     "text": [
      "e:\\Documents\\Dan\\Code\\3D_EFIT\\EFIT_Class_StressLargerVelocity.py:121: RuntimeWarning: invalid value encountered in float_scalars\n",
      "  ((Lame1+2*Lame2)*(self.Gv[0,x,y,z]-self.Gv[0,x-1,y,z]) +\n",
      "e:\\Documents\\Dan\\Code\\3D_EFIT\\EFIT_Class_StressLargerVelocity.py:122: RuntimeWarning: invalid value encountered in float_scalars\n",
      "  Lame1*(self.Gv[1,x,y,z]-self.Gv[1,x,y-1,z]+self.Gv[2,x,y,z]-self.Gv[2,x,y,z-1])\n",
      "e:\\Documents\\Dan\\Code\\3D_EFIT\\EFIT_Class_StressLargerVelocity.py:146: RuntimeWarning: invalid value encountered in float_scalars\n",
      "  ((Lame1+2*Lame2)*(self.Gv[1,x,y,z]-self.Gv[1,x,y-1,z]) +\n",
      "e:\\Documents\\Dan\\Code\\3D_EFIT\\EFIT_Class_StressLargerVelocity.py:147: RuntimeWarning: invalid value encountered in float_scalars\n",
      "  Lame1*(self.Gv[0,x,y,z]-self.Gv[0,x-1,y,z]+self.Gv[2,x,y,z]-self.Gv[2,x,y,z-1])\n",
      "e:\\Documents\\Dan\\Code\\3D_EFIT\\EFIT_Class_StressLargerVelocity.py:172: RuntimeWarning: invalid value encountered in float_scalars\n",
      "  Lame1*(self.Gv[0,x,y,z]-self.Gv[0,x-1,y,z]+self.Gv[1,x,y,z]-self.Gv[1,x,y-1,z])\n"
     ]
    },
    {
     "name": "stdout",
     "output_type": "stream",
     "text": [
      "61 of 80 time steps. time is: 7.625000000000001e-05\n"
     ]
    },
    {
     "name": "stderr",
     "output_type": "stream",
     "text": [
      "e:\\Documents\\Dan\\Code\\3D_EFIT\\EFIT_Class_StressLargerVelocity.py:303: RuntimeWarning: invalid value encountered in float_scalars\n",
      "  (self.Gs[0,2,x,y,z] - self.Gs[0,2,x-1,y,z] + self.Gs[1,2,x,y,z] - self.Gs[1,2,x,y-1,z] + self.Gs[2,2,x,y,z+1] -self.Gs[2,2,x,y,z])\n"
     ]
    },
    {
     "name": "stdout",
     "output_type": "stream",
     "text": [
      "62 of 80 time steps. time is: 7.75e-05\n"
     ]
    },
    {
     "name": "stderr",
     "output_type": "stream",
     "text": [
      "e:\\Documents\\Dan\\Code\\3D_EFIT\\EFIT_Class_StressLargerVelocity.py:322: RuntimeWarning: invalid value encountered in add\n",
      "  self.Gs[:,:,x,y,z] += delS[:,:] * self.ts\n"
     ]
    },
    {
     "name": "stdout",
     "output_type": "stream",
     "text": [
      "63 of 80 time steps. time is: 7.875e-05\n",
      "64 of 80 time steps. time is: 8e-05\n",
      "65 of 80 time steps. time is: 8.125000000000001e-05\n",
      "66 of 80 time steps. time is: 8.250000000000001e-05\n"
     ]
    },
    {
     "name": "stderr",
     "output_type": "stream",
     "text": [
      "e:\\Documents\\Dan\\Code\\3D_EFIT\\EFIT_Class_StressLargerVelocity.py:146: RuntimeWarning: invalid value encountered in double_scalars\n",
      "  ((Lame1+2*Lame2)*(self.Gv[1,x,y,z]-self.Gv[1,x,y-1,z]) +\n"
     ]
    },
    {
     "name": "stdout",
     "output_type": "stream",
     "text": [
      "67 of 80 time steps. time is: 8.375e-05\n",
      "68 of 80 time steps. time is: 8.5e-05\n",
      "69 of 80 time steps. time is: 8.625000000000001e-05\n",
      "70 of 80 time steps. time is: 8.750000000000001e-05\n",
      "71 of 80 time steps. time is: 8.875e-05\n",
      "72 of 80 time steps. time is: 9e-05\n"
     ]
    },
    {
     "name": "stderr",
     "output_type": "stream",
     "text": [
      "e:\\Documents\\Dan\\Code\\3D_EFIT\\EFIT_Class_StressLargerVelocity.py:121: RuntimeWarning: invalid value encountered in double_scalars\n",
      "  ((Lame1+2*Lame2)*(self.Gv[0,x,y,z]-self.Gv[0,x-1,y,z]) +\n"
     ]
    },
    {
     "name": "stdout",
     "output_type": "stream",
     "text": [
      "73 of 80 time steps. time is: 9.125000000000001e-05\n",
      "74 of 80 time steps. time is: 9.250000000000001e-05\n",
      "75 of 80 time steps. time is: 9.375e-05\n",
      "76 of 80 time steps. time is: 9.5e-05\n",
      "77 of 80 time steps. time is: 9.625000000000001e-05\n",
      "78 of 80 time steps. time is: 9.750000000000001e-05\n",
      "79 of 80 time steps. time is: 9.875e-05\n",
      "80 of 80 time steps. time is: 0.0001\n"
     ]
    }
   ],
   "source": [
    "#Run main function for time:\n",
    "CenterXResults = []\n",
    "CenterYResults = []\n",
    "CenterZResults = []\n",
    "\n",
    "t=0\n",
    "TempZ=Rail.VelocityCut(2)\n",
    "CenterZResults.append((TempZ,t))\n",
    "np.savetxt(str(t)+'.csv', TempZ, delimiter=\",\")\n",
    "\n",
    "for i in range(Tsteps - 1):\n",
    "    t = (i+1) * ts\n",
    "   \n",
    "    #update Velocity:\n",
    "    for x in range(gl):\n",
    "        for y in range(gh):\n",
    "            for z in range(gw):\n",
    "                Rail.UpdateVelocity(x,y,z)\n",
    "\n",
    "    #if i == 2: Rail.ForcingFunctionImpulse(10)\n",
    "    if i>=2 and i<=20:\n",
    "        Rail.ForcingFunctionWave(t, frequency, 100)\n",
    "    #else:\n",
    "    #    Rail.ForcingFunctionWave(t, frequency, 0)\n",
    "    \n",
    "    #Update Stresses at next half step:\n",
    "    for x in range(gl):\n",
    "        for y in range(gh):\n",
    "            for z in range(gw):\n",
    "                Rail.UpdateStresses(x,y,z)\n",
    "\n",
    "    print(str(i+1) + ' of ' + str(Tsteps-1) +' time steps. time is: '+ str(t))\n",
    "    TempZ=Rail.VelocityCut(2)\n",
    "    CenterZResults.append((TempZ,t))\n",
    "\n",
    "    # Store results mid process for latter animating\n",
    "    if i < 10 or i % 10 == 1:\n",
    "    \n",
    "\n",
    "        np.savetxt(str(i)+'V.csv', TempZ, delimiter=\",\")\n",
    "\n",
    "    #TempZ=Rail.StressCut(2,1,1)\n",
    "    #np.savetxt(str(i)+'S11.csv', TempZ, delimiter=\",\")\n",
    "    #TempZ=Rail.StressCut(2,1,0)\n",
    "        #np.savetxt(str(i)+'S10.csv', TempZ, delimiter=\",\")\n",
    "        #TempZ=Rail.StressCut(2,1,2)\n",
    "        #np.savetxt(str(i)+'S12.csv', TempZ, delimiter=\",\")\n",
    "        #TempZ=Rail.StressCut(2,0,0)\n",
    "        #np.savetxt(str(i)+'S00.csv', TempZ, delimiter=\",\")\n",
    "        #TempZ=Rail.StressCut(2,0,2)\n",
    "        #np.savetxt(str(i)+'S02.csv', TempZ, delimiter=\",\")\n",
    "        #TempZ=Rail.StressCut(2,2,2)\n",
    "        #np.savetxt(str(i)+'S22.csv', TempZ, delimiter=\",\")\n"
   ]
  },
  {
   "cell_type": "code",
   "execution_count": 7,
   "metadata": {},
   "outputs": [
    {
     "name": "stderr",
     "output_type": "stream",
     "text": [
      "C:\\Users\\Hendrickson\\AppData\\Local\\Programs\\Python\\Python310\\lib\\site-packages\\numpy\\core\\fromnumeric.py:1970: VisibleDeprecationWarning: Creating an ndarray from ragged nested sequences (which is a list-or-tuple of lists-or-tuples-or ndarrays with different lengths or shapes) is deprecated. If you meant to do this, you must specify 'dtype=object' when creating the ndarray.\n",
      "  result = asarray(a).shape\n",
      "MovieWriter ffmpeg unavailable; using Pillow instead.\n"
     ]
    },
    {
     "data": {
      "image/png": "[encoded data removed]",
      "text/plain": [
       "<Figure size 3600x914.4 with 1 Axes>"
      ]
     },
     "metadata": {},
     "output_type": "display_data"
    }
   ],
   "source": [
    "y = np.linspace(0, BeamLength, np.shape(CenterZResults[0][0])[1])\n",
    "x = np.linspace(0, BeamHeight, np.shape(CenterZResults[0][0])[0])\n",
    "x,y = np.meshgrid(x,y)\n",
    "\n",
    "fig = plt.figure(figsize=(6.0,BeamHeight/BeamLength*6.0))\n",
    "ax = plt.axes(xlim=(0, BeamHeight), ylim=(0, BeamLength))  \n",
    "plt.ylabel(r'height')\n",
    "plt.xlabel(r'length')\n",
    "\n",
    "# animation function\n",
    "def animate(i): \n",
    "    z = np.matrix(CenterZResults[i][0][:,:]).T\n",
    "    plt.title(str(i) + ' : ' + str(CenterZResults[i][1]))\n",
    "    cont = plt.contourf(x, y, z, levels=5, cmap='gray',vmin=-100, vmax=100)\n",
    "    time.sleep(1)\n",
    "    return cont  \n",
    "\n",
    "anim = animation.FuncAnimation(fig, animate, frames=np.shape(CenterZResults)[0])\n",
    "\n",
    "anim.save('animationZ.gif')"
   ]
  },
  {
   "cell_type": "code",
   "execution_count": 8,
   "metadata": {},
   "outputs": [
    {
     "data": {
      "text/plain": [
       "(array([[0.      , 0.001016, 0.002032, ..., 0.074168, 0.075184, 0.0762  ],\n",
       "        [0.      , 0.001016, 0.002032, ..., 0.074168, 0.075184, 0.0762  ],\n",
       "        [0.      , 0.001016, 0.002032, ..., 0.074168, 0.075184, 0.0762  ],\n",
       "        ...,\n",
       "        [0.      , 0.001016, 0.002032, ..., 0.074168, 0.075184, 0.0762  ],\n",
       "        [0.      , 0.001016, 0.002032, ..., 0.074168, 0.075184, 0.0762  ],\n",
       "        [0.      , 0.001016, 0.002032, ..., 0.074168, 0.075184, 0.0762  ]]),\n",
       " array([[0.        , 0.        , 0.        , ..., 0.        , 0.        ,\n",
       "         0.        ],\n",
       "        [0.01578947, 0.01578947, 0.01578947, ..., 0.01578947, 0.01578947,\n",
       "         0.01578947],\n",
       "        [0.03157895, 0.03157895, 0.03157895, ..., 0.03157895, 0.03157895,\n",
       "         0.03157895],\n",
       "        ...,\n",
       "        [0.26842105, 0.26842105, 0.26842105, ..., 0.26842105, 0.26842105,\n",
       "         0.26842105],\n",
       "        [0.28421053, 0.28421053, 0.28421053, ..., 0.28421053, 0.28421053,\n",
       "         0.28421053],\n",
       "        [0.3       , 0.3       , 0.3       , ..., 0.3       , 0.3       ,\n",
       "         0.3       ]]),\n",
       " 9,\n",
       " 76,\n",
       " 20,\n",
       " 10,\n",
       " (4, 77, 21, 11))"
      ]
     },
     "execution_count": 8,
     "metadata": {},
     "output_type": "execute_result"
    }
   ],
   "source": [
    "x,y,z, gl, gh, gw, np.shape(Rail.Gp)"
   ]
  }
 ],
 "metadata": {
  "interpreter": {
   "hash": "72674e6928aeb149b17451b3afa2eccc8eb91630257127848cb7dabc56ce48f2"
  },
  "kernelspec": {
   "display_name": "Python 3.8.10 64-bit ('base': conda)",
   "name": "python3"
  },
  "language_info": {
   "codemirror_mode": {
    "name": "ipython",
    "version": 3
   },
   "file_extension": ".py",
   "mimetype": "text/x-python",
   "name": "python",
   "nbconvert_exporter": "python",
   "pygments_lexer": "ipython3",
   "version": "3.10.0"
  }
 },
 "nbformat": 4,
 "nbformat_minor": 4
}
