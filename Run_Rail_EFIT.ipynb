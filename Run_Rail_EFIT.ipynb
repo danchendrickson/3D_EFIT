{
 "cells": [
  {
   "cell_type": "code",
   "execution_count": 1,
   "metadata": {},
   "outputs": [],
   "source": [
    "#Standard Header used on the projects\n",
    "\n",
    "#first the major packages used for math and graphing\n",
    "import numpy as np\n",
    "import matplotlib.pyplot as plt\n",
    "from cycler import cycler\n",
    "\n",
    "from joblib import Parallel, delayed\n",
    "\n",
    "#Custome graph format style sheet\n",
    "plt.style.use('Prospectus.mplstyle')\n",
    "\n",
    "#If being run by a seperate file, use the seperate file's graph format and saving paramaeters\n",
    "#otherwise set what is needed\n",
    "if not 'Saving' in locals():\n",
    "    Saving = True\n",
    "if not 'Titles' in locals():\n",
    "    Titles = True\n",
    "if not 'Ledgends' in locals():\n",
    "    Ledgends = True\n",
    "if not 'FFormat' in locals():\n",
    "    FFormat = '.eps'\n",
    "if not 'location' in locals():\n",
    "    #save location.  First one is for running on home PC, second for running on the work laptop.  May need to make a global change\n",
    "    location = 'E:\\\\Documents\\\\Dan\\\\Code\\\\FigsAndPlots\\\\FigsAndPlotsDocument\\\\Figures\\\\'\n",
    "    #location = 'C:\\\\Users\\\\dhendrickson\\\\Documents\\\\github\\\\FigsAndPlots\\\\FigsAndPlotsDocument\\\\Figures\\\\'\n",
    "\n"
   ]
  },
  {
   "cell_type": "code",
   "execution_count": 2,
   "metadata": {},
   "outputs": [],
   "source": [
    "# Task Specific includes:\n",
    "\n",
    "#import scipy.special as sp\n",
    "import math\n",
    "import matplotlib.animation as animation\n",
    "import time\n",
    "from numpy import inf\n",
    "# Choose which EFIT_Class to use:\n",
    "#import EFIT_Class as EFIT\n",
    "#import EFIT_Class_StressLargerVelocity as EFIT\n",
    "#import EFIT_Class_OrignalEqualGrid as EFIT\n",
    "#import EFIT_Class_Parallel_EqualGrid as EFIT\n",
    "#import EFIT_Class_VelocityLargerStress as EFIT\n",
    "#import EFIT_Class_OrignalEqualGrid_axisFlipper as EFIT\n",
    "import EFIT_Class_EqualGrid1eq as EFIT\n",
    "#import visvis as vv"
   ]
  },
  {
   "cell_type": "code",
   "execution_count": 3,
   "metadata": {},
   "outputs": [
    {
     "name": "stdout",
     "output_type": "stream",
     "text": [
      "8.622367091851726e-06 1.25e-06\n"
     ]
    }
   ],
   "source": [
    "# set Constants:\n",
    "PoissonRatio = 0.3\n",
    "YoungModulus = 20 * (10**9)\n",
    "mu = 80 * (10**9)         #First Lame Parameter\n",
    "lmbda = 2 * mu * PoissonRatio / (1 - 2 * PoissonRatio)     #second Lame Parameter\n",
    "rho = 7800       #density kg/m^3\n",
    "\n",
    "#Calculate speed of longitudinal and transverse waves\n",
    "cl = np.sqrt((lmbda + 2* mu)/rho)\n",
    "ct = np.sqrt(mu/rho)\n",
    "\n",
    "#Choose ferquency to be used for excitment\n",
    "frequency = 40000\n",
    "\n",
    "#calculate wave length\n",
    "omegal = cl / frequency\n",
    "omegat = ct / frequency\n",
    "\n",
    "#check max step size\n",
    "dtmax = 1/ (max(cl,ct) * np.sqrt(3/(min(omegal,omegat)/10)))\n",
    "\n",
    "\n",
    "# about 1foot (0.3m) of just the web of 175lbs rail \n",
    "# BeamLength = 0.3\n",
    "# BeamHeight = 0.0762\n",
    "# BeamWidth = 0.0381\n",
    "BeamLength = 0.04\n",
    "BeamHeight = 0.04\n",
    "BeamWidth = 0.04\n",
    "\n",
    "#Run for 6 Cycles:\n",
    "runtime = 8.0 / frequency \n",
    "\n",
    "#Set time step and grid step to be 10 steps per frequency and ten steps per wavelength respectively\n",
    "ts = (1 / frequency) / 20  #  5e-08  #time step\n",
    "gs = min(omegal, omegat) / 50    #grid step\n",
    "\n",
    "Tsteps = int(math.ceil(runtime / ts)) + 1       #total Time STeps\n",
    "\n",
    "gl = int(math.ceil(BeamLength / gs))         #number of grid points\n",
    "gh = int(math.ceil(BeamHeight / gs)) \n",
    "gw = int(math.ceil(BeamWidth / gs)) \n",
    "\n",
    "print(dtmax,ts)"
   ]
  },
  {
   "cell_type": "code",
   "execution_count": 4,
   "metadata": {},
   "outputs": [],
   "source": [
    "def makeAnimation(CenterZResults, title='Z'):\n",
    "    y = np.linspace(0, BeamHeight, np.shape(CenterZResults[0][0])[1])\n",
    "    x = np.linspace(0, BeamLength, np.shape(CenterZResults[0][0])[0])\n",
    "    x,y = np.meshgrid(x,y)\n",
    "\n",
    "    fig = plt.figure(figsize=(6.0,BeamHeight/BeamLength*6.0), dpi=100)\n",
    "    ax = plt.axes(xlim=(0, BeamLength), ylim=(0, BeamHeight))  \n",
    "    plt.ylabel(r'height')\n",
    "    plt.xlabel(r'length')\n",
    "\n",
    "    # animation function\n",
    "    def animate(i): \n",
    "        z = np.matrix(CenterZResults[i][0][:,:]).T\n",
    "        plt.title(str(i) + ' : ' + \"{:.3e}\".format(CenterZResults[i][1]))\n",
    "        cont = plt.contourf(x, y, z, levels=5, cmap='gray') #,vmin=-100, vmax=100)\n",
    "        #time.sleep(1)\n",
    "        return cont  \n",
    "\n",
    "    anim = animation.FuncAnimation(fig, animate, frames=np.shape(CenterZResults)[0])\n",
    "\n",
    "    anim.save('animation'+title+'.gif')"
   ]
  },
  {
   "cell_type": "code",
   "execution_count": 5,
   "metadata": {},
   "outputs": [],
   "source": [
    "# Inputs for forcing Function\n",
    "Power = 10          #not sure on unit yet, just something for now\n",
    "EmitterSize = 0.01  # meters, so 1 CM\n",
    "Dimmension = 2      # 2 is in the z axis \n",
    "Direction = 1       # 1 is on top going down\n",
    "CornerCut = 3       # how much of the corner is taken off of the square emitter\n",
    "StartStep = 2\n",
    "EndStep = 10"
   ]
  },
  {
   "cell_type": "code",
   "execution_count": 6,
   "metadata": {},
   "outputs": [],
   "source": [
    "#Run main function for time:\n",
    "def loooop(looooooping): \n",
    "    \n",
    "    lba=[]\n",
    "    Binary = str(int('{0:08b}'.format(looooooping))).zfill(3)\n",
    "    \n",
    "    lba = [int(Binary[0]),int(Binary[1]),int(Binary[2])]\n",
    "    \n",
    "    #[sx,sy,sz,vx,vy,vz] = lba #[1,1,1,1,1,1]\n",
    "    [sx,sy,sz] =np.multiply(lba,[-2,-2,-2])\n",
    "    sx+=1\n",
    "    sy+=1\n",
    "    sz+=1\n",
    "    \n",
    "    print(looooooping, sx, sy, sz)\n",
    "    \n",
    "    [vx,vy,vz]=[0,0,0]\n",
    "\n",
    "    #Initialize EFIT Model\n",
    "    Rail = EFIT.EFIT(gl, gw, gh, ts, gs) #, sx, sy, sz)\n",
    "\n",
    "    #Set Material Properties consitant througout\n",
    "    Rail.Gp[0,:,:,:] = rho  #constant Density\n",
    "    Rail.Gp[1,:,:,:] = lmbda #Constant first Lamee parameter \n",
    "    Rail.Gp[2,:,:,:] = mu  #constant second Lamee parameter\n",
    "\n",
    "    Rail.Gv[:,:,:,:]=0\n",
    "    Rail.Gs[:,:,:,:,:]=0\n",
    "\n",
    "    CenterXResults = []\n",
    "    CenterYResults = []\n",
    "    CenterZResults = []\n",
    "    # AllVelocities=[]\n",
    "    # VelocitiesX=[]\n",
    "    # VelocitiesY=[]\n",
    "    # VelocitiesZ=[]\n",
    "\n",
    "\n",
    "    t=0\n",
    "    CenterXResults.append((np.matrix(Rail.VelocityCut(0,2)),t))\n",
    "    CenterYResults.append((np.matrix(Rail.VelocityCut(1,2)),t))\n",
    "    CenterZResults.append((np.matrix(Rail.VelocityCut(2,2)),t))\n",
    "\n",
    "\n",
    "    for i in range(Tsteps - 1):\n",
    "        t = (i) * ts\n",
    "    \n",
    "        #update Velocity:\n",
    "        Rail.StepVelocities()\n",
    "        \n",
    "        if i >= StartStep and i <= EndStep: \n",
    "            #Rail.ForcingFunctionImpulse(Power,EmitterSize,Dimmension,Direction, CornerCut)\n",
    "            Rail.ForcingFunctionWave(t, frequency, 1, 0.005, 2, 2)\n",
    "        #else:\n",
    "        #    Rail.ForcingFunctionWave(t, frequency, 0)\n",
    "\n",
    "        #Update Stresses at next half step:\n",
    "        Rail.StepStresses()\n",
    "\n",
    "        \n",
    "        #print(str(i+1) + ' of ' + str(Tsteps-1) +' time steps. time is: '+ \"{:.3e}\".format(t)) #str(t))\n",
    "\n",
    "        #  Save off each time step the currrent state for anmication later\n",
    "        CenterXResults.append((np.matrix(Rail.VelocityCut(0,-1)),t))\n",
    "        CenterYResults.append((np.matrix(Rail.VelocityCut(1,-1)),t))\n",
    "        CenterZResults.append((np.matrix(Rail.VelocityCut(2,-1)),t))\n",
    "        # AllVelocities.append( Rail.VelocitySave())\n",
    "        # VelocitiesX.append(Rail.VelocitySave(0))\n",
    "        # VelocitiesY.append(Rail.VelocitySave(1))\n",
    "        # VelocitiesZ.append(Rail.VelocitySave(2))\n",
    "        \n",
    "        # Store results mid process for latter animating\n",
    "        #if i % 10 == 9:\n",
    "        #    print(str(i+1) + ' of ' + str(Tsteps-1) +' time steps. time is: '+ \"{:.3e}\".format(t)+' on loop '+str(looooooping)) #str(t))\n",
    "        \n",
    "        # Other data save out options at different time steps\n",
    "\n",
    "    makeAnimation(CenterXResults, 'tries3X  '+str(looooooping)) #+str(vx)+str(vy)+str(vz))\n",
    "    makeAnimation(CenterYResults, 'tries3Y  '+str(looooooping)) #+str(vx)+str(vy)+str(vz))\n",
    "    makeAnimation(CenterZResults, 'tries3Z  '+str(looooooping)) #+str(vx)+str(vy)+str(vz))\n",
    "\n",
    "    return CenterXResults,CenterYResults,CenterZResults\n"
   ]
  },
  {
   "cell_type": "code",
   "execution_count": 7,
   "metadata": {},
   "outputs": [
    {
     "name": "stdout",
     "output_type": "stream",
     "text": [
      "0 1 1 1\n"
     ]
    },
    {
     "name": "stderr",
     "output_type": "stream",
     "text": [
      "e:\\Documents\\Dan\\Code\\3D_EFIT\\EFIT_Class_EqualGrid1eq.py:478: RuntimeWarning: overflow encountered in add\n",
      "  Results = np.sqrt(Component0**2+Component1**2+Component2**2)\n",
      "e:\\Documents\\Dan\\Code\\3D_EFIT\\EFIT_Class_EqualGrid1eq.py:478: RuntimeWarning: overflow encountered in square\n",
      "  Results = np.sqrt(Component0**2+Component1**2+Component2**2)\n",
      "e:\\Documents\\Dan\\Code\\3D_EFIT\\EFIT_Class_EqualGrid1eq.py:113: RuntimeWarning: overflow encountered in double_scalars\n",
      "  Ds[i,i] =  ((self.ids) *\n",
      "e:\\Documents\\Dan\\Code\\3D_EFIT\\EFIT_Class_EqualGrid1eq.py:130: RuntimeWarning: overflow encountered in double_scalars\n",
      "  Ds[i,j] =  (self.ids) * (\n",
      "e:\\Documents\\Dan\\Code\\3D_EFIT\\EFIT_Class_EqualGrid1eq.py:170: RuntimeWarning: invalid value encountered in double_scalars\n",
      "  (self.Gs[0,i,x+iS[0],y+iS[1],z+iS[2]] - self.Gs[0,i,x+d[0,0],y+d[0,1],z+d[0,2]]) +\n",
      "e:\\Documents\\Dan\\Code\\3D_EFIT\\EFIT_Class_EqualGrid1eq.py:171: RuntimeWarning: invalid value encountered in double_scalars\n",
      "  (self.Gs[1,i,x+iS[0],y+iS[1],z+iS[2]] - self.Gs[1,i,x+d[1,0],y+d[1,1],z+d[1,2]]) +\n",
      "e:\\Documents\\Dan\\Code\\3D_EFIT\\EFIT_Class_EqualGrid1eq.py:172: RuntimeWarning: invalid value encountered in double_scalars\n",
      "  (self.Gs[2,i,x+iS[0],y+iS[1],z+iS[2]] - self.Gs[2,i,x+d[2,0],y+d[2,1],z+d[2,2]])\n",
      "e:\\Documents\\Dan\\Code\\3D_EFIT\\EFIT_Class_EqualGrid1eq.py:189: RuntimeWarning: invalid value encountered in double_scalars\n",
      "  self.Gs[j,i,x,y,z] +=  delS[j,i] * self.ts\n",
      "e:\\Documents\\Dan\\Code\\3D_EFIT\\EFIT_Class_EqualGrid1eq.py:137: RuntimeWarning: invalid value encountered in double_scalars\n",
      "  (self.Gv[i,x+h2[0],y+h2[1],z+h2[2]]-self.Gv[i,x,y,z]) +\n",
      "e:\\Documents\\Dan\\Code\\3D_EFIT\\EFIT_Class_EqualGrid1eq.py:138: RuntimeWarning: invalid value encountered in double_scalars\n",
      "  (self.Gv[j,x+h1[0],y+h1[1],z+h1[2]]-self.Gv[j,x,y,z])\n",
      "e:\\Documents\\Dan\\Code\\3D_EFIT\\EFIT_Class_EqualGrid1eq.py:116: RuntimeWarning: invalid value encountered in double_scalars\n",
      "  (self.Gv[((2+i)%3),x,y,z]-self.Gv[((2+i)%3),x+d2[0],y+d2[1],z+d2[2]]))\n",
      "e:\\Documents\\Dan\\Code\\3D_EFIT\\EFIT_Class_EqualGrid1eq.py:115: RuntimeWarning: invalid value encountered in double_scalars\n",
      "  Lame1*((self.Gv[((1+i)%3),x,y,z]-self.Gv[((1+i)%3),x+d1[0],y+d1[1],z+d1[2]])  +\n",
      "e:\\Documents\\Dan\\Code\\3D_EFIT\\EFIT_Class_EqualGrid1eq.py:114: RuntimeWarning: invalid value encountered in double_scalars\n",
      "  ((Lame1+2*Lame2)*(self.Gv[((0+i)%3),x,y,z]-self.Gv[((0+i)%3),x+d0[0],y+d0[1],z+d0[2]]) +\n",
      "c:\\Users\\Dan\\AppData\\Local\\Programs\\Python\\Python39\\lib\\site-packages\\numpy\\core\\fromnumeric.py:1970: VisibleDeprecationWarning: Creating an ndarray from ragged nested sequences (which is a list-or-tuple of lists-or-tuples-or ndarrays with different lengths or shapes) is deprecated. If you meant to do this, you must specify 'dtype=object' when creating the ndarray.\n",
      "  result = asarray(a).shape\n",
      "MovieWriter ffmpeg unavailable; using Pillow instead.\n",
      "c:\\Users\\Dan\\AppData\\Local\\Programs\\Python\\Python39\\lib\\site-packages\\numpy\\core\\fromnumeric.py:1970: VisibleDeprecationWarning: Creating an ndarray from ragged nested sequences (which is a list-or-tuple of lists-or-tuples-or ndarrays with different lengths or shapes) is deprecated. If you meant to do this, you must specify 'dtype=object' when creating the ndarray.\n",
      "  result = asarray(a).shape\n",
      "MovieWriter ffmpeg unavailable; using Pillow instead.\n",
      "c:\\Users\\Dan\\AppData\\Local\\Programs\\Python\\Python39\\lib\\site-packages\\numpy\\core\\fromnumeric.py:1970: VisibleDeprecationWarning: Creating an ndarray from ragged nested sequences (which is a list-or-tuple of lists-or-tuples-or ndarrays with different lengths or shapes) is deprecated. If you meant to do this, you must specify 'dtype=object' when creating the ndarray.\n",
      "  result = asarray(a).shape\n",
      "MovieWriter ffmpeg unavailable; using Pillow instead.\n"
     ]
    },
    {
     "data": {
      "image/png": "[encoded data removed]",
      "text/plain": [
       "<Figure size 600x600 with 1 Axes>"
      ]
     },
     "metadata": {},
     "output_type": "display_data"
    },
    {
     "data": {
      "image/png": "[encoded data removed]",
      "text/plain": [
       "<Figure size 600x600 with 1 Axes>"
      ]
     },
     "metadata": {},
     "output_type": "display_data"
    },
    {
     "data": {
      "image/png": "[encoded data removed]",
      "text/plain": [
       "<Figure size 600x600 with 1 Axes>"
      ]
     },
     "metadata": {},
     "output_type": "display_data"
    }
   ],
   "source": [
    "Results = loooop(0)\n",
    "#Results = Parallel(n_jobs=62)(delayed(loooop)(i) for i in range(8))\n",
    "#for i in range(8):\n",
    "#    Results = loooop(i)\n",
    "#    for j in range(20):\n",
    "#        print(np.sum(Results[0][j*8][0]),np.sum(Results[1][j*8][0]),np.sum(Results[2][j*8][0]))"
   ]
  },
  {
   "cell_type": "code",
   "execution_count": 8,
   "metadata": {},
   "outputs": [
    {
     "ename": "IndexError",
     "evalue": "tuple index out of range",
     "output_type": "error",
     "traceback": [
      "\u001b[1;31m---------------------------------------------------------------------------\u001b[0m",
      "\u001b[1;31mIndexError\u001b[0m                                Traceback (most recent call last)",
      "\u001b[1;32m~\\AppData\\Local\\Temp/ipykernel_15252/2062339026.py\u001b[0m in \u001b[0;36m<module>\u001b[1;34m\u001b[0m\n\u001b[0;32m      3\u001b[0m     \u001b[1;32mfor\u001b[0m \u001b[0mk\u001b[0m \u001b[1;32min\u001b[0m \u001b[0mrange\u001b[0m\u001b[1;33m(\u001b[0m\u001b[1;36m20\u001b[0m\u001b[1;33m)\u001b[0m\u001b[1;33m:\u001b[0m\u001b[1;33m\u001b[0m\u001b[1;33m\u001b[0m\u001b[0m\n\u001b[0;32m      4\u001b[0m         \u001b[0mj\u001b[0m\u001b[1;33m=\u001b[0m\u001b[0mk\u001b[0m\u001b[1;33m*\u001b[0m\u001b[1;36m8\u001b[0m\u001b[1;33m\u001b[0m\u001b[1;33m\u001b[0m\u001b[0m\n\u001b[1;32m----> 5\u001b[1;33m         \u001b[0mSummary\u001b[0m\u001b[1;33m.\u001b[0m\u001b[0mappend\u001b[0m\u001b[1;33m(\u001b[0m\u001b[1;33m[\u001b[0m\u001b[0mnp\u001b[0m\u001b[1;33m.\u001b[0m\u001b[0msum\u001b[0m\u001b[1;33m(\u001b[0m\u001b[0mResults\u001b[0m\u001b[1;33m[\u001b[0m\u001b[0mi\u001b[0m\u001b[1;33m]\u001b[0m\u001b[1;33m[\u001b[0m\u001b[1;36m0\u001b[0m\u001b[1;33m]\u001b[0m\u001b[1;33m[\u001b[0m\u001b[0mj\u001b[0m\u001b[1;33m]\u001b[0m\u001b[1;33m[\u001b[0m\u001b[1;36m0\u001b[0m\u001b[1;33m]\u001b[0m\u001b[1;33m)\u001b[0m\u001b[1;33m,\u001b[0m \u001b[0mnp\u001b[0m\u001b[1;33m.\u001b[0m\u001b[0msum\u001b[0m\u001b[1;33m(\u001b[0m\u001b[0mResults\u001b[0m\u001b[1;33m[\u001b[0m\u001b[0mi\u001b[0m\u001b[1;33m]\u001b[0m\u001b[1;33m[\u001b[0m\u001b[1;36m1\u001b[0m\u001b[1;33m]\u001b[0m\u001b[1;33m[\u001b[0m\u001b[0mj\u001b[0m\u001b[1;33m]\u001b[0m\u001b[1;33m[\u001b[0m\u001b[1;36m0\u001b[0m\u001b[1;33m]\u001b[0m\u001b[1;33m)\u001b[0m\u001b[1;33m,\u001b[0m \u001b[0mnp\u001b[0m\u001b[1;33m.\u001b[0m\u001b[0msum\u001b[0m\u001b[1;33m(\u001b[0m\u001b[0mResults\u001b[0m\u001b[1;33m[\u001b[0m\u001b[0mi\u001b[0m\u001b[1;33m]\u001b[0m\u001b[1;33m[\u001b[0m\u001b[1;36m2\u001b[0m\u001b[1;33m]\u001b[0m\u001b[1;33m[\u001b[0m\u001b[0mj\u001b[0m\u001b[1;33m]\u001b[0m\u001b[1;33m[\u001b[0m\u001b[1;36m0\u001b[0m\u001b[1;33m]\u001b[0m\u001b[1;33m)\u001b[0m\u001b[1;33m]\u001b[0m\u001b[1;33m)\u001b[0m\u001b[1;33m\u001b[0m\u001b[1;33m\u001b[0m\u001b[0m\n\u001b[0m",
      "\u001b[1;31mIndexError\u001b[0m: tuple index out of range"
     ]
    }
   ],
   "source": [
    "Summary = []\n",
    "for i in range(8):\n",
    "    for k in range(20):\n",
    "        j=k*8\n",
    "        Summary.append([np.sum(Results[i][0][j][0]), np.sum(Results[i][1][j][0]), np.sum(Results[i][2][j][0])])\n"
   ]
  },
  {
   "cell_type": "code",
   "execution_count": null,
   "metadata": {},
   "outputs": [],
   "source": [
    "str(int('{0:08b}'.format(2))).zfill(3)"
   ]
  },
  {
   "cell_type": "code",
   "execution_count": null,
   "metadata": {},
   "outputs": [],
   "source": [
    "np.shape(Results)"
   ]
  },
  {
   "cell_type": "code",
   "execution_count": null,
   "metadata": {},
   "outputs": [],
   "source": [
    "np.shape(Summary)"
   ]
  },
  {
   "cell_type": "code",
   "execution_count": null,
   "metadata": {},
   "outputs": [],
   "source": [
    "Summary"
   ]
  },
  {
   "cell_type": "code",
   "execution_count": null,
   "metadata": {},
   "outputs": [],
   "source": [
    "'''\n",
    "    \n",
    "        np.savetxt(str(i)+'V0.csv', Rail.VelocityCut(0), delimiter=\",\")\n",
    "        np.savetxt(str(i)+'V1.csv', Rail.VelocityCut(1), delimiter=\",\")\n",
    "        np.savetxt(str(i)+'V2.csv', Rail.VelocityCut(1), delimiter=\",\")\n",
    "        np.savetxt(str(i)+'S0.csv', Rail.StressCut(0,1,1), delimiter=\",\")\n",
    "        np.savetxt(str(i)+'S1.csv', Rail.StressCut(1,1,1), delimiter=\",\")\n",
    "        np.savetxt(str(i)+'S2.csv', Rail.StressCut(2,1,1), delimiter=\",\")\n",
    "\n",
    "    TempZ=Rail.StressCut(2,1,1)\n",
    "    np.savetxt(str(i)+'S11.csv', TempZ, delimiter=\",\")\n",
    "    TempZ=Rail.StressCut(2,1,0)\n",
    "        np.savetxt(str(i)+'S10.csv', TempZ, delimiter=\",\")\n",
    "        TempZ=Rail.StressCut(2,1,2)\n",
    "        np.savetxt(str(i)+'S12.csv', TempZ, delimiter=\",\")\n",
    "        TempZ=Rail.StressCut(2,0,0)\n",
    "        np.savetxt(str(i)+'S00.csv', TempZ, delimiter=\",\")\n",
    "        TempZ=Rail.StressCut(2,0,2)\n",
    "        np.savetxt(str(i)+'S02.csv', TempZ, delimiter=\",\")\n",
    "        TempZ=Rail.StressCut(2,2,2)\n",
    "        np.savetxt(str(i)+'S22.csv', TempZ, delimiter=\",\")\n",
    "    \n",
    "    \n",
    "    \n",
    "    x,y,z, Rail.MaxX, Rail.MaxY, Rail.MaxZ\n",
    "np.sqrt(Rail.Gv[2,1,:,:]**2+Rail.Gv[0,1,:,:]**2+Rail.Gv[1,1,:,:]**2)\n",
    "'''"
   ]
  },
  {
   "cell_type": "markdown",
   "metadata": {},
   "source": [
    "def ThreeDimmAnimate(FourDVector):\n",
    "    # create volumes, loading them into opengl memory, and insert into container.\n",
    "    f = vv.clf()\n",
    "    a = vv.gca()\n",
    "    m = vv.MotionDataContainer(a)\n",
    "\n",
    "    for vol in FourDVector:\n",
    "        t = vv.volshow(vol)\n",
    "        t.parent = m\n",
    "        t.colormap = vv.CM_HOT\n",
    "        # Remove comments to use iso-surface rendering\n",
    "        #t.renderStyle = 'iso'\n",
    "        #t.isoThreshold = 0.2\n",
    "\n",
    "    # set some settings\n",
    "    a.daspect = 1,1,-1\n",
    "    a.xLabel = 'x'\n",
    "    a.yLabel = 'y'\n",
    "    a.zLabel = 'z'\n",
    "\n",
    "    # Enter main loop\n",
    "    app = vv.use()\n",
    "    app.Run()"
   ]
  },
  {
   "cell_type": "code",
   "execution_count": null,
   "metadata": {},
   "outputs": [],
   "source": [
    "#ThreeDimmAnimate(AllVelocities)"
   ]
  },
  {
   "cell_type": "code",
   "execution_count": null,
   "metadata": {},
   "outputs": [],
   "source": [
    "#ThreeDimmAnimate(VelocitiesX)"
   ]
  },
  {
   "cell_type": "code",
   "execution_count": null,
   "metadata": {},
   "outputs": [],
   "source": [
    "#ThreeDimmAnimate(VelocitiesY)"
   ]
  },
  {
   "cell_type": "code",
   "execution_count": null,
   "metadata": {},
   "outputs": [],
   "source": [
    "#ThreeDimmAnimate(VelocitiesZ)"
   ]
  }
 ],
 "metadata": {
  "kernelspec": {
   "display_name": "Python 3.9.9 64-bit",
   "language": "python",
   "name": "python3"
  },
  "language_info": {
   "codemirror_mode": {
    "name": "ipython",
    "version": 3
   },
   "file_extension": ".py",
   "mimetype": "text/x-python",
   "name": "python",
   "nbconvert_exporter": "python",
   "pygments_lexer": "ipython3",
   "version": "3.9.9"
  },
  "vscode": {
   "interpreter": {
    "hash": "11c16a051206f53cf7fe024f12cacb318023d916d0a5509b7bf3391ee4b4163a"
   }
  }
 },
 "nbformat": 4,
 "nbformat_minor": 4
}
