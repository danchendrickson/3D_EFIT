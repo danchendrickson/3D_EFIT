{
 "cells": [
  {
   "cell_type": "markdown",
   "id": "008474b4",
   "metadata": {},
   "source": [
    "# Make Animation from pickels files"
   ]
  },
  {
   "cell_type": "code",
   "execution_count": 1,
   "id": "e2527925",
   "metadata": {},
   "outputs": [],
   "source": [
    "#Standard Header used on the projects\n",
    "\n",
    "#first the major packages used for math and graphing\n",
    "import numpy as np\n",
    "import matplotlib.pyplot as plt\n",
    "from cycler import cycler\n",
    "import platform\n",
    "from joblib import Parallel, delayed\n",
    "\n",
    "#Custome graph format style sheet\n",
    "#plt.style.use('Prospectus.mplstyle')\n",
    "\n",
    "#If being run by a seperate file, use the seperate file's graph format and saving paramaeters\n",
    "#otherwise set what is needed\n",
    "if not 'Saving' in locals():\n",
    "    Saving = True\n",
    "if not 'Titles' in locals():\n",
    "    Titles = True\n",
    "if not 'Ledgends' in locals():\n",
    "    Ledgends = True\n",
    "if not 'FFormat' in locals():\n",
    "    FFormat = '.eps'"
   ]
  },
  {
   "cell_type": "code",
   "execution_count": 2,
   "id": "f3c145d5",
   "metadata": {},
   "outputs": [],
   "source": [
    "import multiprocessing\n",
    "from joblib import Parallel, delayed\n",
    "num_jobs=30"
   ]
  },
  {
   "cell_type": "code",
   "execution_count": 3,
   "id": "d9696c71",
   "metadata": {},
   "outputs": [],
   "source": [
    "## Task specific imports\n",
    "import os as os\n",
    "#import keras.utils as image\n",
    "import glob\n",
    "from PIL import Image, ImageDraw\n",
    "import pickle"
   ]
  },
  {
   "cell_type": "code",
   "execution_count": 4,
   "id": "38afbc10",
   "metadata": {},
   "outputs": [],
   "source": [
    "import math\n",
    "import CoreFunctions as cf\n"
   ]
  },
  {
   "cell_type": "markdown",
   "id": "07395d66",
   "metadata": {},
   "source": [
    "## Choosing Platform\n",
    "Working is beinging conducted on several computers, and author needs to be able to run code on all without rewriting..  This segment of determines which computer is being used, and sets the directories accordingly."
   ]
  },
  {
   "cell_type": "code",
   "execution_count": 5,
   "id": "3c3a60b1",
   "metadata": {},
   "outputs": [],
   "source": [
    "HostName = platform.node()\n",
    "\n",
    "if HostName == \"Server\":\n",
    "    Computer = \"Desktop\"   \n",
    "elif HostName[-6:] == 'wm.edu':\n",
    "    Computer = \"SciClone\"\n",
    "elif HostName == \"SchoolLaptop\":\n",
    "    Computer = \"LinLap\"\n",
    "elif HostName == \"WTC-TAB-512\":\n",
    "    Computer = \"PortLap\"\n",
    "else:\n",
    "    Computer = \"WinLap\"\n",
    "    \n",
    "if Computer ==  \"SciClone\":\n",
    "    rootfolder = '/sciclone/scr10/dchendrickson01/EFIT/'\n",
    "    \n",
    "else:\n",
    "    asdfasdf"
   ]
  },
  {
   "cell_type": "markdown",
   "id": "c539f3a9",
   "metadata": {},
   "source": [
    "## Load data"
   ]
  },
  {
   "cell_type": "code",
   "execution_count": 6,
   "id": "e3735377",
   "metadata": {},
   "outputs": [],
   "source": [
    "Cases= [\n",
    "        'FlawTest1',\n",
    "        '20m10xTopHit',\n",
    "        'FlawTest0',\n",
    "        'FlawTest15a0',\n",
    "        'FlawTest15a1',\n",
    "        '20m10xTopHitForReal',\n",
    "        'BounceTest',\n",
    "        '20m10XRfRq',\n",
    "        'BounceTestBigger',\n",
    "        'ExtraBigTest',\n",
    "        '20m15xTopHit2',\n",
    "        'TestAbsorber' ,\n",
    "        '20m15xTopHit',\n",
    "        'TestAbsorberTies',\n",
    "        '20m15xLeftRub2',\n",
    "        'FlawRepeat',\n",
    "        'FlawRepeatRubbing'\n",
    "]\n"
   ]
  },
  {
   "cell_type": "code",
   "execution_count": 7,
   "id": "2fe00d18",
   "metadata": {},
   "outputs": [],
   "source": [
    "Case = Cases[12]\n",
    "\n",
    "\n",
    "CasesAtaTime = 2\n",
    "FilesAtTime = 5\n",
    "ProcessPerFile = 5\n",
    "Position = 0 #0 Energy, 1 X axis, 2 Y Axis, 3 X axis\n",
    "skips = 2 #1 every data point, or skip what modulous\n",
    "SkipToLaser = 10\n",
    "\n",
    "imFolder=rootfolder+Case+'/'\n",
    "fileNames = glob.glob(imFolder+'Movements*.p')\n",
    "\n",
    "Views=[]"
   ]
  },
  {
   "cell_type": "code",
   "execution_count": 8,
   "id": "aba4ac5d",
   "metadata": {},
   "outputs": [],
   "source": [
    "fileName = imFolder+'Parameters.p'\n",
    "\n",
    "file=open(fileName,'rb')\n",
    "Parameters=pickle.load(file)\n",
    "\n",
    "\n",
    "file.close()\n"
   ]
  },
  {
   "cell_type": "code",
   "execution_count": 9,
   "id": "77860caa",
   "metadata": {},
   "outputs": [],
   "source": [
    "xmax = Parameters[\"LargestXnode\"]\n",
    "ymax = Parameters[\"LargestYnode\"]\n",
    "zmax = Parameters[\"LargestZnode\"]\n",
    "gridStartWeb = Parameters[\"WidthStartWebNode\"]\n",
    "gridEndWeb = Parameters[\"WidthEndWebNode\"]\n",
    "gridEndFoot = Parameters[\"HeightEndFootNode\"]\n",
    "gridStartHead = Parameters[\"HeightStartHeadNode\"]\n",
    "gridStartHeadWidth = Parameters[\"WidthStartHeadNode\"]\n",
    "gridEndHeadWidth = Parameters[\"WidthEndHeadNode\"]\n",
    "DataBucketSize = Parameters[\"SaveEveryXStep\"]"
   ]
  },
  {
   "cell_type": "code",
   "execution_count": 10,
   "id": "8218f010",
   "metadata": {},
   "outputs": [
    {
     "data": {
      "text/plain": [
       "{'AirCut': False,\n",
       " 'RailShape': True,\n",
       " 'Flaw': False,\n",
       " 'Length': 20,\n",
       " 'Width': 0.1524,\n",
       " 'Height': 0.1524,\n",
       " 'SaveFolder': '/sciclone/scr10/dchendrickson01/EFIT/20m15xTopHit/',\n",
       " 'RunTitle': '20m Rail At 15x long for 1k FP Top Hit',\n",
       " 'TiesIncluded': 0,\n",
       " 'GridDesignFrequency': 74574,\n",
       " 'InputSignalFrequency': 16300,\n",
       " 'SimulationCycleLength': 60,\n",
       " 'ForcingFuctionNumber': 1,\n",
       " 'PerWheelForce': 173000,\n",
       " 'Wheel1Start': 15.2,\n",
       " 'PoisonsRatio': 0.29,\n",
       " 'YoungsModulous': 200000000000,\n",
       " 'MaterialDensity': 7800,\n",
       " 'LongitudinalWaveSpeed': 5796.653896162343,\n",
       " 'TransverseWaveSpeeed': 3152.519949406393,\n",
       " 'TimeStep': 3.3333027951074397e-07,\n",
       " 'GridStep': 0.003522809501754849,\n",
       " 'RunTime': 0.006130943831041114,\n",
       " 'TimeStepsSimLength': 18393,\n",
       " 'GridLengthNodes': 6000,\n",
       " 'GridWidthNodes': 45,\n",
       " 'GridHeightNodes': 45,\n",
       " 'LargestXnode': 5678,\n",
       " 'LargestYnode': 44,\n",
       " 'LargestZnode': 44,\n",
       " 'SaveEveryXStep': 100,\n",
       " 'HeightStartHeadNode': 29,\n",
       " 'WidthStartWebNode': 17,\n",
       " 'WidthEndWebNode': 27,\n",
       " 'HeightEndFootNode': 9,\n",
       " 'WidthStartHeadNode': 8,\n",
       " 'WidthEndHeadNode': 36,\n",
       " 'AbsorberLengthNodes': 101,\n",
       " 'AbsorptionPerNode': 0.5,\n",
       " 'ExpectedGoodData': 13576.298409016745,\n",
       " 'Density': 7800}"
      ]
     },
     "execution_count": 10,
     "metadata": {},
     "output_type": "execute_result"
    }
   ],
   "source": [
    "Parameters"
   ]
  },
  {
   "cell_type": "markdown",
   "id": "493191a0",
   "metadata": {},
   "source": [
    "## Specific Functions"
   ]
  },
  {
   "cell_type": "code",
   "execution_count": 11,
   "id": "012005d9",
   "metadata": {},
   "outputs": [],
   "source": [
    "def getPreStrippedData(fileName):\n",
    "    file=open(fileName,'rb')\n",
    "    temp = pickle.load(file)\n",
    "    file.close()\n",
    "    \n",
    "    return temp"
   ]
  },
  {
   "cell_type": "markdown",
   "id": "a89430da",
   "metadata": {},
   "source": [
    "## make all the frames of all the cases"
   ]
  },
  {
   "cell_type": "code",
   "execution_count": 12,
   "id": "68f629c3",
   "metadata": {},
   "outputs": [],
   "source": [
    "fileNames = glob.glob(imFolder+'Data*.p')"
   ]
  },
  {
   "cell_type": "code",
   "execution_count": 13,
   "id": "903daf3e",
   "metadata": {},
   "outputs": [],
   "source": [
    "for i in range(len(fileNames)):\n",
    "    print(i,fileNames[i].split('-')[1].split('.')[0])"
   ]
  },
  {
   "cell_type": "code",
   "execution_count": 14,
   "id": "f7de52eb",
   "metadata": {},
   "outputs": [],
   "source": [
    "fileIndex = 1\n"
   ]
  },
  {
   "cell_type": "code",
   "execution_count": 15,
   "id": "ff075c11",
   "metadata": {},
   "outputs": [
    {
     "ename": "IndexError",
     "evalue": "list index out of range",
     "output_type": "error",
     "traceback": [
      "\u001b[0;31m---------------------------------------------------------------------------\u001b[0m",
      "\u001b[0;31mIndexError\u001b[0m                                Traceback (most recent call last)",
      "Cell \u001b[0;32mIn[15], line 1\u001b[0m\n\u001b[0;32m----> 1\u001b[0m Data \u001b[38;5;241m=\u001b[39m getPreStrippedData(fileNames[fileIndex])\n",
      "\u001b[0;31mIndexError\u001b[0m: list index out of range"
     ]
    }
   ],
   "source": [
    "Data = getPreStrippedData(fileNames[fileIndex])"
   ]
  },
  {
   "cell_type": "code",
   "execution_count": null,
   "id": "e6cc7c35",
   "metadata": {},
   "outputs": [],
   "source": [
    "#fileName = imFolder+'SavePlane.p'\n",
    "#\n",
    "#file=open(fileName,'rb')\n",
    "#Data=pickle.load(file)\n",
    "#\n",
    "#file.close()"
   ]
  },
  {
   "cell_type": "code",
   "execution_count": null,
   "id": "da584181",
   "metadata": {},
   "outputs": [],
   "source": [
    "Data.shape"
   ]
  },
  {
   "cell_type": "markdown",
   "id": "4641bc93",
   "metadata": {},
   "source": [
    "Data = np.nan_to_num(Data, copy=True, nan=0.0, posinf=1.0, neginf=1.0)"
   ]
  },
  {
   "cell_type": "code",
   "execution_count": null,
   "id": "b69b4c38",
   "metadata": {},
   "outputs": [],
   "source": [
    "xs = 0\n",
    "xe = Data.shape[0]\n",
    "ts = 0\n",
    "te = Data.shape[2]\n",
    "tt = 1\n",
    "\n",
    "EMin = np.nanmin(Data[xs:xe,:,ts:te])\n",
    "EMax = np.nanmax(Data[xs:xe,:,ts:te])"
   ]
  },
  {
   "cell_type": "code",
   "execution_count": null,
   "id": "e8cc325b",
   "metadata": {},
   "outputs": [],
   "source": [
    "v = np.linspace(EMin, EMax, 30, endpoint=True)[0:20]"
   ]
  },
  {
   "cell_type": "code",
   "execution_count": null,
   "id": "1b738635",
   "metadata": {},
   "outputs": [],
   "source": [
    "fig = plt.figure(figsize=(3,3), dpi=600)\n",
    "t = 5000\n",
    "plt.contourf(Data[:,:,t].T, cmap=plt.cm.jet)\n",
    "#plt.title('Y Displacement at time step 5000 4 nodes from end')\n",
    "plt.show()"
   ]
  },
  {
   "cell_type": "code",
   "execution_count": null,
   "id": "37f1965d",
   "metadata": {},
   "outputs": [],
   "source": [
    "row = 20"
   ]
  },
  {
   "cell_type": "code",
   "execution_count": null,
   "id": "f050ac24",
   "metadata": {
    "scrolled": true
   },
   "outputs": [],
   "source": [
    "for i in range(Data.shape[0]):\n",
    "    print(i,Data[i,row,t])"
   ]
  },
  {
   "cell_type": "code",
   "execution_count": null,
   "id": "3677f607",
   "metadata": {},
   "outputs": [],
   "source": [
    "CS = 11\n",
    "CE = 18\n",
    "\n",
    "CS=17\n",
    "CE=27\n",
    "\n",
    "#CS=8\n",
    "#CE=36\n",
    "\n",
    "#CS = 1000\n",
    "#CE = 5000"
   ]
  },
  {
   "cell_type": "code",
   "execution_count": null,
   "id": "fb05b42a",
   "metadata": {},
   "outputs": [],
   "source": [
    "fig = plt.figure()\n",
    "plt.plot(Data[CS-1:CE+2,row,t])\n",
    "plt.show()"
   ]
  },
  {
   "cell_type": "code",
   "execution_count": null,
   "id": "19ce6b25",
   "metadata": {},
   "outputs": [],
   "source": [
    "fig = plt.figure()\n",
    "plt.plot(Data[22,2:41,t])\n",
    "plt.show()"
   ]
  },
  {
   "cell_type": "code",
   "execution_count": null,
   "id": "9c57c1a3",
   "metadata": {},
   "outputs": [],
   "source": [
    "fig = plt.figure(figsize=(6,4),dpi=600)\n",
    "plt.plot(Data[CS,row,:15000],label='Right')\n",
    "plt.plot(Data[CE,row,:15000],label='Left')\n",
    "plt.plot(Data[CS,row,:12500]-Data[CE,row,:12500], label='Difference')\n",
    "plt.legend()\n",
    "plt.show()"
   ]
  },
  {
   "cell_type": "code",
   "execution_count": null,
   "id": "7b132186",
   "metadata": {},
   "outputs": [],
   "source": [
    "TailAverage = np.average(Data[CS,row,11000:15000])\n",
    "Temp=np.zeros(15000)\n",
    "Temp[:8500]= Data[CS,row,:8500]\n",
    "for i in np.linspace(8000,10500,2501,dtype=int):\n",
    "    Temp[i] = Data[CS,row,i]-((TailAverage/2500)*(i-8000))\n",
    "Temp[10500:]=Data[CS,row,10500:15000]-TailAverage"
   ]
  },
  {
   "cell_type": "code",
   "execution_count": null,
   "id": "0d0b262e",
   "metadata": {},
   "outputs": [],
   "source": [
    "fig = plt.figure(figsize=(6,4),dpi=600)\n",
    "#plt.plot(Temp)\n",
    "#plt.plot(Data[CE,row,:15000],label='Left')\n",
    "#plt.plot(Data[CS,row,:15000]-Data[CE,row,:15000], label='Difference')\n",
    "plt.plot(cf.Smoothing(Data[CS,row,start:end].T,3))\n",
    "#plt.legend()\n",
    "plt.show()"
   ]
  },
  {
   "cell_type": "code",
   "execution_count": null,
   "id": "98bc73ff",
   "metadata": {},
   "outputs": [],
   "source": [
    "sr = 15\n",
    "SampledS = np.zeros((int(len(Data[CS,row,:])/sr)))\n",
    "SampledE = np.zeros((int(len(Data[CS,row,:])/sr)))\n",
    "SampledD = np.zeros((int(len(Data[CS,row,:])/sr)))\n",
    "for i in range(len(SampledS)):\n",
    "    SampledS[i]=np.average(Data[CS,row,i*sr:i*sr+sr])\n",
    "    SampledE[i]=np.average(Data[CE,row,i*sr:i*sr+sr])\n",
    "    SampledD[i]=np.average(Data[CS,row,i*sr:i*sr+sr]-Data[CE,row,i*sr:i*sr+sr])\n",
    "SampledS = cf.Smoothing(SampledS,3)\n",
    "SampledE = cf.Smoothing(SampledE,3)\n",
    "SampledD = cf.Smoothing(SampledD,3)\n"
   ]
  },
  {
   "cell_type": "markdown",
   "id": "df75b738",
   "metadata": {},
   "source": [
    "## FingerPrinting"
   ]
  },
  {
   "cell_type": "code",
   "execution_count": null,
   "id": "f8649418",
   "metadata": {},
   "outputs": [],
   "source": [
    "Wvlt = 'db3'\n",
    "NumScales=50\n",
    "start = 0\n",
    "end = 14000\n",
    "ss = 1"
   ]
  },
  {
   "cell_type": "code",
   "execution_count": null,
   "id": "2761f926",
   "metadata": {
    "scrolled": true
   },
   "outputs": [],
   "source": [
    "TP1 = cf.getThumbprint2(SampledE, wvt=Wvlt, ns=NumScales, scalespace = ss, numslices=6, slicethickness=0.12, \n",
    "                  valleysorpeaks='both', normconstant=1, plot=True)\n",
    "fig = plt.figure(figsize=(10,3), dpi=300)\n",
    "\n",
    "plt.contourf(TP1.T, cmap='gist_gray')\n",
    "#plt.title('Test')\n",
    "plt.show()\n"
   ]
  },
  {
   "cell_type": "code",
   "execution_count": null,
   "id": "e9569d7e",
   "metadata": {},
   "outputs": [],
   "source": [
    "TP1 = cf.getThumbprint2(cf.Smoothing(Data[CS,row,start:end].T,3), wvt=Wvlt, ns=NumScales, \n",
    "                        scalespace = sr, numslices=6, slicethickness=0.12, \n",
    "                        valleysorpeaks='both', normconstant=1, plot=True)\n",
    "fig = plt.figure(figsize=(10,3), dpi=300)\n",
    "\n",
    "plt.contourf(TP1.T, cmap='gist_gray')\n",
    "plt.show()\n"
   ]
  },
  {
   "cell_type": "code",
   "execution_count": null,
   "id": "1241017a",
   "metadata": {},
   "outputs": [],
   "source": [
    "TPD = cf.getThumbprint2(cf.Smoothing(Data[CS,row,start:]-Data[CE,row,start:],3), wvt=Wvlt, ns=50, \n",
    "                        scalespace = 10, numslices=15, slicethickness=0.12, \n",
    "                        valleysorpeaks='both', normconstant=1, plot=True)\n",
    "fig = plt.figure(figsize=(10,3), dpi=300)\n",
    "\n",
    "plt.contourf(TPD.T, cmap='gist_gray')\n",
    "plt.title('Test')\n",
    "plt.show()"
   ]
  },
  {
   "cell_type": "markdown",
   "id": "8ba84a16",
   "metadata": {},
   "source": [
    "## Make Gif\n"
   ]
  },
  {
   "cell_type": "code",
   "execution_count": null,
   "id": "be7e7156",
   "metadata": {},
   "outputs": [],
   "source": [
    "from PIL import Image\n",
    "import glob"
   ]
  },
  {
   "cell_type": "code",
   "execution_count": null,
   "id": "74b5d0ac",
   "metadata": {},
   "outputs": [],
   "source": [
    "from joblib import Parallel, delayed\n",
    "num_jobs=15"
   ]
  },
  {
   "cell_type": "code",
   "execution_count": null,
   "id": "f96d1bf1",
   "metadata": {},
   "outputs": [],
   "source": [
    "def MakeImages(i):\n",
    "    fig = plt.figure(figsize=(4,4), dpi=150)\n",
    "    plt.axis('off')\n",
    "    plt.contourf(Data[xs:xe,:,i].T, v, cmap=plt.cm.jet)\n",
    "    plt.title(i)\n",
    "    plt.savefig(imFolder+'qAni2/Image_'+str(i).zfill(5)+'.png')\n",
    "    #plt.show()\n",
    "    plt.close()\n",
    "    return i"
   ]
  },
  {
   "cell_type": "code",
   "execution_count": null,
   "id": "19015ef1",
   "metadata": {},
   "outputs": [],
   "source": [
    "ts = 2000\n",
    "te = np.shape(Data[xs:xe,:,:])[2]\n",
    "tt = 10"
   ]
  },
  {
   "cell_type": "code",
   "execution_count": null,
   "id": "0bdecb1d",
   "metadata": {},
   "outputs": [],
   "source": [
    "Sets = np.arange(ts,te,tt)\n",
    "temp = Parallel(n_jobs=num_jobs)(delayed(MakeImages)(i) for i in Sets)\n",
    "    "
   ]
  },
  {
   "cell_type": "code",
   "execution_count": null,
   "id": "b95408fe",
   "metadata": {},
   "outputs": [],
   "source": [
    "# Create the frames\n",
    "frames = []\n",
    "png_images = glob.glob(imFolder+'qAni2/*.png')"
   ]
  },
  {
   "cell_type": "code",
   "execution_count": null,
   "id": "a5d55247",
   "metadata": {},
   "outputs": [],
   "source": [
    "png_images.sort()"
   ]
  },
  {
   "cell_type": "code",
   "execution_count": null,
   "id": "2a028f03",
   "metadata": {},
   "outputs": [],
   "source": [
    "len(png_images)"
   ]
  },
  {
   "cell_type": "code",
   "execution_count": null,
   "id": "9143c6d4",
   "metadata": {},
   "outputs": [],
   "source": [
    "for image_path in png_images:\n",
    "    new_frame = Image.open(image_path)\n",
    "    frames.append(new_frame)\n",
    "\n",
    "# Save the PNG images into a GIF file that loops forever\n",
    "frames[0].save(imFolder+'QuickAnimation.gif', format='GIF', append_images=frames[1:], save_all=True, duration=10, loop=0)"
   ]
  },
  {
   "cell_type": "markdown",
   "id": "40bf97f3",
   "metadata": {},
   "source": [
    "## Tangent 2"
   ]
  },
  {
   "cell_type": "code",
   "execution_count": null,
   "id": "8bde8e39",
   "metadata": {},
   "outputs": [],
   "source": [
    "fig = plt.figure(figsize=(6,4),dpi=600)\n",
    "#plt.plot(SampledS,label='Left')\n",
    "#plt.plot(SampledE,label='Right')\n",
    "plt.plot(SampledD,label='Difference')\n",
    "\n",
    "plt.legend()\n",
    "plt.show()"
   ]
  },
  {
   "cell_type": "code",
   "execution_count": null,
   "id": "b90b94bb",
   "metadata": {},
   "outputs": [],
   "source": []
  },
  {
   "cell_type": "code",
   "execution_count": null,
   "id": "c52652d3",
   "metadata": {},
   "outputs": [],
   "source": [
    "AverageRange = 250\n",
    "StepRange = 125\n",
    "RollingAverage = np.zeros(len(SampledS))\n",
    "for i in range(len(SampledS)-AverageRange):\n",
    "    RollingAverage[i+AverageRange]=np.average(SampledS[i-StepRange:i+StepRange])"
   ]
  },
  {
   "cell_type": "code",
   "execution_count": null,
   "id": "9f0fff37",
   "metadata": {},
   "outputs": [],
   "source": [
    "RollingAverage.shape"
   ]
  },
  {
   "cell_type": "code",
   "execution_count": null,
   "id": "c3847c01",
   "metadata": {
    "scrolled": true
   },
   "outputs": [],
   "source": [
    "fig = plt.figure(figsize=(6,4),dpi=600)\n",
    "#plt.plot(SampledS,label='Left')\n",
    "plt.plot(RollingAverage,label='avg')\n",
    "plt.plot(SampledS-RollingAverage,label='Corrected')\n",
    "#plt.plot(SampledD,label='Difference')\n",
    "\n",
    "plt.legend()\n",
    "plt.show()"
   ]
  }
 ],
 "metadata": {
  "kernelspec": {
   "display_name": "torchmpi",
   "language": "python",
   "name": "torchmpi"
  },
  "language_info": {
   "codemirror_mode": {
    "name": "ipython",
    "version": 3
   },
   "file_extension": ".py",
   "mimetype": "text/x-python",
   "name": "python",
   "nbconvert_exporter": "python",
   "pygments_lexer": "ipython3",
   "version": "3.11.4"
  }
 },
 "nbformat": 4,
 "nbformat_minor": 5
}
